{
 "cells": [
  {
   "cell_type": "code",
   "execution_count": 37,
   "id": "c346f03a",
   "metadata": {},
   "outputs": [],
   "source": [
    "import numpy as np\n",
    "import matplotlib.pyplot as plt\n",
    "from matplotlib import rc\n",
    "import os.path as path\n",
    "import wget\n",
    "import random\n",
    "from tqdm import tqdm\n",
    "from scipy.stats import norm"
   ]
  },
  {
   "cell_type": "code",
   "execution_count": 2,
   "id": "fd4134a6",
   "metadata": {},
   "outputs": [
    {
     "name": "stdout",
     "output_type": "stream",
     "text": [
      "--- File loaded ---\n"
     ]
    }
   ],
   "source": [
    "!rm data.dat\n",
    "file = 'data.dat'\n",
    "url = 'https://raw.githubusercontent.com/asegura4488/DataBase/main/MetodosComputacionalesReforma/Matematicas.txt'\n",
    "if not path.exists(file):\n",
    "    Path_ = wget.download(url,file)\n",
    "    print('--- File loaded ---')"
   ]
  },
  {
   "cell_type": "code",
   "execution_count": 3,
   "id": "6b5b91f7",
   "metadata": {},
   "outputs": [],
   "source": [
    "data = np.loadtxt(Path_)\n",
    "data = np.array(data)"
   ]
  },
  {
   "cell_type": "code",
   "execution_count": 4,
   "id": "e93407c6",
   "metadata": {},
   "outputs": [
    {
     "name": "stdout",
     "output_type": "stream",
     "text": [
      "75.25\n"
     ]
    }
   ],
   "source": [
    "mean1 = np.mean(data)\n",
    "print(mean1)"
   ]
  },
  {
   "cell_type": "code",
   "execution_count": 5,
   "id": "ce667640",
   "metadata": {},
   "outputs": [
    {
     "name": "stdout",
     "output_type": "stream",
     "text": [
      "75.0\n"
     ]
    }
   ],
   "source": [
    "mean2 = np.percentile(data,50)\n",
    "print(mean2)"
   ]
  },
  {
   "cell_type": "code",
   "execution_count": 6,
   "id": "78c7943b",
   "metadata": {},
   "outputs": [
    {
     "name": "stdout",
     "output_type": "stream",
     "text": [
      "[50 54 58 62 66 70 74 78 82 86 90 94 98]\n",
      "[ 1  1  6  9  7  9 16 10  7  6  3  5]\n"
     ]
    }
   ],
   "source": [
    "# Necesitamos calcular las frecuencias en un histograma\n",
    "bins_ = np.arange(50,99,4)\n",
    "print(bins_)\n",
    "\n",
    "h, bins = np.histogram(data,bins=bins_)\n",
    "w = np.diff(bins) # Ancho de clase\n",
    "print(h)"
   ]
  },
  {
   "cell_type": "code",
   "execution_count": 7,
   "id": "3c687bc3",
   "metadata": {},
   "outputs": [
    {
     "data": {
      "text/plain": [
       "<BarContainer object of 12 artists>"
      ]
     },
     "execution_count": 7,
     "metadata": {},
     "output_type": "execute_result"
    },
    {
     "data": {
      "image/png": "[encoded data removed]",
      "text/plain": [
       "<Figure size 432x432 with 1 Axes>"
      ]
     },
     "metadata": {
      "needs_background": "light"
     },
     "output_type": "display_data"
    }
   ],
   "source": [
    "fig = plt.figure(figsize=(6,6))\n",
    "ax = fig.add_subplot(1,1,1)\n",
    "ax.bar(bins[:-1],h,color='b',width=w,ec='k', alpha = 0.3)"
   ]
  },
  {
   "cell_type": "markdown",
   "id": "eaa51f73",
   "metadata": {},
   "source": [
    "# Calculando la distribución acumulada"
   ]
  },
  {
   "cell_type": "code",
   "execution_count": 8,
   "id": "5ed2f80d",
   "metadata": {},
   "outputs": [],
   "source": [
    "def GetCumulative(h):\n",
    "    \n",
    "    cum = np.zeros( len(h) +1 )\n",
    "    cumprob = np.zeros( len(h) +1 )\n",
    "    \n",
    "    integral = np.sum(h)\n",
    "    \n",
    "    temp = 0.\n",
    "    \n",
    "    for i in range(len(h)):\n",
    "        \n",
    "        temp += h[i]\n",
    "        \n",
    "        cum[i+1] = temp\n",
    "        cumprob[i+1] = temp/integral\n",
    "        \n",
    "    return cum, cumprob"
   ]
  },
  {
   "cell_type": "code",
   "execution_count": 9,
   "id": "ff642e31",
   "metadata": {},
   "outputs": [],
   "source": [
    "cum, cumprob = GetCumulative(h)"
   ]
  },
  {
   "cell_type": "code",
   "execution_count": null,
   "id": "4c7c7709",
   "metadata": {},
   "outputs": [],
   "source": []
  },
  {
   "cell_type": "code",
   "execution_count": 10,
   "id": "67160de8",
   "metadata": {},
   "outputs": [
    {
     "data": {
      "text/plain": [
       "[<matplotlib.lines.Line2D at 0x7f25f75cc730>]"
      ]
     },
     "execution_count": 10,
     "metadata": {},
     "output_type": "execute_result"
    },
    {
     "data": {
      "image/png": "[encoded data removed]",
      "text/plain": [
       "<Figure size 432x288 with 1 Axes>"
      ]
     },
     "metadata": {
      "needs_background": "light"
     },
     "output_type": "display_data"
    }
   ],
   "source": [
    "plt.plot(bins_,cum)"
   ]
  },
  {
   "cell_type": "code",
   "execution_count": 11,
   "id": "8a3302c7",
   "metadata": {},
   "outputs": [
    {
     "data": {
      "text/plain": [
       "[<matplotlib.lines.Line2D at 0x7f25f75b2430>]"
      ]
     },
     "execution_count": 11,
     "metadata": {},
     "output_type": "execute_result"
    },
    {
     "data": {
      "image/png": "[encoded data removed]",
      "text/plain": [
       "<Figure size 432x288 with 1 Axes>"
      ]
     },
     "metadata": {
      "needs_background": "light"
     },
     "output_type": "display_data"
    }
   ],
   "source": [
    "plt.plot(bins_,cumprob)"
   ]
  },
  {
   "cell_type": "code",
   "execution_count": 12,
   "id": "eb202674",
   "metadata": {},
   "outputs": [
    {
     "name": "stdout",
     "output_type": "stream",
     "text": [
      "0 0.0 0.0 50\n",
      "1 1.0 0.0125 54\n",
      "2 2.0 0.025 58\n",
      "3 8.0 0.1 62\n",
      "4 17.0 0.2125 66\n",
      "5 24.0 0.3 70\n",
      "6 33.0 0.4125 74\n",
      "7 49.0 0.6125 78\n",
      "8 59.0 0.7375 82\n",
      "9 66.0 0.825 86\n",
      "10 72.0 0.9 90\n",
      "11 75.0 0.9375 94\n",
      "12 80.0 1.0 98\n"
     ]
    }
   ],
   "source": [
    "for i in range(len(cum)):\n",
    "    print(i,cum[i],cumprob[i],bins_[i])"
   ]
  },
  {
   "cell_type": "code",
   "execution_count": 13,
   "id": "5f5aca85",
   "metadata": {},
   "outputs": [
    {
     "name": "stdout",
     "output_type": "stream",
     "text": [
      "[74]\n"
     ]
    }
   ],
   "source": [
    "ii = cumprob >= 0.4\n",
    "jj = cumprob <= 0.6\n",
    "\n",
    "mean3 = bins_[ (ii & jj) ]\n",
    "\n",
    "print(mean3)\n",
    "# Este es el más cercano, sin embargo con la distribución acumulada solo podemos decir lo siguiente\n",
    "# mean3 > 74 y mean3 < 78"
   ]
  },
  {
   "cell_type": "markdown",
   "id": "d947e10f",
   "metadata": {},
   "source": [
    "# Bootstrapping"
   ]
  },
  {
   "cell_type": "code",
   "execution_count": 30,
   "id": "885ccec1",
   "metadata": {},
   "outputs": [],
   "source": [
    "# Debemos tomar toda la poblacion como muestra\n",
    "def GetMean(p):\n",
    "    \n",
    "    m = random.choices(p,k=len(p))\n",
    "    \n",
    "    return np.mean(m)"
   ]
  },
  {
   "cell_type": "code",
   "execution_count": 31,
   "id": "6d52f56c",
   "metadata": {},
   "outputs": [],
   "source": [
    "def GetSample(p, Npoints = 1000):\n",
    "    \n",
    "    lmean = []\n",
    "    \n",
    "    for i in tqdm(range(int(Npoints))):\n",
    "        lmean.append(GetMean(p))\n",
    "        \n",
    "    return lmean"
   ]
  },
  {
   "cell_type": "code",
   "execution_count": 32,
   "id": "aabb9f45",
   "metadata": {},
   "outputs": [
    {
     "name": "stderr",
     "output_type": "stream",
     "text": [
      "100%|██████████| 100000/100000 [00:03<00:00, 27694.73it/s]\n"
     ]
    }
   ],
   "source": [
    "l = GetSample(data, Npoints = 100000)"
   ]
  },
  {
   "cell_type": "code",
   "execution_count": 33,
   "id": "4aa20e07",
   "metadata": {},
   "outputs": [],
   "source": [
    "def GetHisto(l, Nbins=50):\n",
    "    \n",
    "    x = np.linspace(np.min(l),np.max(l),Nbins)\n",
    "    h, bins = np.histogram(l, bins=x)\n",
    "    w = np.diff(bins)\n",
    "    \n",
    "    I = np.sum(h*w)\n",
    "    hnorm = h/I\n",
    "    \n",
    "    return h,hnorm,bins,w"
   ]
  },
  {
   "cell_type": "code",
   "execution_count": 34,
   "id": "8d2e937b",
   "metadata": {},
   "outputs": [
    {
     "data": {
      "text/plain": [
       "<BarContainer object of 49 artists>"
      ]
     },
     "execution_count": 34,
     "metadata": {},
     "output_type": "execute_result"
    },
    {
     "data": {
      "image/png": "[encoded data removed]",
      "text/plain": [
       "<Figure size 432x432 with 1 Axes>"
      ]
     },
     "metadata": {
      "needs_background": "light"
     },
     "output_type": "display_data"
    }
   ],
   "source": [
    "h, hnorm, bins, w = GetHisto(l)\n",
    "fig = plt.figure(figsize=(6,6))\n",
    "ax = fig.add_subplot(1,1,1)\n",
    "ax.bar( bins[:-1]+0.5*w[0], h, color='b', width=w, ec='k', alpha = 0.3 )"
   ]
  },
  {
   "cell_type": "code",
   "execution_count": 35,
   "id": "403b5606",
   "metadata": {},
   "outputs": [],
   "source": [
    "# Ahora hacemos un fit gaussiano\n",
    "mu, sigma = norm.fit( l )\n",
    "y = norm.pdf(bins, mu, sigma)"
   ]
  },
  {
   "cell_type": "code",
   "execution_count": 45,
   "id": "cc3986ee",
   "metadata": {},
   "outputs": [
    {
     "data": {
      "text/plain": [
       "<matplotlib.legend.Legend at 0x7f25e0cb9460>"
      ]
     },
     "execution_count": 45,
     "metadata": {},
     "output_type": "execute_result"
    },
    {
     "data": {
      "image/png": "[encoded data removed]",
      "text/plain": [
       "<Figure size 432x432 with 1 Axes>"
      ]
     },
     "metadata": {
      "needs_background": "light"
     },
     "output_type": "display_data"
    }
   ],
   "source": [
    "fig = plt.figure(figsize=(6,6))\n",
    "ax = fig.add_subplot(1,1,1)\n",
    "ax.grid()\n",
    "#ax.hist( listas[4], bins=bins, density = True, alpha = 0.6, color='g' )\n",
    "\n",
    "ax.bar( bins[:-1]+0.5*w[0], hnorm, color='g', width=w, ec='k', alpha=0.5, label='Bootstrapping dist')\n",
    "ax.plot( bins, y , 'r--', linewidth = 3, label='Gaussian fit' )\n",
    "\n",
    "title = r\"Fit results: $\\mu$ = %.2f,  $\\sigma$ = %.2f\" % (mu, sigma)\n",
    "ax.set_title(title, fontsize=15)\n",
    "ax.set_xlabel(r'$\\bar{x}$', fontsize=15)\n",
    "ax.legend(loc=0)"
   ]
  },
  {
   "cell_type": "code",
   "execution_count": 49,
   "id": "460add1b",
   "metadata": {},
   "outputs": [],
   "source": [
    "cum, cumprob = GetCumulative(h)"
   ]
  },
  {
   "cell_type": "code",
   "execution_count": 52,
   "id": "997ed037",
   "metadata": {},
   "outputs": [
    {
     "data": {
      "text/plain": [
       "<matplotlib.legend.Legend at 0x7f25e0a5ce80>"
      ]
     },
     "execution_count": 52,
     "metadata": {},
     "output_type": "execute_result"
    },
    {
     "data": {
      "image/png": "[encoded data removed]",
      "text/plain": [
       "<Figure size 432x432 with 1 Axes>"
      ]
     },
     "metadata": {
      "needs_background": "light"
     },
     "output_type": "display_data"
    }
   ],
   "source": [
    "fig = plt.figure(figsize=(6,6))\n",
    "ax = fig.add_subplot(1,1,1)\n",
    "ax.grid()\n",
    "\n",
    "ax.plot(bins,cumprob, 'b--', linewidth = 3 ,  label=r'$cdf$ boostrapped')\n",
    "ax.legend(loc=0)"
   ]
  },
  {
   "cell_type": "code",
   "execution_count": 55,
   "id": "587b8657",
   "metadata": {},
   "outputs": [
    {
     "name": "stdout",
     "output_type": "stream",
     "text": [
      "[75.29464286]\n"
     ]
    }
   ],
   "source": [
    "ii = cumprob >= 0.45\n",
    "jj = cumprob <= 0.55\n",
    "\n",
    "mean4 = bins[ (ii & jj) ]\n",
    "\n",
    "print(mean4)"
   ]
  },
  {
   "cell_type": "code",
   "execution_count": null,
   "id": "7ba7e804",
   "metadata": {},
   "outputs": [],
   "source": []
  }
 ],
 "metadata": {
  "kernelspec": {
   "display_name": "Python 3",
   "language": "python",
   "name": "python3"
  },
  "language_info": {
   "codemirror_mode": {
    "name": "ipython",
    "version": 3
   },
   "file_extension": ".py",
   "mimetype": "text/x-python",
   "name": "python",
   "nbconvert_exporter": "python",
   "pygments_lexer": "ipython3",
   "version": "3.8.2"
  }
 },
 "nbformat": 4,
 "nbformat_minor": 5
}
