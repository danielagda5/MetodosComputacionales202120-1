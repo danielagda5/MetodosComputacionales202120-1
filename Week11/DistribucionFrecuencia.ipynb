{
 "cells": [
  {
   "cell_type": "code",
   "execution_count": 1,
   "id": "16c9001c",
   "metadata": {},
   "outputs": [],
   "source": [
    "import numpy as np\n",
    "import matplotlib.pyplot as plt\n",
    "import os.path as path\n",
    "import wget"
   ]
  },
  {
   "cell_type": "code",
   "execution_count": 2,
   "id": "a1433d5c",
   "metadata": {},
   "outputs": [
    {
     "name": "stdout",
     "output_type": "stream",
     "text": [
      "--- File loaded ---\n"
     ]
    }
   ],
   "source": [
    "file = 'data.dat'\n",
    "url = 'https://raw.githubusercontent.com/asegura4488/Database/main/MetodosComputacionalesReforma/Matematicas.txt'\n",
    "if not path.exists(file):\n",
    "    Path_ = wget.download(url,file)\n",
    "    print('--- File loaded ---')"
   ]
  },
  {
   "cell_type": "code",
   "execution_count": 3,
   "id": "a84086cb",
   "metadata": {},
   "outputs": [],
   "source": [
    "data = np.loadtxt(Path_)\n",
    "data = np.array(data)"
   ]
  },
  {
   "cell_type": "code",
   "execution_count": 4,
   "id": "1acf69fd",
   "metadata": {},
   "outputs": [
    {
     "name": "stdout",
     "output_type": "stream",
     "text": [
      "[68. 84. 75. 82. 68. 90. 62. 88. 76. 93. 73. 79. 88. 73. 60. 93. 71. 59.\n",
      " 85. 75. 61. 65. 75. 87. 74. 62. 95. 78. 63. 72. 66. 78. 82. 75. 94. 77.\n",
      " 69. 74. 68. 60. 96. 78. 89. 61. 75. 95. 60. 79. 83. 71. 79. 62. 67. 97.\n",
      " 78. 85. 76. 65. 71. 75. 65. 80. 73. 57. 88. 78. 62. 76. 53. 74. 86. 67.\n",
      " 73. 81. 72. 63. 76. 75. 85. 77.]\n"
     ]
    }
   ],
   "source": [
    "print(data)"
   ]
  },
  {
   "cell_type": "code",
   "execution_count": 5,
   "id": "60d6a121",
   "metadata": {},
   "outputs": [
    {
     "name": "stdout",
     "output_type": "stream",
     "text": [
      "97.0 53.0\n"
     ]
    }
   ],
   "source": [
    "max_ = np.max(data)\n",
    "min_ = np.min(data)\n",
    "print(max_,min_)"
   ]
  },
  {
   "cell_type": "code",
   "execution_count": 6,
   "id": "98860851",
   "metadata": {},
   "outputs": [
    {
     "name": "stdout",
     "output_type": "stream",
     "text": [
      "44.0\n"
     ]
    }
   ],
   "source": [
    "rango = max_ - min_\n",
    "print(rango)"
   ]
  },
  {
   "cell_type": "code",
   "execution_count": 7,
   "id": "b4410715",
   "metadata": {},
   "outputs": [
    {
     "name": "stdout",
     "output_type": "stream",
     "text": [
      "[53. 57. 59. 60. 60. 60. 61. 61. 62. 62. 62. 62. 63. 63. 65. 65. 65. 66.\n",
      " 67. 67. 68. 68. 68. 69. 71. 71. 71. 72. 72. 73. 73. 73. 73. 74. 74. 74.\n",
      " 75. 75. 75. 75. 75. 75. 75. 76. 76. 76. 76. 77. 77. 78. 78. 78. 78. 78.\n",
      " 79. 79. 79. 80. 81. 82. 82. 83. 84. 85. 85. 85. 86. 87. 88. 88. 88. 89.\n",
      " 90. 93. 93. 94. 95. 95. 96. 97.]\n"
     ]
    }
   ],
   "source": [
    "data.sort()\n",
    "print(data)"
   ]
  },
  {
   "cell_type": "code",
   "execution_count": 9,
   "id": "0e36626f",
   "metadata": {},
   "outputs": [
    {
     "name": "stdout",
     "output_type": "stream",
     "text": [
      "[53. 57. 59. 60. 60.]\n",
      "[94. 95. 95. 96. 97.]\n"
     ]
    }
   ],
   "source": [
    "print(data[:5])\n",
    "print(data[-5:])"
   ]
  },
  {
   "cell_type": "code",
   "execution_count": 10,
   "id": "40d0da7d",
   "metadata": {},
   "outputs": [
    {
     "name": "stdout",
     "output_type": "stream",
     "text": [
      "88.0\n"
     ]
    }
   ],
   "source": [
    "print(data[-10])"
   ]
  },
  {
   "cell_type": "code",
   "execution_count": 12,
   "id": "3088a7de",
   "metadata": {},
   "outputs": [
    {
     "name": "stdout",
     "output_type": "stream",
     "text": [
      "[75. 75. 75. 75. 75. 75. 75. 76. 76. 76. 76. 77. 77. 78. 78. 78. 78. 78.\n",
      " 79. 79. 79. 80. 81. 82. 82. 83. 84. 85. 85. 85. 86. 87. 88. 88. 88. 89.\n",
      " 90. 93. 93. 94. 95. 95. 96. 97.]\n",
      "44\n"
     ]
    }
   ],
   "source": [
    "ii = np.where(data >= 75)\n",
    "print(data[ii])\n",
    "print(len(data[ii]))"
   ]
  },
  {
   "cell_type": "code",
   "execution_count": 13,
   "id": "28943de3",
   "metadata": {},
   "outputs": [
    {
     "name": "stdout",
     "output_type": "stream",
     "text": [
      "61.25000000000001\n"
     ]
    }
   ],
   "source": [
    "ii = data > 65\n",
    "jj = data <= 85\n",
    "\n",
    "data1 = data[ii & jj]\n",
    "#data1 = data[ii | jj]\n",
    "\n",
    "print(len(data1)/len(data)*100)"
   ]
  },
  {
   "cell_type": "code",
   "execution_count": null,
   "id": "e5454b4b",
   "metadata": {},
   "outputs": [],
   "source": []
  }
 ],
 "metadata": {
  "kernelspec": {
   "display_name": "Python 3",
   "language": "python",
   "name": "python3"
  },
  "language_info": {
   "codemirror_mode": {
    "name": "ipython",
    "version": 3
   },
   "file_extension": ".py",
   "mimetype": "text/x-python",
   "name": "python",
   "nbconvert_exporter": "python",
   "pygments_lexer": "ipython3",
   "version": "3.8.2"
  }
 },
 "nbformat": 4,
 "nbformat_minor": 5
}
