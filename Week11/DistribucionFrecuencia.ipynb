{
 "cells": [
  {
   "cell_type": "code",
   "execution_count": 1,
   "id": "562634dc",
   "metadata": {},
   "outputs": [],
   "source": [
    "import numpy as np\n",
    "import matplotlib.pyplot as plt\n",
    "import os.path as path\n",
    "import wget"
   ]
  },
  {
   "cell_type": "code",
   "execution_count": 2,
   "id": "28c0484b",
   "metadata": {},
   "outputs": [
    {
     "name": "stdout",
     "output_type": "stream",
     "text": [
      "--- File loaded ---\n"
     ]
    }
   ],
   "source": [
    "file = 'data.dat'\n",
    "url = 'https://raw.githubusercontent.com/asegura4488/Database/main/MetodosComputacionalesReforma/Matematicas.txt'\n",
    "if not path.exists(file):\n",
    "    Path_ = wget.download(url,file)\n",
    "    print('--- File loaded ---')"
   ]
  },
  {
   "cell_type": "code",
   "execution_count": 3,
   "id": "cd5d3175",
   "metadata": {},
   "outputs": [],
   "source": [
    "data = np.loadtxt(Path_)\n",
    "data = np.array(data)"
   ]
  },
  {
   "cell_type": "code",
   "execution_count": 4,
   "id": "2c336283",
   "metadata": {},
   "outputs": [
    {
     "name": "stdout",
     "output_type": "stream",
     "text": [
      "[68. 84. 75. 82. 68. 90. 62. 88. 76. 93. 73. 79. 88. 73. 60. 93. 71. 59.\n",
      " 85. 75. 61. 65. 75. 87. 74. 62. 95. 78. 63. 72. 66. 78. 82. 75. 94. 77.\n",
      " 69. 74. 68. 60. 96. 78. 89. 61. 75. 95. 60. 79. 83. 71. 79. 62. 67. 97.\n",
      " 78. 85. 76. 65. 71. 75. 65. 80. 73. 57. 88. 78. 62. 76. 53. 74. 86. 67.\n",
      " 73. 81. 72. 63. 76. 75. 85. 77.]\n"
     ]
    }
   ],
   "source": [
    "print(data)"
   ]
  },
  {
   "cell_type": "code",
   "execution_count": 5,
   "id": "8d776103",
   "metadata": {},
   "outputs": [
    {
     "name": "stdout",
     "output_type": "stream",
     "text": [
      "97.0 53.0\n"
     ]
    }
   ],
   "source": [
    "max_ = np.max(data)\n",
    "min_ = np.min(data)\n",
    "print(max_,min_)"
   ]
  },
  {
   "cell_type": "code",
   "execution_count": 6,
   "id": "6fd787ed",
   "metadata": {},
   "outputs": [
    {
     "name": "stdout",
     "output_type": "stream",
     "text": [
      "44.0\n"
     ]
    }
   ],
   "source": [
    "rango = max_ - min_\n",
    "print(rango)"
   ]
  },
  {
   "cell_type": "code",
   "execution_count": 7,
   "id": "f986eb8c",
   "metadata": {},
   "outputs": [
    {
     "name": "stdout",
     "output_type": "stream",
     "text": [
      "[53. 57. 59. 60. 60. 60. 61. 61. 62. 62. 62. 62. 63. 63. 65. 65. 65. 66.\n",
      " 67. 67. 68. 68. 68. 69. 71. 71. 71. 72. 72. 73. 73. 73. 73. 74. 74. 74.\n",
      " 75. 75. 75. 75. 75. 75. 75. 76. 76. 76. 76. 77. 77. 78. 78. 78. 78. 78.\n",
      " 79. 79. 79. 80. 81. 82. 82. 83. 84. 85. 85. 85. 86. 87. 88. 88. 88. 89.\n",
      " 90. 93. 93. 94. 95. 95. 96. 97.]\n"
     ]
    }
   ],
   "source": [
    "data.sort()\n",
    "print(data)"
   ]
  },
  {
   "cell_type": "code",
   "execution_count": 9,
   "id": "f7926b5c",
   "metadata": {},
   "outputs": [
    {
     "name": "stdout",
     "output_type": "stream",
     "text": [
      "[53. 57. 59. 60. 60.]\n",
      "[94. 95. 95. 96. 97.]\n"
     ]
    }
   ],
   "source": [
    "print(data[:5])\n",
    "print(data[-5:])"
   ]
  },
  {
   "cell_type": "code",
   "execution_count": 10,
   "id": "4567b8f5",
   "metadata": {},
   "outputs": [
    {
     "name": "stdout",
     "output_type": "stream",
     "text": [
      "88.0\n"
     ]
    }
   ],
   "source": [
    "print(data[-10])"
   ]
  },
  {
   "cell_type": "code",
   "execution_count": 12,
   "id": "6a5e33cf",
   "metadata": {},
   "outputs": [
    {
     "name": "stdout",
     "output_type": "stream",
     "text": [
      "[75. 75. 75. 75. 75. 75. 75. 76. 76. 76. 76. 77. 77. 78. 78. 78. 78. 78.\n",
      " 79. 79. 79. 80. 81. 82. 82. 83. 84. 85. 85. 85. 86. 87. 88. 88. 88. 89.\n",
      " 90. 93. 93. 94. 95. 95. 96. 97.]\n",
      "44\n"
     ]
    }
   ],
   "source": [
    "ii = np.where(data >= 75)\n",
    "print(data[ii])\n",
    "print(len(data[ii]))"
   ]
  },
  {
   "cell_type": "code",
   "execution_count": 13,
   "id": "ef99c43c",
   "metadata": {},
   "outputs": [
    {
     "name": "stdout",
     "output_type": "stream",
     "text": [
      "61.25000000000001\n"
     ]
    }
   ],
   "source": [
    "ii = data > 65\n",
    "jj = data <= 85\n",
    "\n",
    "data1 = data[ii & jj]\n",
    "#data1 = data[ii | jj]\n",
    "\n",
    "print(len(data1)/len(data)*100)"
   ]
  },
  {
   "cell_type": "code",
   "execution_count": 14,
   "id": "c30128c6",
   "metadata": {},
   "outputs": [],
   "source": [
    "todas  = np.linspace(1,100,100)\n",
    "\n",
    "faltantes = []\n",
    "\n",
    "for i in range(len(todas)):\n",
    "    \n",
    "    if todas[i] not in data:\n",
    "        faltantes.append(todas[i])"
   ]
  },
  {
   "cell_type": "code",
   "execution_count": 15,
   "id": "4fdbfbe3",
   "metadata": {},
   "outputs": [
    {
     "name": "stdout",
     "output_type": "stream",
     "text": [
      "[1.0, 2.0, 3.0, 4.0, 5.0, 6.0, 7.0, 8.0, 9.0, 10.0, 11.0, 12.0, 13.0, 14.0, 15.0, 16.0, 17.0, 18.0, 19.0, 20.0, 21.0, 22.0, 23.0, 24.0, 25.0, 26.0, 27.0, 28.0, 29.0, 30.0, 31.0, 32.0, 33.0, 34.0, 35.0, 36.0, 37.0, 38.0, 39.0, 40.0, 41.0, 42.0, 43.0, 44.0, 45.0, 46.0, 47.0, 48.0, 49.0, 50.0, 51.0, 52.0, 54.0, 55.0, 56.0, 58.0, 64.0, 70.0, 91.0, 92.0, 98.0, 99.0, 100.0]\n"
     ]
    }
   ],
   "source": [
    "print(faltantes)"
   ]
  },
  {
   "cell_type": "code",
   "execution_count": 16,
   "id": "3cc1677d",
   "metadata": {},
   "outputs": [
    {
     "name": "stdout",
     "output_type": "stream",
     "text": [
      "[50 54 58 62 66 70 74 78 82 86 90 94 98]\n"
     ]
    }
   ],
   "source": [
    "bins_ = np.arange(50,99,4) # Ancho de clase\n",
    "print(bins_)"
   ]
  },
  {
   "cell_type": "code",
   "execution_count": 17,
   "id": "5c711090",
   "metadata": {},
   "outputs": [
    {
     "name": "stdout",
     "output_type": "stream",
     "text": [
      "[4 4 4 4 4 4 4 4 4 4 4 4]\n"
     ]
    }
   ],
   "source": [
    "h, bins = np.histogram( data, bins=bins_ )\n",
    "w = np.diff(bins)\n",
    "print(w)"
   ]
  },
  {
   "cell_type": "code",
   "execution_count": 23,
   "id": "756f3b0f",
   "metadata": {},
   "outputs": [
    {
     "data": {
      "text/plain": [
       "<BarContainer object of 12 artists>"
      ]
     },
     "execution_count": 23,
     "metadata": {},
     "output_type": "execute_result"
    },
    {
     "data": {
      "image/png": "[encoded data removed]",
      "text/plain": [
       "<Figure size 432x432 with 1 Axes>"
      ]
     },
     "metadata": {
      "needs_background": "light"
     },
     "output_type": "display_data"
    }
   ],
   "source": [
    "fig = plt.figure(figsize=(6,6))\n",
    "ax = fig.add_subplot(1,1,1)\n",
    "ax.bar( bins[:-1] + 0.5*w[0], h, color='b', width = w, ec='k', alpha=0.4 )\n",
    "#ax.bar( bins[:-1] , h, color='g', width = w, ec='k', alpha=0.4 )"
   ]
  },
  {
   "cell_type": "code",
   "execution_count": null,
   "id": "eca03757",
   "metadata": {},
   "outputs": [],
   "source": []
  }
 ],
 "metadata": {
  "kernelspec": {
   "display_name": "Python 3",
   "language": "python",
   "name": "python3"
  },
  "language_info": {
   "codemirror_mode": {
    "name": "ipython",
    "version": 3
   },
   "file_extension": ".py",
   "mimetype": "text/x-python",
   "name": "python",
   "nbconvert_exporter": "python",
   "pygments_lexer": "ipython3",
   "version": "3.8.2"
  }
 },
 "nbformat": 4,
 "nbformat_minor": 5
}
