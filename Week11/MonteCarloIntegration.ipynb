{
 "cells": [
  {
   "cell_type": "code",
   "execution_count": 1,
   "metadata": {},
   "outputs": [],
   "source": [
    "import matplotlib.pyplot as plt\n",
    "import numpy as np\n",
    "from matplotlib import rc \n",
    "from mpl_toolkits.mplot3d import axes3d\n",
    "from tqdm import tqdm"
   ]
  },
  {
   "cell_type": "markdown",
   "metadata": {},
   "source": [
    "Valor promedio de una función:\n",
    "\n",
    "$$ \\bar{f} = \\frac{1}{b-a}\\int_{a}^{b}f(x)dx $$\n",
    "\n",
    "en consecuencia:\n",
    "\n",
    "$$ \\frac{1}{N} \\sum_{i=1}^{N} f(x_{i}) = \\frac{1}{b-a}\\int_{a}^{b}f(x)dx $$\n",
    "\n",
    "En general, se usan los puntos muestrales que siguen una distribución $g(x)$ para integrar una función $f(x)$. La siguiente aproximación se satisface según la ley de grandes números:\n",
    "\n",
    "$$ \\frac{\\int g(x)f(x)dx}{\\int g(x)dx} = < f(x) > =  \\lim_{N \\to \\infty} \\frac{1}{N} \\sum_{i=1}^{N} f(x_{i}) $$\n",
    "\n",
    "Calcular la integral:\n",
    "\n",
    "$$ \\int_{0}^{\\frac{\\pi}{2}} xsin(x) dx $$"
   ]
  },
  {
   "cell_type": "code",
   "execution_count": null,
   "metadata": {},
   "outputs": [],
   "source": []
  }
 ],
 "metadata": {
  "kernelspec": {
   "display_name": "Python 3",
   "language": "python",
   "name": "python3"
  },
  "language_info": {
   "codemirror_mode": {
    "name": "ipython",
    "version": 3
   },
   "file_extension": ".py",
   "mimetype": "text/x-python",
   "name": "python",
   "nbconvert_exporter": "python",
   "pygments_lexer": "ipython3",
   "version": "3.7.6"
  }
 },
 "nbformat": 4,
 "nbformat_minor": 4
}
