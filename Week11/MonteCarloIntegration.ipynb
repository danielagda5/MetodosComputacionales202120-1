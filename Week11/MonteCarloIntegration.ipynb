{
 "cells": [
  {
   "cell_type": "code",
   "execution_count": 1,
   "metadata": {},
   "outputs": [],
   "source": [
    "import matplotlib.pyplot as plt\n",
    "import numpy as np\n",
    "from matplotlib import rc \n",
    "from mpl_toolkits.mplot3d import axes3d\n",
    "from tqdm import tqdm"
   ]
  },
  {
   "cell_type": "markdown",
   "metadata": {},
   "source": [
    "Valor promedio de una función:\n",
    "\n",
    "$$ \\bar{f} = \\frac{1}{b-a}\\int_{a}^{b}f(x)dx $$\n",
    "\n",
    "en consecuencia:\n",
    "\n",
    "$$ \\frac{1}{N} \\sum_{i=1}^{N} f(x_{i}) = \\frac{1}{b-a}\\int_{a}^{b}f(x)dx $$\n",
    "\n",
    "En general, se usan los puntos muestrales que siguen una distribución $g(x)$ para integrar una función $f(x)$. La siguiente aproximación se satisface según la ley de grandes números:\n",
    "\n",
    "$$ \\frac{\\int g(x)f(x)dx}{\\int g(x)dx} = < f(x) > =  \\lim_{N \\to \\infty} \\frac{1}{N} \\sum_{i=1}^{N} f(x_{i}) $$\n",
    "\n",
    "Calcular la integral:\n",
    "\n",
    "$$ \\int_{0}^{\\frac{\\pi}{2}} xsin(x) dx $$"
   ]
  },
  {
   "cell_type": "code",
   "execution_count": 53,
   "metadata": {},
   "outputs": [],
   "source": [
    "def f(x):\n",
    "    return x*np.sin(x)\n",
    "\n",
    "def MCIntegral(f,  N = 100 ):\n",
    "    \n",
    "    x = np.random.rand( int(N) )* 0.5*np.pi\n",
    "     \n",
    "    return np.average(f(x))*(0.5*np.pi),f(x)"
   ]
  },
  {
   "cell_type": "code",
   "execution_count": 54,
   "metadata": {},
   "outputs": [
    {
     "name": "stdout",
     "output_type": "stream",
     "text": [
      "0.9370887465719442\n"
     ]
    }
   ],
   "source": [
    "I, h = MCIntegral(f,N=100)\n",
    "print(I)"
   ]
  },
  {
   "cell_type": "code",
   "execution_count": 48,
   "metadata": {},
   "outputs": [],
   "source": [
    "x = np.random.exponential(4,size=1000)"
   ]
  },
  {
   "cell_type": "code",
   "execution_count": 50,
   "metadata": {},
   "outputs": [
    {
     "name": "stdout",
     "output_type": "stream",
     "text": [
      "15.821646313887005\n"
     ]
    },
    {
     "data": {
      "image/png": "[encoded data removed]",
      "text/plain": [
       "<Figure size 432x288 with 1 Axes>"
      ]
     },
     "metadata": {
      "needs_background": "light"
     },
     "output_type": "display_data"
    }
   ],
   "source": [
    "plt.hist(x)\n",
    "print(np.std(x)**2)"
   ]
  },
  {
   "cell_type": "markdown",
   "metadata": {},
   "source": [
    "Queremos calcular el segundo momento de la distribución usando el método de Montecarlo.\n",
    "$$ x \\sim exp(4) $$ \n",
    "$$ f(x) = \\frac{1}{4}e^{\\frac{-x}{4}} $$  \n",
    "$$ E(x^{2}) = \\int_{0}^{\\infty}\\frac{1}{4} x^{2} e^{\\frac{-x}{4}} dx = 32$$\n",
    "\n",
    "Hacer cambio de variable $y = \\frac{1}{1+x}$"
   ]
  },
  {
   "cell_type": "code",
   "execution_count": 55,
   "metadata": {},
   "outputs": [],
   "source": [
    "func = ( lambda x: x, lambda x: x**2 )"
   ]
  },
  {
   "cell_type": "code",
   "execution_count": 56,
   "metadata": {},
   "outputs": [],
   "source": [
    "def WeightedIntegral(f, N = 1000, alpha = 1.):\n",
    "    \n",
    "    x = np.random.exponential(alpha,size=int(N))\n",
    "    \n",
    "    return np.average(f(x))"
   ]
  },
  {
   "cell_type": "code",
   "execution_count": 57,
   "metadata": {},
   "outputs": [],
   "source": [
    "moment1 = WeightedIntegral(func[0], N = 1e6, alpha=4)\n",
    "moment2 = WeightedIntegral(func[1], N = 1e6, alpha=4)"
   ]
  },
  {
   "cell_type": "code",
   "execution_count": 58,
   "metadata": {},
   "outputs": [
    {
     "name": "stdout",
     "output_type": "stream",
     "text": [
      "3.999912633999733\n",
      "31.97985409164045\n"
     ]
    }
   ],
   "source": [
    "print(moment1)\n",
    "print(moment2)"
   ]
  },
  {
   "cell_type": "code",
   "execution_count": 59,
   "metadata": {},
   "outputs": [
    {
     "name": "stdout",
     "output_type": "stream",
     "text": [
      "3.999912633999733 15.98055301200977\n"
     ]
    }
   ],
   "source": [
    "mean = moment1\n",
    "var = moment2 - moment1**2\n",
    "print(mean, var)"
   ]
  },
  {
   "cell_type": "markdown",
   "metadata": {},
   "source": [
    "coeficiente de asimetría\n",
    "\n",
    "$$  \\gamma = \\mathbb{E}( ((x - \\mathbb{E}(x)) / \\sigma ) ^{3}  )  $$"
   ]
  },
  {
   "cell_type": "code",
   "execution_count": null,
   "metadata": {},
   "outputs": [],
   "source": []
  }
 ],
 "metadata": {
  "kernelspec": {
   "display_name": "Python 3",
   "language": "python",
   "name": "python3"
  },
  "language_info": {
   "codemirror_mode": {
    "name": "ipython",
    "version": 3
   },
   "file_extension": ".py",
   "mimetype": "text/x-python",
   "name": "python",
   "nbconvert_exporter": "python",
   "pygments_lexer": "ipython3",
   "version": "3.7.6"
  }
 },
 "nbformat": 4,
 "nbformat_minor": 4
}
