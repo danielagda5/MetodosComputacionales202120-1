{
 "cells": [
  {
   "cell_type": "code",
   "execution_count": 1,
   "metadata": {},
   "outputs": [],
   "source": [
    "import numpy as np\n",
    "import matplotlib.pyplot as plt\n",
    "from matplotlib import rc\n",
    "from tqdm import tqdm"
   ]
  },
  {
   "cell_type": "code",
   "execution_count": 4,
   "metadata": {},
   "outputs": [
    {
     "name": "stdout",
     "output_type": "stream",
     "text": [
      "[<function <lambda> at 0x7ffb6d1963b0>\n",
      " <function <lambda> at 0x7ffb6d1965f0>\n",
      " <function <lambda> at 0x7ffb6d196560>]\n"
     ]
    }
   ],
   "source": [
    "# Definamos el sistema usando una lista\n",
    "G = np.array([lambda x,y,z: 3*x - np.cos(y*z) - 1.5,\n",
    "     lambda x,y,z: 4*x**2 - 625*y**2 + 2*y -1,\n",
    "     lambda x,y,z: np.exp(-x*y) + 20*z + 9.471975])\n",
    "\n",
    "print(G)"
   ]
  },
  {
   "cell_type": "code",
   "execution_count": 5,
   "metadata": {},
   "outputs": [],
   "source": [
    "def GetVectorG(G,r):\n",
    "    \n",
    "    dim = len(G)\n",
    "    \n",
    "    v = np.zeros(dim)\n",
    "    \n",
    "    for i in range(dim):\n",
    "        v[i] = G[i](r[0],r[1],r[2])\n",
    "        \n",
    "    return v"
   ]
  },
  {
   "cell_type": "code",
   "execution_count": 6,
   "metadata": {},
   "outputs": [
    {
     "data": {
      "text/plain": [
       "array([-2.5     , -1.      , 10.471975])"
      ]
     },
     "execution_count": 6,
     "metadata": {},
     "output_type": "execute_result"
    }
   ],
   "source": [
    "GetVectorG(G,[0,0,0])"
   ]
  },
  {
   "cell_type": "code",
   "execution_count": 7,
   "metadata": {},
   "outputs": [],
   "source": [
    "def GetF(G,r):\n",
    "    \n",
    "    v = GetVectorG(G,r)\n",
    "    \n",
    "    return 0.5*np.sum(v**2)"
   ]
  },
  {
   "cell_type": "code",
   "execution_count": 11,
   "metadata": {},
   "outputs": [
    {
     "data": {
      "text/plain": [
       "58.45613020031251"
      ]
     },
     "execution_count": 11,
     "metadata": {},
     "output_type": "execute_result"
    }
   ],
   "source": [
    "GetF(G,[0,0,0])"
   ]
  },
  {
   "cell_type": "code",
   "execution_count": 20,
   "metadata": {},
   "outputs": [],
   "source": [
    "def GetJacobian(G,r,h=0.001):\n",
    "    \n",
    "    dim = len(G)\n",
    "    \n",
    "    J = np.zeros( (dim,dim) )\n",
    "    \n",
    "    \n",
    "    for i in range(dim):\n",
    "        \n",
    "        J[i,0] = (G[i](r[0]+h,r[1],r[2]) - G[i](r[0]-h,r[1],r[2]) )/(2*h)  \n",
    "        J[i,1] = (G[i](r[0],r[1]+h,r[2]) - G[i](r[0],r[1]-h,r[2]) )/(2*h)  \n",
    "        J[i,2] = (G[i](r[0],r[1],r[2]+h) - G[i](r[0],r[1],r[2]-h) )/(2*h)\n",
    "        \n",
    "    return J.T"
   ]
  },
  {
   "cell_type": "code",
   "execution_count": 21,
   "metadata": {},
   "outputs": [
    {
     "name": "stdout",
     "output_type": "stream",
     "text": [
      "[[ 3.          8.          0.        ]\n",
      " [ 0.          2.         -1.00000017]\n",
      " [ 0.          0.         20.        ]]\n"
     ]
    }
   ],
   "source": [
    "J = GetJacobian(G,[1,0,0])\n",
    "print(J)"
   ]
  },
  {
   "cell_type": "code",
   "execution_count": 22,
   "metadata": {},
   "outputs": [],
   "source": [
    "def GetSolve(G,r,lr=0.0001, error=1e-6, itmax = int(1e7)):\n",
    "    \n",
    "    it = 0\n",
    "    d = 1\n",
    "    \n",
    "    F = []\n",
    "    \n",
    "    while d > error and it < itmax:\n",
    "        \n",
    "        it += 1\n",
    "        \n",
    "        CurrentF = GetF(G,r)\n",
    "        \n",
    "        J = GetJacobian(G,r)\n",
    "        \n",
    "        GVector = GetVectorG(G,r)\n",
    "        \n",
    "        # aCTUALIZAMOS EN CONTRA DEL GRADIENTE\n",
    "        r -= lr*np.dot(J,GVector)\n",
    "        \n",
    "        NewF = GetF(G,r)\n",
    "        \n",
    "        F.append(NewF)\n",
    "        \n",
    "        # Actualizamos la distancia\n",
    "        \n",
    "        d = np.abs(CurrentF-NewF)/NewF\n",
    "        \n",
    "    return r,it,F"
   ]
  },
  {
   "cell_type": "code",
   "execution_count": 23,
   "metadata": {},
   "outputs": [],
   "source": [
    "# UN vector inicial\n",
    "r = np.zeros(len(G))\n",
    "xsol,it,F = GetSolve(G,r)"
   ]
  },
  {
   "cell_type": "code",
   "execution_count": 25,
   "metadata": {},
   "outputs": [
    {
     "name": "stdout",
     "output_type": "stream",
     "text": [
      "[ 0.83319658  0.05494366 -0.52136141] 32580\n"
     ]
    }
   ],
   "source": [
    "print(xsol,it)"
   ]
  },
  {
   "cell_type": "code",
   "execution_count": 27,
   "metadata": {},
   "outputs": [
    {
     "data": {
      "text/plain": [
       "array([-0.,  0., -0.])"
      ]
     },
     "execution_count": 27,
     "metadata": {},
     "output_type": "execute_result"
    }
   ],
   "source": [
    "np.round( GetVectorG(G,xsol),3 )"
   ]
  },
  {
   "cell_type": "code",
   "execution_count": 29,
   "metadata": {},
   "outputs": [
    {
     "data": {
      "image/png": "[encoded data removed]",
      "text/plain": [
       "<Figure size 432x288 with 1 Axes>"
      ]
     },
     "metadata": {
      "needs_background": "light"
     },
     "output_type": "display_data"
    }
   ],
   "source": [
    "plt.plot(F)\n",
    "plt.xscale('log')\n",
    "plt.yscale('log')\n",
    "plt.xlabel(r'$iterations$', fontsize=15)\n",
    "plt.ylabel(r'$|\\vec{F}(\\mathbf{x})|$', fontsize=15)\n",
    "plt.grid()"
   ]
  },
  {
   "cell_type": "code",
   "execution_count": null,
   "metadata": {},
   "outputs": [],
   "source": []
  }
 ],
 "metadata": {
  "kernelspec": {
   "display_name": "Python 3",
   "language": "python",
   "name": "python3"
  },
  "language_info": {
   "codemirror_mode": {
    "name": "ipython",
    "version": 3
   },
   "file_extension": ".py",
   "mimetype": "text/x-python",
   "name": "python",
   "nbconvert_exporter": "python",
   "pygments_lexer": "ipython3",
   "version": "3.7.6"
  }
 },
 "nbformat": 4,
 "nbformat_minor": 4
}
