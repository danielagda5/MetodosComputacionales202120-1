{
 "cells": [
  {
   "cell_type": "code",
   "execution_count": 1,
   "id": "4ceefc19",
   "metadata": {},
   "outputs": [],
   "source": [
    "#%matplotlib notebook\n",
    "import numpy as np\n",
    "import matplotlib.pyplot as plt\n",
    "from matplotlib import rc\n",
    "from mpl_toolkits.mplot3d import axes3d\n",
    "from matplotlib import cm\n",
    "import matplotlib as mpl\n",
    "import matplotlib.animation as animation\n",
    "\n",
    "from tqdm import tqdm"
   ]
  },
  {
   "cell_type": "code",
   "execution_count": 2,
   "id": "50ec9baa",
   "metadata": {},
   "outputs": [],
   "source": [
    "def f(x):\n",
    "    return (x-1)**2"
   ]
  },
  {
   "cell_type": "code",
   "execution_count": 3,
   "id": "0ea62a74",
   "metadata": {},
   "outputs": [],
   "source": [
    "def Df(x,f,h=0.001):\n",
    "    \n",
    "    d = (f(x+h) - f(x-h))/(2*h)\n",
    "    \n",
    "    return d"
   ]
  },
  {
   "cell_type": "code",
   "execution_count": 4,
   "id": "bf4c7926",
   "metadata": {},
   "outputs": [],
   "source": [
    "x = np.linspace(-1,4,20)\n",
    "y = f(x)\n",
    "dy = Df(x,f)"
   ]
  },
  {
   "cell_type": "code",
   "execution_count": 6,
   "id": "25105d50",
   "metadata": {},
   "outputs": [
    {
     "data": {
      "text/plain": [
       "<matplotlib.collections.PathCollection at 0x7ff75b886fa0>"
      ]
     },
     "execution_count": 6,
     "metadata": {},
     "output_type": "execute_result"
    },
    {
     "data": {
      "image/png": "[encoded data removed]",
      "text/plain": [
       "<Figure size 432x288 with 1 Axes>"
      ]
     },
     "metadata": {
      "needs_background": "light"
     },
     "output_type": "display_data"
    }
   ],
   "source": [
    "plt.plot(x,y,'-.')\n",
    "plt.scatter(x,dy,color='r')"
   ]
  },
  {
   "cell_type": "code",
   "execution_count": null,
   "id": "02d79852",
   "metadata": {},
   "outputs": [],
   "source": []
  }
 ],
 "metadata": {
  "kernelspec": {
   "display_name": "Python 3",
   "language": "python",
   "name": "python3"
  },
  "language_info": {
   "codemirror_mode": {
    "name": "ipython",
    "version": 3
   },
   "file_extension": ".py",
   "mimetype": "text/x-python",
   "name": "python",
   "nbconvert_exporter": "python",
   "pygments_lexer": "ipython3",
   "version": "3.8.2"
  }
 },
 "nbformat": 4,
 "nbformat_minor": 5
}
