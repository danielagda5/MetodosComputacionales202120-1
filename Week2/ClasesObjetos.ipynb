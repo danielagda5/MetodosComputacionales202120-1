{
 "cells": [
  {
   "cell_type": "code",
   "execution_count": 1,
   "metadata": {},
   "outputs": [],
   "source": [
    "import numpy as np\n",
    "import matplotlib.pyplot as plt\n",
    "import matplotlib.animation as anim"
   ]
  },
  {
   "cell_type": "code",
   "execution_count": 52,
   "metadata": {},
   "outputs": [],
   "source": [
    "class Particle():\n",
    "    \n",
    "    # Constructor\n",
    "    def __init__(self, r0, v0, a, t):\n",
    "        # atributo de clase\n",
    "        self.t = t\n",
    "        self.r = np.zeros( (len(t),2) )\n",
    "        self.v = np.zeros( (len(t),2) )\n",
    "        self.a = np.zeros( (1,2) )\n",
    "        \n",
    "        # Condiciones iniciales\n",
    "        self.r[0] = r0\n",
    "        self.v[0] = v0\n",
    "        self.a[0] = a\n",
    "       \n",
    "    # Metodos de clase \n",
    "    def PrintR(self):\n",
    "        print(self.r)\n",
    "        \n",
    "    def PrintV(self):\n",
    "        print(self.v)\n",
    "        \n",
    "    def PrintA(self):\n",
    "        print(self.a)\n",
    "        \n",
    "    def Evol(self):\n",
    "        \n",
    "    # Getters\n",
    "    def GetR(self):\n",
    "        return self.r\n",
    "    def GetV(self):\n",
    "        return self.v"
   ]
  },
  {
   "cell_type": "code",
   "execution_count": 53,
   "metadata": {},
   "outputs": [
    {
     "name": "stdout",
     "output_type": "stream",
     "text": [
      "[0.         0.33333333 0.66666667 1.         1.33333333 1.66666667\n",
      " 2.         2.33333333 2.66666667 3.        ]\n"
     ]
    }
   ],
   "source": [
    "# Discretizacion\n",
    "t = np.linspace(0.,3.,10)\n",
    "print(t)"
   ]
  },
  {
   "cell_type": "code",
   "execution_count": 54,
   "metadata": {},
   "outputs": [],
   "source": [
    "r0 = np.array([0.,0.])\n",
    "v, theta = 30., 40.*np.pi/180.\n",
    "v0 = np.array([v*np.cos(theta),v*np.sin(theta)])\n",
    "a = np.array([0.,-9.8])"
   ]
  },
  {
   "cell_type": "code",
   "execution_count": 55,
   "metadata": {},
   "outputs": [],
   "source": [
    "# Nuestro primer objeto\n",
    "p1 = Particle(r0,v0,a,t)\n"
   ]
  },
  {
   "cell_type": "code",
   "execution_count": 56,
   "metadata": {},
   "outputs": [
    {
     "name": "stdout",
     "output_type": "stream",
     "text": [
      "[[0. 0.]\n",
      " [0. 0.]\n",
      " [0. 0.]\n",
      " [0. 0.]\n",
      " [0. 0.]\n",
      " [0. 0.]\n",
      " [0. 0.]\n",
      " [0. 0.]\n",
      " [0. 0.]\n",
      " [0. 0.]]\n"
     ]
    }
   ],
   "source": [
    "x = p1.GetR()\n",
    "print(x)"
   ]
  },
  {
   "cell_type": "code",
   "execution_count": 31,
   "metadata": {},
   "outputs": [
    {
     "data": {
      "text/plain": [
       "int"
      ]
     },
     "execution_count": 31,
     "metadata": {},
     "output_type": "execute_result"
    }
   ],
   "source": [
    "a = 6\n",
    "type(a)"
   ]
  },
  {
   "cell_type": "code",
   "execution_count": null,
   "metadata": {},
   "outputs": [],
   "source": [
    "plt.plot"
   ]
  }
 ],
 "metadata": {
  "kernelspec": {
   "display_name": "Python 3",
   "language": "python",
   "name": "python3"
  },
  "language_info": {
   "codemirror_mode": {
    "name": "ipython",
    "version": 3
   },
   "file_extension": ".py",
   "mimetype": "text/x-python",
   "name": "python",
   "nbconvert_exporter": "python",
   "pygments_lexer": "ipython3",
   "version": "3.7.6"
  }
 },
 "nbformat": 4,
 "nbformat_minor": 4
}
