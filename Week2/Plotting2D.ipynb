{
 "cells": [
  {
   "cell_type": "code",
   "execution_count": 1,
   "id": "7e631328",
   "metadata": {},
   "outputs": [
    {
     "name": "stdout",
     "output_type": "stream",
     "text": [
      "Using matplotlib backend: Qt5Agg\n",
      "Populating the interactive namespace from numpy and matplotlib\n"
     ]
    }
   ],
   "source": [
    "#%matplotlib notebook \n",
    "%pylab\n",
    "import numpy as np\n",
    "import matplotlib.pyplot as plt\n",
    "import matplotlib.animation as anim\n",
    "from matplotlib import rc\n",
    "#from tqdm import tqdm "
   ]
  },
  {
   "cell_type": "code",
   "execution_count": 6,
   "id": "c8d9efbf",
   "metadata": {},
   "outputs": [],
   "source": [
    "# Random walk\n",
    "\n",
    "N = 100\n",
    "\n",
    "x = np.zeros(N)\n",
    "y = np.zeros(N)\n",
    "\n",
    "for i in range(1,N):\n",
    "    \n",
    "    theta = 2*np.pi*np.random.rand() # Genera un numero aleatorio entre 0 y 2pi\n",
    "    \n",
    "    # Futuro # Presente\n",
    "    \n",
    "    x[i] = x[i-1] + np.cos(theta)\n",
    "    y[i] = y[i-1] + np.sin(theta)"
   ]
  },
  {
   "cell_type": "code",
   "execution_count": 7,
   "id": "38f9860b",
   "metadata": {},
   "outputs": [],
   "source": [
    "#for i in range(N):\n",
    "    #print(x[i],y[i])"
   ]
  },
  {
   "cell_type": "code",
   "execution_count": 8,
   "id": "6b68910f",
   "metadata": {},
   "outputs": [],
   "source": [
    "# Definamos la animacion\n",
    "\n",
    "\n",
    "fig = plt.figure(figsize=(6,5))\n",
    "ax = fig.add_subplot(1,1,1)\n",
    "# numero de filas\n",
    "# numero de columnas\n",
    "# Posicion en el array\n",
    "\n",
    "def init():\n",
    "    ax.set_xlim(-10,10)\n",
    "    ax.set_ylim(-10,10)\n",
    "    ax.set_xlabel(r'$x[m]$',fontsize=15)\n",
    "    ax.set_ylabel(r'$y[m]$',fontsize=15)\n",
    "    \n",
    "# Definimos una funcion de actualizacion\n",
    "\n",
    "def Update(i):\n",
    "    plot = ax.clear()\n",
    "    init()\n",
    "    plot = ax.plot(x[i],y[i],color='k',marker='o')\n",
    "    return plot\n",
    "\n",
    "Animation = anim.FuncAnimation(fig,Update,frames=N,init_func=init)"
   ]
  },
  {
   "cell_type": "code",
   "execution_count": 10,
   "id": "3e501b2e",
   "metadata": {},
   "outputs": [],
   "source": [
    "x = np.zeros(2)\n",
    "y = np.ones(2)"
   ]
  },
  {
   "cell_type": "code",
   "execution_count": 11,
   "id": "93a9afb1",
   "metadata": {},
   "outputs": [
    {
     "name": "stdout",
     "output_type": "stream",
     "text": [
      "[[0.0, 1.0], [0.0, 1.0]]\n"
     ]
    }
   ],
   "source": [
    "Caminantes = []\n",
    "Caminantes.append([x[0],y[0]])\n",
    "Caminantes.append([x[1],y[1]])\n",
    "print(Caminantes)"
   ]
  },
  {
   "cell_type": "code",
   "execution_count": null,
   "id": "20eda116",
   "metadata": {},
   "outputs": [],
   "source": []
  }
 ],
 "metadata": {
  "kernelspec": {
   "display_name": "Python 3",
   "language": "python",
   "name": "python3"
  },
  "language_info": {
   "codemirror_mode": {
    "name": "ipython",
    "version": 3
   },
   "file_extension": ".py",
   "mimetype": "text/x-python",
   "name": "python",
   "nbconvert_exporter": "python",
   "pygments_lexer": "ipython3",
   "version": "3.8.2"
  }
 },
 "nbformat": 4,
 "nbformat_minor": 5
}
