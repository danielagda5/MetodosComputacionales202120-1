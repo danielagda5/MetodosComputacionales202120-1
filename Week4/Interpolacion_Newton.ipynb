{
 "cells": [
  {
   "cell_type": "code",
   "execution_count": 1,
   "metadata": {},
   "outputs": [],
   "source": [
    "import numpy as np\n",
    "import matplotlib.pyplot as plt"
   ]
  },
  {
   "cell_type": "code",
   "execution_count": 2,
   "metadata": {},
   "outputs": [],
   "source": [
    "X = [-3,-1,1,3,5,7,9]\n",
    "Y = [39,19,-21,-57,-65,-21,99]"
   ]
  },
  {
   "cell_type": "code",
   "execution_count": 4,
   "metadata": {},
   "outputs": [
    {
     "name": "stdout",
     "output_type": "stream",
     "text": [
      "[[ 39.   0.   0.   0.   0.   0.   0.]\n",
      " [ 19. -20.   0.   0.   0.   0.   0.]\n",
      " [-21. -40. -20.   0.   0.   0.   0.]\n",
      " [-57. -36.   4.  24.   0.   0.   0.]\n",
      " [-65.  -8.  28.  24.   0.   0.   0.]\n",
      " [-21.  44.  52.  24.   0.   0.   0.]\n",
      " [ 99. 120.  76.  24.   0.   0.   0.]]\n"
     ]
    }
   ],
   "source": [
    "Diff = np.zeros( (len(X),len(Y)) )\n",
    "\n",
    "Diff[:,0] = Y # La derivada 0\n",
    "\n",
    "for i in range(1,len(X)):\n",
    "    for j in range(i, len(X)):\n",
    "        Diff[j,i] = Diff[j,i-1]-Diff[j-1,i-1]\n",
    "\n",
    "print(Diff)"
   ]
  },
  {
   "cell_type": "code",
   "execution_count": 13,
   "metadata": {},
   "outputs": [],
   "source": [
    "def NewtonInterpolation(X,Y,x):\n",
    "    \n",
    "    sum_ = Y[0]\n",
    "    \n",
    "    Diff = np.zeros( (len(X),len(Y)) )\n",
    "    h = X[1]-X[0]\n",
    "    \n",
    "    \n",
    "    Diff[:,0] = Y # La derivada 0\n",
    "    \n",
    "    poly = 1.0\n",
    "\n",
    "    for i in range(1,len(X)):\n",
    "        \n",
    "        poly *= (x-X[i-1])\n",
    "        \n",
    "        for j in range(i, len(X)):\n",
    "            Diff[j,i] = Diff[j,i-1]-Diff[j-1,i-1]\n",
    "            \n",
    "        sum_ += poly*Diff[i,i]/(np.math.factorial(i)*h**i)\n",
    "        \n",
    "    return sum_, np.round(Diff,2)"
   ]
  },
  {
   "cell_type": "code",
   "execution_count": 14,
   "metadata": {},
   "outputs": [
    {
     "name": "stdout",
     "output_type": "stream",
     "text": [
      "99.0 [[ 39.   0.   0.   0.   0.   0.   0.]\n",
      " [ 19. -20.   0.   0.   0.   0.   0.]\n",
      " [-21. -40. -20.   0.   0.   0.   0.]\n",
      " [-57. -36.   4.  24.   0.   0.   0.]\n",
      " [-65.  -8.  28.  24.   0.   0.   0.]\n",
      " [-21.  44.  52.  24.   0.   0.   0.]\n",
      " [ 99. 120.  76.  24.   0.   0.   0.]]\n"
     ]
    }
   ],
   "source": [
    "p, M =  NewtonInterpolation(X,Y,9)\n",
    "print(p,M)"
   ]
  },
  {
   "cell_type": "code",
   "execution_count": 21,
   "metadata": {},
   "outputs": [],
   "source": [
    "xp = np.linspace(-5,10,10000)\n",
    "yp = []\n",
    "\n",
    "for x in xp:\n",
    "    y,_ = NewtonInterpolation(X,Y,x)\n",
    "    yp.append(y)"
   ]
  },
  {
   "cell_type": "code",
   "execution_count": 24,
   "metadata": {},
   "outputs": [
    {
     "data": {
      "text/plain": [
       "<matplotlib.legend.Legend at 0x7f71dc0a54d0>"
      ]
     },
     "execution_count": 24,
     "metadata": {},
     "output_type": "execute_result"
    },
    {
     "data": {
      "image/png": "[encoded data removed]",
      "text/plain": [
       "<Figure size 432x288 with 1 Axes>"
      ]
     },
     "metadata": {
      "needs_background": "light"
     },
     "output_type": "display_data"
    }
   ],
   "source": [
    "plt.scatter(X,Y,color='r',label='Data')\n",
    "plt.plot(xp,yp,c='b',label='Polinomio Interpolante')\n",
    "#plt.scatter(xp,yp,color='b',label='Polinomio Interpolante', s=1)\n",
    "plt.legend()"
   ]
  },
  {
   "cell_type": "code",
   "execution_count": 28,
   "metadata": {},
   "outputs": [
    {
     "name": "stdout",
     "output_type": "stream",
     "text": [
      "28.0\n"
     ]
    }
   ],
   "source": [
    "p,_ = NewtonInterpolation(X,Y,8.)\n",
    "print(p)"
   ]
  },
  {
   "cell_type": "code",
   "execution_count": 29,
   "metadata": {},
   "outputs": [],
   "source": [
    "#Sympy"
   ]
  },
  {
   "cell_type": "code",
   "execution_count": null,
   "metadata": {},
   "outputs": [],
   "source": [
    "y = xe^{x}"
   ]
  }
 ],
 "metadata": {
  "kernelspec": {
   "display_name": "Python 3",
   "language": "python",
   "name": "python3"
  },
  "language_info": {
   "codemirror_mode": {
    "name": "ipython",
    "version": 3
   },
   "file_extension": ".py",
   "mimetype": "text/x-python",
   "name": "python",
   "nbconvert_exporter": "python",
   "pygments_lexer": "ipython3",
   "version": "3.7.6"
  }
 },
 "nbformat": 4,
 "nbformat_minor": 4
}
