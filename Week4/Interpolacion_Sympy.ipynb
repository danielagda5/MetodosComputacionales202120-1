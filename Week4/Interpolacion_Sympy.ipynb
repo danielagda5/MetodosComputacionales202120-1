{
 "cells": [
  {
   "cell_type": "code",
   "execution_count": 1,
   "id": "217f9fca",
   "metadata": {},
   "outputs": [],
   "source": [
    "import numpy as np\n",
    "import matplotlib.pyplot as plt\n",
    "import sympy as sym"
   ]
  },
  {
   "cell_type": "code",
   "execution_count": 2,
   "id": "11cc11ed",
   "metadata": {},
   "outputs": [],
   "source": [
    "X = np.array([0, 1, 2, 3, 4, 5])\n",
    "#X = np.array([0, 2, 1, 5, 10, 13])\n",
    "Y = np.array([-18, -13, 0, 5, 3, 10])"
   ]
  },
  {
   "cell_type": "code",
   "execution_count": 3,
   "id": "7f83a6a5",
   "metadata": {},
   "outputs": [],
   "source": [
    "# Calculamos las diferencias\n",
    "\n",
    "Diff = np.zeros((len(X),len(Y)))\n",
    "Diff[:,0] = Y\n",
    "\n",
    "for j in range(1,len(X)): # J es el orden de la diferencia\n",
    "    for i in range(j,len(X)):\n",
    "        Diff[i,j] = (Diff[i,j-1]-Diff[i-1,j-1])/(X[i]-X[i-j])\n",
    "        \n",
    "# Recordar que la derivada \n",
    "#van i i+1 primer\n",
    "#i i+2 segunda\n",
    "#i i+j para la j-esima\n",
    "#haciendo cambio de variable\n",
    "#k = i+j\n",
    "#entonces\n",
    "#k-j hasta k"
   ]
  },
  {
   "cell_type": "code",
   "execution_count": 4,
   "id": "2209f91a",
   "metadata": {},
   "outputs": [
    {
     "name": "stdout",
     "output_type": "stream",
     "text": [
      "[[-18.     0.     0.     0.     0.     0.  ]\n",
      " [-13.     5.     0.     0.     0.     0.  ]\n",
      " [  0.    13.     4.     0.     0.     0.  ]\n",
      " [  5.     5.    -4.    -2.67   0.     0.  ]\n",
      " [  3.    -2.    -3.5    0.17   0.71   0.  ]\n",
      " [ 10.     7.     4.5    2.67   0.62  -0.02]]\n"
     ]
    }
   ],
   "source": [
    "print(np.round(Diff,2))"
   ]
  },
  {
   "cell_type": "code",
   "execution_count": 5,
   "id": "d6255956",
   "metadata": {},
   "outputs": [
    {
     "name": "stdout",
     "output_type": "stream",
     "text": [
      "-18\n"
     ]
    }
   ],
   "source": [
    "x  = sym.Symbol('x')\n",
    "print(Y[0])\n",
    "poly = Y[0]"
   ]
  },
  {
   "cell_type": "code",
   "execution_count": 6,
   "id": "ab7c2d67",
   "metadata": {},
   "outputs": [],
   "source": [
    "for i in range(1,len(X)):\n",
    "    factor = 1.0\n",
    "    for j in range(i):\n",
    "        factor *= (x-X[j])\n",
    "    poly += factor*Diff[i,i]"
   ]
  },
  {
   "cell_type": "code",
   "execution_count": 7,
   "id": "7a898b96",
   "metadata": {},
   "outputs": [
    {
     "name": "stdout",
     "output_type": "stream",
     "text": [
      "-0.0166666666666667*x**5 + 0.875*x**4 - 7.5*x**3 + 20.625*x**2 - 8.98333333333333*x - 18\n"
     ]
    }
   ],
   "source": [
    "#print(poly)\n",
    "poly = poly.expand()\n",
    "print(poly)"
   ]
  },
  {
   "cell_type": "code",
   "execution_count": 8,
   "id": "93a32541",
   "metadata": {},
   "outputs": [],
   "source": [
    "# Pasamos a lo numérico\n",
    "px = sym.lambdify(x,poly)"
   ]
  },
  {
   "cell_type": "code",
   "execution_count": 9,
   "id": "233fd9a1",
   "metadata": {},
   "outputs": [],
   "source": [
    "x1  = np.linspace(np.min(X),np.max(X),100)\n",
    "y1 = px(x1)"
   ]
  },
  {
   "cell_type": "code",
   "execution_count": 10,
   "id": "70f10db4",
   "metadata": {},
   "outputs": [
    {
     "data": {
      "text/plain": [
       "<matplotlib.collections.PathCollection at 0x7fd823d9b9d0>"
      ]
     },
     "execution_count": 10,
     "metadata": {},
     "output_type": "execute_result"
    },
    {
     "data": {
      "image/png": "[encoded data removed]",
      "text/plain": [
       "<Figure size 432x288 with 1 Axes>"
      ]
     },
     "metadata": {
      "needs_background": "light"
     },
     "output_type": "display_data"
    }
   ],
   "source": [
    "plt.plot(x1,y1)\n",
    "plt.scatter(X,Y,color='r')"
   ]
  },
  {
   "cell_type": "code",
   "execution_count": null,
   "id": "9ba2ed56",
   "metadata": {},
   "outputs": [],
   "source": []
  }
 ],
 "metadata": {
  "kernelspec": {
   "display_name": "Python 3",
   "language": "python",
   "name": "python3"
  },
  "language_info": {
   "codemirror_mode": {
    "name": "ipython",
    "version": 3
   },
   "file_extension": ".py",
   "mimetype": "text/x-python",
   "name": "python",
   "nbconvert_exporter": "python",
   "pygments_lexer": "ipython3",
   "version": "3.8.2"
  }
 },
 "nbformat": 4,
 "nbformat_minor": 5
}
