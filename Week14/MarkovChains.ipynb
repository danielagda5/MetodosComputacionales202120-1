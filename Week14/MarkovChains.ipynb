{
 "cells": [
  {
   "cell_type": "code",
   "execution_count": 1,
   "id": "50c28eb0",
   "metadata": {},
   "outputs": [],
   "source": [
    "import numpy as np\n",
    "import matplotlib.pyplot as plt"
   ]
  },
  {
   "cell_type": "code",
   "execution_count": 2,
   "id": "9fcacfc8",
   "metadata": {},
   "outputs": [],
   "source": [
    "P = np.array([[0.6,0.2],[0.4,0.8]])"
   ]
  },
  {
   "cell_type": "code",
   "execution_count": 3,
   "id": "d8f6c8ec",
   "metadata": {},
   "outputs": [],
   "source": [
    "Pn = np.linalg.matrix_power(P, 1)"
   ]
  },
  {
   "cell_type": "code",
   "execution_count": 4,
   "id": "58e67200",
   "metadata": {},
   "outputs": [
    {
     "name": "stdout",
     "output_type": "stream",
     "text": [
      "[[0.6 0.2]\n",
      " [0.4 0.8]]\n"
     ]
    }
   ],
   "source": [
    "print(Pn)"
   ]
  },
  {
   "cell_type": "code",
   "execution_count": 5,
   "id": "dfc2d36f",
   "metadata": {},
   "outputs": [
    {
     "name": "stdout",
     "output_type": "stream",
     "text": [
      "[0.6 0.4]\n"
     ]
    }
   ],
   "source": [
    "print(np.dot(Pn,[1,0]))"
   ]
  },
  {
   "cell_type": "markdown",
   "id": "e274a6a7",
   "metadata": {},
   "source": [
    "$$  A = UDU^{-1}  $$\n",
    "\n",
    "esto tiene la propiedad \n",
    "\n",
    "$$  A^{n} = UD^{n}U^{-1}  $$"
   ]
  },
  {
   "cell_type": "code",
   "execution_count": 6,
   "id": "652cea02",
   "metadata": {},
   "outputs": [
    {
     "name": "stdout",
     "output_type": "stream",
     "text": [
      "[0.4 1. ]\n",
      "[[-0.70710678 -0.4472136 ]\n",
      " [ 0.70710678 -0.89442719]]\n"
     ]
    }
   ],
   "source": [
    "values, vectors = np.linalg.eig(P)\n",
    "print(values)\n",
    "print(vectors)"
   ]
  },
  {
   "cell_type": "code",
   "execution_count": 7,
   "id": "97d54d76",
   "metadata": {},
   "outputs": [
    {
     "name": "stdout",
     "output_type": "stream",
     "text": [
      "[[0.4 0. ]\n",
      " [0.  1. ]]\n"
     ]
    }
   ],
   "source": [
    "MValues = np.zeros((2,2))\n",
    "MValues[0,0] = values[0]\n",
    "MValues[1,1] = values[1]\n",
    "print(MValues)"
   ]
  },
  {
   "cell_type": "code",
   "execution_count": 8,
   "id": "728e7ef3",
   "metadata": {},
   "outputs": [],
   "source": [
    "def GetProbs(M,vectors,S0,nsteps):\n",
    "    \n",
    "    MValuesn = np.linalg.matrix_power(MValues, nsteps)\n",
    "    tmp = np.dot(vectors,MValuesn)\n",
    "    D = np.dot(tmp,np.linalg.inv(vectors))\n",
    "    \n",
    "    S = np.dot(D,S0)\n",
    "    \n",
    "    return S"
   ]
  },
  {
   "cell_type": "code",
   "execution_count": 9,
   "id": "44309e0e",
   "metadata": {},
   "outputs": [],
   "source": [
    "S = GetProbs(MValues,vectors,[1,0],1)"
   ]
  },
  {
   "cell_type": "code",
   "execution_count": 10,
   "id": "48113a32",
   "metadata": {},
   "outputs": [
    {
     "name": "stdout",
     "output_type": "stream",
     "text": [
      "[0.6 0.4]\n"
     ]
    }
   ],
   "source": [
    "print(S)"
   ]
  },
  {
   "cell_type": "code",
   "execution_count": 11,
   "id": "486dc179",
   "metadata": {},
   "outputs": [],
   "source": [
    "def GetTracks(S0,Steps = 100):\n",
    "    \n",
    "    x = np.linspace(0,Steps,Steps+1)\n",
    "\n",
    "    FinalStates = np.zeros((len(x),2))\n",
    "\n",
    "    for i in range(len(x)):\n",
    "        FinalStates[i] = GetProbs(MValues,vectors,S0,i)\n",
    "        \n",
    "    return FinalStates"
   ]
  },
  {
   "cell_type": "code",
   "execution_count": 12,
   "id": "90301967",
   "metadata": {},
   "outputs": [],
   "source": [
    "States = np.array([[1,0],[0,1],[0.3,0.7]])"
   ]
  },
  {
   "cell_type": "code",
   "execution_count": 13,
   "id": "638a281c",
   "metadata": {},
   "outputs": [
    {
     "name": "stdout",
     "output_type": "stream",
     "text": [
      "[0.34016 0.65984]\n",
      "[0.32992 0.67008]\n",
      "[0.332992 0.667008]\n"
     ]
    },
    {
     "data": {
      "image/png": "[encoded data removed]",
      "text/plain": [
       "<Figure size 432x288 with 1 Axes>"
      ]
     },
     "metadata": {
      "needs_background": "light"
     },
     "output_type": "display_data"
    }
   ],
   "source": [
    "for s in States:\n",
    "    FinalStates = GetTracks(s,5)\n",
    "    print(FinalStates[-1])\n",
    "    plt.scatter(FinalStates[:,0],FinalStates[:,1],marker='^',s=50)\n",
    "    plt.xlabel(r'$p(A)$',fontsize=15)\n",
    "    plt.ylabel(r'$p(B)$',fontsize=15)"
   ]
  },
  {
   "cell_type": "code",
   "execution_count": null,
   "id": "ca7901d6",
   "metadata": {},
   "outputs": [],
   "source": []
  },
  {
   "cell_type": "code",
   "execution_count": null,
   "id": "0afd43c5",
   "metadata": {},
   "outputs": [],
   "source": []
  }
 ],
 "metadata": {
  "kernelspec": {
   "display_name": "Python 3",
   "language": "python",
   "name": "python3"
  },
  "language_info": {
   "codemirror_mode": {
    "name": "ipython",
    "version": 3
   },
   "file_extension": ".py",
   "mimetype": "text/x-python",
   "name": "python",
   "nbconvert_exporter": "python",
   "pygments_lexer": "ipython3",
   "version": "3.8.2"
  }
 },
 "nbformat": 4,
 "nbformat_minor": 5
}
