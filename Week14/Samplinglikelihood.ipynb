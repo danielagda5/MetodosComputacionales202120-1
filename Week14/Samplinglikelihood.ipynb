{
 "cells": [
  {
   "cell_type": "code",
   "execution_count": 5,
   "metadata": {},
   "outputs": [],
   "source": [
    "# % matplotlib notebook \n",
    "import numpy as np\n",
    "import matplotlib.pyplot as plt\n",
    "from matplotlib          import rc \n",
    "from matplotlib          import cm\n",
    "from tqdm import tqdm"
   ]
  },
  {
   "cell_type": "code",
   "execution_count": 6,
   "metadata": {},
   "outputs": [],
   "source": [
    "def GetHisto(l,h = 0.2):\n",
    "    \n",
    "    xmin_, xmax_ = np.min(l), np.max(l)\n",
    "    bines = np.arange(xmin_,xmax_+h,h)\n",
    "    H, bins = np.histogram(l,bins=bines)\n",
    "    w = np.diff(bins)\n",
    "    m = bins[:-1] + 0.5*w[0] # Marcas de clase\n",
    "    HNorm = H / np.sum(H*w)\n",
    "    \n",
    "    return H,HNorm,bins,m,w"
   ]
  },
  {
   "cell_type": "code",
   "execution_count": 7,
   "metadata": {},
   "outputs": [],
   "source": [
    "def Likelihood(x,mu,std):\n",
    "    return 1/np.sqrt(2*np.pi*std**2)*np.exp(-(x-mu)**2/(2*std**2))"
   ]
  },
  {
   "cell_type": "code",
   "execution_count": 8,
   "metadata": {},
   "outputs": [],
   "source": [
    "def Metropolis( Likelihood, mu_, sigma_, seed_ = 0., delta_ = 1.0, NSteps = int(4e4) ):\n",
    "    \n",
    "    x = np.zeros(NSteps)\n",
    "    x[0] = seed_\n",
    "    \n",
    "    accept = 0\n",
    "    \n",
    "    for i in tqdm(range(NSteps-1)):\n",
    "        \n",
    "        xn = x[i] + np.random.uniform(-delta_,delta_)\n",
    "        \n",
    "        alpha = np.minimum( 1., Likelihood(xn,mu_,sigma_)/Likelihood(x[i],mu_,sigma_))\n",
    "        \n",
    "        g = np.random.rand()\n",
    "        \n",
    "        if g < alpha:\n",
    "            x[i+1] = xn\n",
    "            accept += 1\n",
    "            \n",
    "        else:\n",
    "            x[i+1] = x[i]\n",
    "            \n",
    "    print( accept/float(NSteps) )\n",
    "    \n",
    "    return x"
   ]
  },
  {
   "cell_type": "code",
   "execution_count": 10,
   "metadata": {},
   "outputs": [
    {
     "name": "stderr",
     "output_type": "stream",
     "text": [
      "100%|██████████| 39999/39999 [00:01<00:00, 21844.83it/s]"
     ]
    },
    {
     "name": "stdout",
     "output_type": "stream",
     "text": [
      "0.869275\n"
     ]
    },
    {
     "name": "stderr",
     "output_type": "stream",
     "text": [
      "\n"
     ]
    }
   ],
   "source": [
    "mu = 0.3\n",
    "sigma = 1.5\n",
    "x = Metropolis(Likelihood,mu,sigma)"
   ]
  },
  {
   "cell_type": "code",
   "execution_count": 11,
   "metadata": {},
   "outputs": [],
   "source": [
    "H,HNorm,bins,m,w = GetHisto(x)"
   ]
  },
  {
   "cell_type": "code",
   "execution_count": 12,
   "metadata": {},
   "outputs": [
    {
     "data": {
      "text/plain": [
       "[<matplotlib.lines.Line2D at 0x7fa4004c2f50>]"
      ]
     },
     "execution_count": 12,
     "metadata": {},
     "output_type": "execute_result"
    },
    {
     "data": {
      "image/png": "[encoded data removed]",
      "text/plain": [
       "<Figure size 432x432 with 1 Axes>"
      ]
     },
     "metadata": {
      "needs_background": "light"
     },
     "output_type": "display_data"
    }
   ],
   "source": [
    "fig = plt.figure(figsize=(6,6))\n",
    "ax = fig.add_subplot(1,1,1)\n",
    "ax.bar(m,HNorm, color='b',width=w,ec='k', alpha=0.5, label='Sample')\n",
    "\n",
    "\n",
    "xmin_, xmax_ = np.min(x), np.max(x)\n",
    "t = np.linspace(xmin_, xmax_)\n",
    "ax.plot(t,Likelihood(t,mu,sigma),color='r')"
   ]
  },
  {
   "cell_type": "code",
   "execution_count": null,
   "metadata": {},
   "outputs": [],
   "source": []
  }
 ],
 "metadata": {
  "kernelspec": {
   "display_name": "Python 3",
   "language": "python",
   "name": "python3"
  },
  "language_info": {
   "codemirror_mode": {
    "name": "ipython",
    "version": 3
   },
   "file_extension": ".py",
   "mimetype": "text/x-python",
   "name": "python",
   "nbconvert_exporter": "python",
   "pygments_lexer": "ipython3",
   "version": "3.7.6"
  }
 },
 "nbformat": 4,
 "nbformat_minor": 4
}
