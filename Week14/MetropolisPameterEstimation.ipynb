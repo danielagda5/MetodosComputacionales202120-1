{
 "cells": [
  {
   "cell_type": "code",
   "execution_count": 1,
   "metadata": {},
   "outputs": [],
   "source": [
    "import numpy as np\n",
    "import matplotlib.pyplot as plt\n",
    "from matplotlib import rc\n",
    "from matplotlib import cm\n",
    "from mpl_toolkits.mplot3d import Axes3D\n",
    "from scipy.stats import chi2\n",
    "from scipy.stats import norm\n",
    "\n",
    "from tqdm import tqdm\n",
    "import os.path as path\n",
    "import wget"
   ]
  },
  {
   "cell_type": "markdown",
   "metadata": {},
   "source": [
    "# Modelo de Ajuste\n",
    "\n",
    "Definimos un modelo matemático para ajustar los datos, dicha función depende de la variable $x$ y de dos parámetros de ajuste $m$ y $b$.\n",
    "\n",
    "$$ Y_{fit} = f(x) = mx + b $$\n",
    "\n",
    "## Función de Costo\n",
    "\n",
    "Para cuantificar el nivel de acuerdo entre los datos observados y el modelo usamos una función de costo:\n",
    "\n",
    "$$  \\chi^{2}(m,b) = \\sum_{i = 0}^{N} \\frac{ \\left (Y_{Obs,i} - Y_{fit}\\right)^{2} }{2\\sigma_{i}^{2}}$$\n",
    "$$  \\chi^{2}(m,b) = \\sum_{i = 0}^{N} \\frac{ \\left (Y_{Obs,i} - (m X_{i}+b)\\right)^{2} }{2\\sigma_{i}^{2}}$$"
   ]
  },
  {
   "cell_type": "code",
   "execution_count": 69,
   "metadata": {},
   "outputs": [
    {
     "name": "stdout",
     "output_type": "stream",
     "text": [
      "File loaded\n"
     ]
    }
   ],
   "source": [
    "!rm Data/*\n",
    "file = 'Data/data.dat'\n",
    "#url = 'https://raw.githubusercontent.com/asegura4488/DataBase/main/MetodosComputacionales/MCMC_Lineal.dat'\n",
    "#url = 'https://raw.githubusercontent.com/asegura4488/DataBase/main/MetodosComputacionales/MCMC.dat'\n",
    "url = 'https://raw.githubusercontent.com/asegura4488/Database/main/MetodosComputacionalesReforma/MinimosLineal.txt'\n",
    "#url = 'https://raw.githubusercontent.com/asegura4488/Database/main/MetodosComputacionalesReforma/MinimosCuadratico.txt'\n",
    "if not path.exists(file):\n",
    "    Path_ = wget.download(url,file)\n",
    "    print('File loaded')\n",
    "else:\n",
    "    Path_ = file"
   ]
  },
  {
   "cell_type": "code",
   "execution_count": 70,
   "metadata": {},
   "outputs": [],
   "source": [
    "def GetHisto(l,h = 0.2):\n",
    "    \n",
    "    xmin_, xmax_ = np.min(l), np.max(l)\n",
    "    bines = np.arange(xmin_,xmax_+h,h)\n",
    "    H, bins = np.histogram(l,bins=bines)\n",
    "    w = np.diff(bins)\n",
    "    m = bins[:-1] + 0.5*w[0] # Marcas de clase\n",
    "    HNorm = H / np.sum(H*w)\n",
    "    \n",
    "    return H,HNorm,bins,m,w"
   ]
  },
  {
   "cell_type": "code",
   "execution_count": 71,
   "metadata": {},
   "outputs": [],
   "source": [
    "data = np.loadtxt(Path_, comments='#')\n",
    "x = data[:,0]\n",
    "y = data[:,1]\n",
    "n = len(x)"
   ]
  },
  {
   "cell_type": "code",
   "execution_count": 72,
   "metadata": {},
   "outputs": [
    {
     "data": {
      "text/plain": [
       "<matplotlib.legend.Legend at 0x7f8b04f3da50>"
      ]
     },
     "execution_count": 72,
     "metadata": {},
     "output_type": "execute_result"
    },
    {
     "data": {
      "image/png": "[encoded data removed]",
      "text/plain": [
       "<Figure size 288x288 with 1 Axes>"
      ]
     },
     "metadata": {
      "needs_background": "light"
     },
     "output_type": "display_data"
    }
   ],
   "source": [
    "fig = plt.figure(figsize=(4,4))\n",
    "ax = fig.add_subplot(1,1,1)\n",
    "#ax.axhline(y=0.,c='r')\n",
    "ax.set_xlabel('X',fontsize=15)\n",
    "ax.set_ylabel('Y',fontsize=15)\n",
    "ax.scatter(x,y,label='Observed Data')\n",
    "ax.legend(loc=0)"
   ]
  },
  {
   "cell_type": "code",
   "execution_count": 73,
   "metadata": {},
   "outputs": [],
   "source": [
    "def Model1(x,c):\n",
    "    \n",
    "    n = len(c)\n",
    "    \n",
    "    y = 0\n",
    "    \n",
    "    for i in range(n):\n",
    "        y += c[i]*x**i\n",
    "        \n",
    "    return y"
   ]
  },
  {
   "cell_type": "code",
   "execution_count": 74,
   "metadata": {},
   "outputs": [],
   "source": [
    "def Model2(x,c):\n",
    "    y = c[0]*np.exp(c[1]*x)\n",
    "    return y"
   ]
  },
  {
   "cell_type": "code",
   "execution_count": 75,
   "metadata": {},
   "outputs": [],
   "source": [
    "def GetChi2(Model_,c):\n",
    "    \n",
    "    sigma = 1\n",
    "    \n",
    "    chi2 = np.sum( (y-Model_(x,c))**2/(2*sigma**2) )\n",
    "    \n",
    "    return chi2"
   ]
  },
  {
   "cell_type": "code",
   "execution_count": 76,
   "metadata": {},
   "outputs": [],
   "source": [
    "def GetSeed( Np, Model_, min_ = 700 ):\n",
    "    \n",
    "    chi2 = min_ + 1\n",
    "    \n",
    "    while(chi2 > min_):\n",
    "        x = np.random.uniform( -50,50, size=Np )\n",
    "        chi2 = GetChi2( Model_, x )\n",
    "        #print(chi2)\n",
    "        \n",
    "    return x"
   ]
  },
  {
   "cell_type": "code",
   "execution_count": 78,
   "metadata": {},
   "outputs": [],
   "source": [
    "#GetSeed( 2, Model1 )"
   ]
  },
  {
   "cell_type": "code",
   "execution_count": 102,
   "metadata": {},
   "outputs": [],
   "source": [
    "def Metropolis( Np = 3, Model_=Model1, delta = 1.5, NSteps=100, burned = 0  ):\n",
    "    \n",
    "    xt = np.ones( (NSteps +1 , Np) )\n",
    "    \n",
    "    xt[0] = GetSeed( Np = Np, Model_ = Model_ )\n",
    "    \n",
    "    print('--- seed found ---')\n",
    "    \n",
    "    for i in tqdm(range(1,NSteps-1)):\n",
    "        \n",
    "        xt[i,:] = xt[i-1,:] + (np.random.random(Np)-0.5)*delta\n",
    "        \n",
    "        future = np.exp( - GetChi2(Model_ = Model_, c = xt[i,:] ) )\n",
    "        present = np.exp( - GetChi2(Model_ = Model_, c = xt[i-1,:] ) )\n",
    "        \n",
    "        alpha = np.minimum( 1, future/present )\n",
    "        g = np.random.rand()\n",
    "        \n",
    "        if g < alpha:\n",
    "            xt[i,:] = xt[i,:]\n",
    "        else:\n",
    "            xt[i,:] = xt[i-1,:]\n",
    "           \n",
    "    ii = NSteps - burned\n",
    "    \n",
    "    return xt[-ii:,:]"
   ]
  },
  {
   "cell_type": "code",
   "execution_count": 103,
   "metadata": {},
   "outputs": [
    {
     "name": "stderr",
     "output_type": "stream",
     "text": [
      "  1%|          | 1117/99998 [00:00<00:18, 5440.91it/s]"
     ]
    },
    {
     "name": "stdout",
     "output_type": "stream",
     "text": [
      "--- seed found ---\n"
     ]
    },
    {
     "name": "stderr",
     "output_type": "stream",
     "text": [
      "100%|██████████| 99998/99998 [00:17<00:00, 5640.48it/s]\n"
     ]
    }
   ],
   "source": [
    "Np = 2\n",
    "xt = Metropolis( Np = Np, Model_ = Model1, NSteps = int(1e5) )"
   ]
  },
  {
   "cell_type": "code",
   "execution_count": 104,
   "metadata": {},
   "outputs": [
    {
     "name": "stdout",
     "output_type": "stream",
     "text": [
      "[-5.12242372  2.12460903]\n"
     ]
    }
   ],
   "source": [
    "c_ = np.mean( xt, axis=0 )\n",
    "print(c_)"
   ]
  },
  {
   "cell_type": "code",
   "execution_count": 105,
   "metadata": {},
   "outputs": [
    {
     "name": "stdout",
     "output_type": "stream",
     "text": [
      "[[-5.97035966  2.04783285]\n",
      " [-4.23486278  2.19665528]]\n"
     ]
    }
   ],
   "source": [
    "# Hallando los errores en los parametros\n",
    "q = np.quantile(a = xt, q = [0.025,0.975], axis = 0)\n",
    "print(q)"
   ]
  },
  {
   "cell_type": "code",
   "execution_count": 106,
   "metadata": {},
   "outputs": [
    {
     "name": "stdout",
     "output_type": "stream",
     "text": [
      "[0.88756094 0.07204625]\n",
      "[0.84793593 0.07677618]\n"
     ]
    }
   ],
   "source": [
    "errorsup = q[1] - c_\n",
    "errorinf = c_ - q[0]\n",
    "print(errorsup)\n",
    "print(errorinf)"
   ]
  },
  {
   "cell_type": "code",
   "execution_count": 96,
   "metadata": {},
   "outputs": [],
   "source": [
    "#print(xt)"
   ]
  },
  {
   "cell_type": "code",
   "execution_count": 107,
   "metadata": {},
   "outputs": [
    {
     "data": {
      "text/plain": [
       "<matplotlib.collections.PathCollection at 0x7f8b045423d0>"
      ]
     },
     "execution_count": 107,
     "metadata": {},
     "output_type": "execute_result"
    },
    {
     "data": {
      "image/png": "[encoded data removed]",
      "text/plain": [
       "<Figure size 720x360 with 2 Axes>"
      ]
     },
     "metadata": {
      "needs_background": "light"
     },
     "output_type": "display_data"
    }
   ],
   "source": [
    "fig = plt.figure(figsize=(10,5))\n",
    "ax = fig.add_subplot(1,2,1)\n",
    "ax1 = fig.add_subplot(1,2,2)\n",
    "\n",
    "for i in range(len(xt[0,:])):\n",
    "    \n",
    "    _,H,_,m,w = GetHisto(xt[:,i], h=0.1)\n",
    "    ax.bar(m,H,width=w, ec='k', alpha=0.5, label='c = %.0f'%(i))\n",
    "    \n",
    "l = ax.legend()\n",
    "\n",
    "ax1.scatter(xt[:,0],xt[:,1])\n",
    "#ax1.scatter(xt[:,0],xt[:,2])"
   ]
  },
  {
   "cell_type": "code",
   "execution_count": 23,
   "metadata": {},
   "outputs": [],
   "source": [
    "#plt.hist(xt[:,2])"
   ]
  },
  {
   "cell_type": "code",
   "execution_count": null,
   "metadata": {},
   "outputs": [],
   "source": []
  },
  {
   "cell_type": "code",
   "execution_count": null,
   "metadata": {},
   "outputs": [],
   "source": []
  },
  {
   "cell_type": "code",
   "execution_count": 98,
   "metadata": {},
   "outputs": [
    {
     "data": {
      "text/plain": [
       "<matplotlib.legend.Legend at 0x7f8b04586750>"
      ]
     },
     "execution_count": 98,
     "metadata": {},
     "output_type": "execute_result"
    },
    {
     "data": {
      "image/png": "[encoded data removed]",
      "text/plain": [
       "<Figure size 288x288 with 1 Axes>"
      ]
     },
     "metadata": {
      "needs_background": "light"
     },
     "output_type": "display_data"
    }
   ],
   "source": [
    "fig = plt.figure(figsize=(4,4))\n",
    "ax = fig.add_subplot(1,1,1)\n",
    "\n",
    "ax.scatter(x,y,marker='o',color='r',label='Observed Data')\n",
    "\n",
    "t = np.linspace(np.min(x),np.max(x),100)\n",
    "ax.plot(t,Model1(t,c_),label='Model')\n",
    "\n",
    "#ax.axhline(y=0.,c='r')\n",
    "ax.set_xlabel('X',fontsize=15)\n",
    "ax.set_ylabel('Y',fontsize=15)\n",
    "ax.legend(loc=0)"
   ]
  },
  {
   "cell_type": "code",
   "execution_count": 99,
   "metadata": {},
   "outputs": [
    {
     "name": "stdout",
     "output_type": "stream",
     "text": [
      "11.280077396740543 0.6635339645141496\n"
     ]
    }
   ],
   "source": [
    "Chi2 = GetChi2(Model_ = Model1, c=c_)\n",
    "NChi2 = Chi2/(n-Np)\n",
    "print(Chi2,NChi2)"
   ]
  },
  {
   "cell_type": "code",
   "execution_count": 100,
   "metadata": {},
   "outputs": [
    {
     "name": "stdout",
     "output_type": "stream",
     "text": [
      "27.58711163827534\n"
     ]
    }
   ],
   "source": [
    "upper = chi2.ppf(0.95, df=n-Np)\n",
    "print(upper)"
   ]
  },
  {
   "cell_type": "code",
   "execution_count": 101,
   "metadata": {},
   "outputs": [
    {
     "name": "stdout",
     "output_type": "stream",
     "text": [
      "0.8416392254639454\n",
      "-1.0012177456826132\n"
     ]
    }
   ],
   "source": [
    "prob = chi2.cdf(Chi2,df = n-Np)\n",
    "pvalue = 1 - prob\n",
    "print(pvalue)\n",
    "print(norm.ppf(1-pvalue))"
   ]
  },
  {
   "cell_type": "code",
   "execution_count": null,
   "metadata": {},
   "outputs": [],
   "source": []
  }
 ],
 "metadata": {
  "kernelspec": {
   "display_name": "Python 3",
   "language": "python",
   "name": "python3"
  },
  "language_info": {
   "codemirror_mode": {
    "name": "ipython",
    "version": 3
   },
   "file_extension": ".py",
   "mimetype": "text/x-python",
   "name": "python",
   "nbconvert_exporter": "python",
   "pygments_lexer": "ipython3",
   "version": "3.7.6"
  }
 },
 "nbformat": 4,
 "nbformat_minor": 4
}
