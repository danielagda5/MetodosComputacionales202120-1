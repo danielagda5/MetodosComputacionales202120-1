{
 "cells": [
  {
   "cell_type": "code",
   "execution_count": 1,
   "metadata": {},
   "outputs": [],
   "source": [
    "import numpy as np\n",
    "import matplotlib.pyplot as plt\n",
    "from matplotlib import rc\n",
    "from matplotlib import cm\n",
    "from mpl_toolkits.mplot3d import Axes3D\n",
    "from scipy.stats import chi2\n",
    "from scipy.stats import norm\n",
    "\n",
    "from tqdm import tqdm\n",
    "import os.path as path\n",
    "import wget"
   ]
  },
  {
   "cell_type": "markdown",
   "metadata": {},
   "source": [
    "# Modelo de Ajuste\n",
    "\n",
    "Definimos un modelo matemático para ajustar los datos, dicha función depende de la variable $x$ y de dos parámetros de ajuste $m$ y $b$.\n",
    "\n",
    "$$ Y_{fit} = f(x) = mx + b $$\n",
    "\n",
    "## Función de Costo\n",
    "\n",
    "Para cuantificar el nivel de acuerdo entre los datos observados y el modelo usamos una función de costo:\n",
    "\n",
    "$$  \\chi^{2}(m,b) = \\sum_{i = 0}^{N} \\frac{ \\left (Y_{Obs,i} - Y_{fit}\\right)^{2} }{2\\sigma_{i}^{2}}$$\n",
    "$$  \\chi^{2}(m,b) = \\sum_{i = 0}^{N} \\frac{ \\left (Y_{Obs,i} - (m X_{i}+b)\\right)^{2} }{2\\sigma_{i}^{2}}$$"
   ]
  },
  {
   "cell_type": "code",
   "execution_count": 2,
   "metadata": {},
   "outputs": [
    {
     "name": "stdout",
     "output_type": "stream",
     "text": [
      "rm: no se puede borrar 'Data/*': No existe el archivo o el directorio\n",
      "File loaded\n"
     ]
    }
   ],
   "source": [
    "!rm Data/*\n",
    "file = 'Data/data.dat'\n",
    "#url = 'https://raw.githubusercontent.com/asegura4488/DataBase/main/MetodosComputacionales/MCMC_Lineal.dat'\n",
    "#url = 'https://raw.githubusercontent.com/asegura4488/DataBase/main/MetodosComputacionales/MCMC.dat'\n",
    "#url = 'https://raw.githubusercontent.com/asegura4488/Database/main/MetodosComputacionalesReforma/MinimosLineal.txt'\n",
    "url = 'https://raw.githubusercontent.com/asegura4488/Database/main/MetodosComputacionalesReforma/MinimosCuadratico.txt'\n",
    "if not path.exists(file):\n",
    "    Path_ = wget.download(url,file)\n",
    "    print('File loaded')\n",
    "else:\n",
    "    Path_ = file"
   ]
  },
  {
   "cell_type": "code",
   "execution_count": 3,
   "metadata": {},
   "outputs": [],
   "source": [
    "def GetHisto(l,h = 0.2):\n",
    "    \n",
    "    xmin_, xmax_ = np.min(l), np.max(l)\n",
    "    bines = np.arange(xmin_,xmax_+h,h)\n",
    "    H, bins = np.histogram(l,bins=bines)\n",
    "    w = np.diff(bins)\n",
    "    m = bins[:-1] + 0.5*w[0] # Marcas de clase\n",
    "    HNorm = H / np.sum(H*w)\n",
    "    \n",
    "    return H,HNorm,bins,m,w"
   ]
  },
  {
   "cell_type": "code",
   "execution_count": 4,
   "metadata": {},
   "outputs": [],
   "source": [
    "data = np.loadtxt(Path_, comments='#')\n",
    "x = data[:,0]\n",
    "y = data[:,1]\n",
    "n = len(x)"
   ]
  },
  {
   "cell_type": "code",
   "execution_count": 5,
   "metadata": {},
   "outputs": [
    {
     "data": {
      "text/plain": [
       "<matplotlib.legend.Legend at 0x7f92457d1e50>"
      ]
     },
     "execution_count": 5,
     "metadata": {},
     "output_type": "execute_result"
    },
    {
     "data": {
      "image/png": "[encoded data removed]",
      "text/plain": [
       "<Figure size 288x288 with 1 Axes>"
      ]
     },
     "metadata": {
      "needs_background": "light"
     },
     "output_type": "display_data"
    }
   ],
   "source": [
    "fig = plt.figure(figsize=(4,4))\n",
    "ax = fig.add_subplot(1,1,1)\n",
    "ax.axhline(y=0.,c='r')\n",
    "ax.set_xlabel('X',fontsize=15)\n",
    "ax.set_ylabel('Y',fontsize=15)\n",
    "ax.scatter(x,y,label='Observed Data')\n",
    "ax.legend(loc=0)"
   ]
  },
  {
   "cell_type": "code",
   "execution_count": null,
   "metadata": {},
   "outputs": [],
   "source": []
  }
 ],
 "metadata": {
  "kernelspec": {
   "display_name": "Python 3",
   "language": "python",
   "name": "python3"
  },
  "language_info": {
   "codemirror_mode": {
    "name": "ipython",
    "version": 3
   },
   "file_extension": ".py",
   "mimetype": "text/x-python",
   "name": "python",
   "nbconvert_exporter": "python",
   "pygments_lexer": "ipython3",
   "version": "3.7.6"
  }
 },
 "nbformat": 4,
 "nbformat_minor": 4
}
