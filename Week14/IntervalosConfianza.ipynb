{
 "cells": [
  {
   "cell_type": "code",
   "execution_count": 1,
   "id": "5065ed10",
   "metadata": {},
   "outputs": [],
   "source": [
    "import numpy as np\n",
    "import random\n",
    "import matplotlib.pyplot as plt\n",
    "from sklearn.utils import shuffle, resample\n",
    "from scipy.stats import chi2\n",
    "from scipy.stats import norm\n",
    "from scipy.stats import t\n",
    "from tqdm import tqdm"
   ]
  },
  {
   "cell_type": "code",
   "execution_count": 3,
   "id": "3bf6aaf0",
   "metadata": {},
   "outputs": [],
   "source": [
    "sample = np.array([0.974,0.950,0.932,1.104,1.038,0.920,0.935,0.907,0.810,0.915])\n",
    "n = len(sample)\n",
    "sigma = np.sqrt(0.15)"
   ]
  },
  {
   "cell_type": "code",
   "execution_count": 4,
   "id": "6721a0d7",
   "metadata": {},
   "outputs": [
    {
     "name": "stdout",
     "output_type": "stream",
     "text": [
      "0.9484999999999999\n"
     ]
    }
   ],
   "source": [
    "media = np.mean(sample)\n",
    "print(media)"
   ]
  },
  {
   "cell_type": "code",
   "execution_count": 30,
   "id": "969c889b",
   "metadata": {},
   "outputs": [
    {
     "name": "stdout",
     "output_type": "stream",
     "text": [
      "-1.9599639845400545 1.959963984540054\n"
     ]
    }
   ],
   "source": [
    "lower = norm.ppf( 0.025 )\n",
    "upper = norm.ppf( 0.975 )\n",
    "print(lower,upper)"
   ]
  },
  {
   "cell_type": "code",
   "execution_count": 32,
   "id": "d021e52f",
   "metadata": {},
   "outputs": [],
   "source": [
    "x_ = np.linspace( norm.ppf( 0.0001 ), norm.ppf( 0.9999 ), 100  )"
   ]
  },
  {
   "cell_type": "code",
   "execution_count": 33,
   "id": "881f6f0d",
   "metadata": {},
   "outputs": [
    {
     "data": {
      "text/plain": [
       "<matplotlib.lines.Line2D at 0x7f7a86e59af0>"
      ]
     },
     "execution_count": 33,
     "metadata": {},
     "output_type": "execute_result"
    },
    {
     "data": {
      "image/png": "[encoded data removed]",
      "text/plain": [
       "<Figure size 432x432 with 1 Axes>"
      ]
     },
     "metadata": {
      "needs_background": "light"
     },
     "output_type": "display_data"
    }
   ],
   "source": [
    "fig = plt.figure(figsize=(6,6))\n",
    "ax = fig.add_subplot(1,1,1)\n",
    "ax.plot(x_, norm.pdf(x_),'k--')\n",
    "ax.plot(x_, t.pdf(x_,df=n-1),'b--')\n",
    "ax.axvline( x = lower, color='r')\n",
    "ax.axvline( x = upper, color='r')\n",
    "ax.axvline( x = media, color='k' )"
   ]
  },
  {
   "cell_type": "code",
   "execution_count": 16,
   "id": "79e781ce",
   "metadata": {},
   "outputs": [
    {
     "name": "stdout",
     "output_type": "stream",
     "text": [
      "[0.7084544161822344, 1.1885455838177654]\n",
      "0.17143748640476186\n"
     ]
    }
   ],
   "source": [
    "IC = [ media + lower*sigma/np.sqrt(n), media + upper*sigma/np.sqrt(n)  ]\n",
    "print(IC)\n",
    "\n",
    "CL = norm.cdf( media )\n",
    "pvalue = 1 - CL\n",
    "\n",
    "print(pvalue)"
   ]
  },
  {
   "cell_type": "code",
   "execution_count": 19,
   "id": "4d1c240d",
   "metadata": {},
   "outputs": [],
   "source": [
    "def Bootstrapping(sample):\n",
    "    resample_ = np.random.choice( sample, size = len(sample), replace = True ) # Debe ser con reemplazo\n",
    "    return np.mean( resample_ )"
   ]
  },
  {
   "cell_type": "code",
   "execution_count": 20,
   "id": "34203a30",
   "metadata": {},
   "outputs": [],
   "source": [
    "Mean_ = []\n",
    "Ntrials = 100000\n",
    "\n",
    "for i in range(Ntrials):\n",
    "    Mean_.append(Bootstrapping(sample))"
   ]
  },
  {
   "cell_type": "code",
   "execution_count": 21,
   "id": "915903e2",
   "metadata": {},
   "outputs": [
    {
     "name": "stdout",
     "output_type": "stream",
     "text": [
      "0.8569000000000001 1.0719\n"
     ]
    }
   ],
   "source": [
    "# Construirmos el histograma \n",
    "min_, max_ = np.min(Mean_), np.max(Mean_)\n",
    "h = 0.01\n",
    "bins = np.arange(min_, max_+h, h)\n",
    "print(min_,max_)"
   ]
  },
  {
   "cell_type": "code",
   "execution_count": 22,
   "id": "7149325b",
   "metadata": {},
   "outputs": [],
   "source": [
    "H1, bines = np.histogram(Mean_, bins=bins)\n",
    "w = np.diff(bines)\n",
    "# Marca de clase\n",
    "m = bines[:-1] + 0.5*w[0]\n",
    "H1Norm = H1 / np.sum(H1*w) "
   ]
  },
  {
   "cell_type": "code",
   "execution_count": 25,
   "id": "109646d7",
   "metadata": {},
   "outputs": [
    {
     "name": "stdout",
     "output_type": "stream",
     "text": [
      "[0.9034 0.9967]\n"
     ]
    }
   ],
   "source": [
    "cuantiles = np.quantile(a = Mean_, q=[0.025,0.975])\n",
    "print(cuantiles)"
   ]
  },
  {
   "cell_type": "code",
   "execution_count": 27,
   "id": "dd74293d",
   "metadata": {},
   "outputs": [
    {
     "data": {
      "text/plain": [
       "<matplotlib.lines.Line2D at 0x7f7a86f5d9a0>"
      ]
     },
     "execution_count": 27,
     "metadata": {},
     "output_type": "execute_result"
    },
    {
     "data": {
      "image/png": "[encoded data removed]",
      "text/plain": [
       "<Figure size 432x432 with 1 Axes>"
      ]
     },
     "metadata": {
      "needs_background": "light"
     },
     "output_type": "display_data"
    }
   ],
   "source": [
    "fig = plt.figure(figsize=(6,6))\n",
    "ax1 = fig.add_subplot(1,1,1)\n",
    "ax1.bar(bines[:-1] + 0.5*w[0],H1Norm,color='b',width=w,ec='k',alpha=0.5, label='Observed')\n",
    "ax1.axvline( x = cuantiles[0], color='r')\n",
    "ax1.axvline( x = cuantiles[1], color='r')"
   ]
  },
  {
   "cell_type": "code",
   "execution_count": 34,
   "id": "970c5e9e",
   "metadata": {},
   "outputs": [
    {
     "name": "stdout",
     "output_type": "stream",
     "text": [
      "-2.262157162740992 2.2621571627409915\n"
     ]
    }
   ],
   "source": [
    "alpha = 0.05\n",
    "T1 = t.ppf( 0.5*alpha, df = n  - 1   )\n",
    "T2 = t.ppf( 1- 0.5*alpha, df = n  - 1   )\n",
    "print(T1,T2)"
   ]
  },
  {
   "cell_type": "code",
   "execution_count": 36,
   "id": "2f5ca3f0",
   "metadata": {},
   "outputs": [
    {
     "name": "stdout",
     "output_type": "stream",
     "text": [
      "0.07897714155937077 0.07492429512514616\n"
     ]
    }
   ],
   "source": [
    "s = np.sqrt(  np.sum( (sample - np.mean(sample))**2 )/(n-1)  )\n",
    "print(s,np.std(sample))"
   ]
  },
  {
   "cell_type": "code",
   "execution_count": 38,
   "id": "02f61d0c",
   "metadata": {},
   "outputs": [
    {
     "name": "stdout",
     "output_type": "stream",
     "text": [
      "[0.8920031563731101, 1.0049968436268897]\n"
     ]
    }
   ],
   "source": [
    "IC = [ media + T1*s/np.sqrt(n), media + T2*s/np.sqrt(n)  ]\n",
    "print(IC)"
   ]
  },
  {
   "cell_type": "code",
   "execution_count": null,
   "id": "c8b7ece0",
   "metadata": {},
   "outputs": [],
   "source": []
  }
 ],
 "metadata": {
  "kernelspec": {
   "display_name": "Python 3",
   "language": "python",
   "name": "python3"
  },
  "language_info": {
   "codemirror_mode": {
    "name": "ipython",
    "version": 3
   },
   "file_extension": ".py",
   "mimetype": "text/x-python",
   "name": "python",
   "nbconvert_exporter": "python",
   "pygments_lexer": "ipython3",
   "version": "3.8.2"
  }
 },
 "nbformat": 4,
 "nbformat_minor": 5
}
