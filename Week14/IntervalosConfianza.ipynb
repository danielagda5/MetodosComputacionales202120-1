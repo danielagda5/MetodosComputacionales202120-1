{
 "cells": [
  {
   "cell_type": "code",
   "execution_count": 1,
   "id": "55c6ba47",
   "metadata": {},
   "outputs": [],
   "source": [
    "import numpy as np\n",
    "import random\n",
    "import matplotlib.pyplot as plt\n",
    "from sklearn.utils import shuffle, resample\n",
    "from scipy.stats import chi2\n",
    "from scipy.stats import norm\n",
    "from scipy.stats import t\n",
    "from tqdm import tqdm"
   ]
  },
  {
   "cell_type": "code",
   "execution_count": 3,
   "id": "3cce112f",
   "metadata": {},
   "outputs": [],
   "source": [
    "sample = np.array([0.974,0.950,0.932,1.104,1.038,0.920,0.935,0.907,0.810,0.915])\n",
    "n = len(sample)\n",
    "sigma = np.sqrt(0.15)"
   ]
  },
  {
   "cell_type": "code",
   "execution_count": 4,
   "id": "3c6bc7bf",
   "metadata": {},
   "outputs": [
    {
     "name": "stdout",
     "output_type": "stream",
     "text": [
      "0.9484999999999999\n"
     ]
    }
   ],
   "source": [
    "media = np.mean(sample)\n",
    "print(media)"
   ]
  },
  {
   "cell_type": "code",
   "execution_count": 30,
   "id": "929da438",
   "metadata": {},
   "outputs": [
    {
     "name": "stdout",
     "output_type": "stream",
     "text": [
      "-1.9599639845400545 1.959963984540054\n"
     ]
    }
   ],
   "source": [
    "lower = norm.ppf( 0.025 )\n",
    "upper = norm.ppf( 0.975 )\n",
    "print(lower,upper)"
   ]
  },
  {
   "cell_type": "code",
   "execution_count": 32,
   "id": "6c5383a6",
   "metadata": {},
   "outputs": [],
   "source": [
    "x_ = np.linspace( norm.ppf( 0.0001 ), norm.ppf( 0.9999 ), 100  )"
   ]
  },
  {
   "cell_type": "code",
   "execution_count": 33,
   "id": "fde134f1",
   "metadata": {},
   "outputs": [
    {
     "data": {
      "text/plain": [
       "<matplotlib.lines.Line2D at 0x7f7a86e59af0>"
      ]
     },
     "execution_count": 33,
     "metadata": {},
     "output_type": "execute_result"
    },
    {
     "data": {
      "image/png": "[encoded data removed]",
      "text/plain": [
       "<Figure size 432x432 with 1 Axes>"
      ]
     },
     "metadata": {
      "needs_background": "light"
     },
     "output_type": "display_data"
    }
   ],
   "source": [
    "fig = plt.figure(figsize=(6,6))\n",
    "ax = fig.add_subplot(1,1,1)\n",
    "ax.plot(x_, norm.pdf(x_),'k--')\n",
    "ax.plot(x_, t.pdf(x_,df=n-1),'b--')\n",
    "ax.axvline( x = lower, color='r')\n",
    "ax.axvline( x = upper, color='r')\n",
    "ax.axvline( x = media, color='k' )"
   ]
  },
  {
   "cell_type": "code",
   "execution_count": 16,
   "id": "30cdd310",
   "metadata": {},
   "outputs": [
    {
     "name": "stdout",
     "output_type": "stream",
     "text": [
      "[0.7084544161822344, 1.1885455838177654]\n",
      "0.17143748640476186\n"
     ]
    }
   ],
   "source": [
    "IC = [ media + lower*sigma/np.sqrt(n), media + upper*sigma/np.sqrt(n)  ]\n",
    "print(IC)\n",
    "\n",
    "CL = norm.cdf( media )\n",
    "pvalue = 1 - CL\n",
    "\n",
    "print(pvalue)"
   ]
  },
  {
   "cell_type": "code",
   "execution_count": 19,
   "id": "54fc6963",
   "metadata": {},
   "outputs": [],
   "source": [
    "def Bootstrapping(sample):\n",
    "    resample_ = np.random.choice( sample, size = len(sample), replace = True ) # Debe ser con reemplazo\n",
    "    return np.mean( resample_ )"
   ]
  },
  {
   "cell_type": "code",
   "execution_count": 20,
   "id": "6919b995",
   "metadata": {},
   "outputs": [],
   "source": [
    "Mean_ = []\n",
    "Ntrials = 100000\n",
    "\n",
    "for i in range(Ntrials):\n",
    "    Mean_.append(Bootstrapping(sample))"
   ]
  },
  {
   "cell_type": "code",
   "execution_count": 21,
   "id": "9b0382cf",
   "metadata": {},
   "outputs": [
    {
     "name": "stdout",
     "output_type": "stream",
     "text": [
      "0.8569000000000001 1.0719\n"
     ]
    }
   ],
   "source": [
    "# Construirmos el histograma \n",
    "min_, max_ = np.min(Mean_), np.max(Mean_)\n",
    "h = 0.01\n",
    "bins = np.arange(min_, max_+h, h)\n",
    "print(min_,max_)"
   ]
  },
  {
   "cell_type": "code",
   "execution_count": 22,
   "id": "5bac0ae4",
   "metadata": {},
   "outputs": [],
   "source": [
    "H1, bines = np.histogram(Mean_, bins=bins)\n",
    "w = np.diff(bines)\n",
    "# Marca de clase\n",
    "m = bines[:-1] + 0.5*w[0]\n",
    "H1Norm = H1 / np.sum(H1*w) "
   ]
  },
  {
   "cell_type": "code",
   "execution_count": 25,
   "id": "0123ceb9",
   "metadata": {},
   "outputs": [
    {
     "name": "stdout",
     "output_type": "stream",
     "text": [
      "[0.9034 0.9967]\n"
     ]
    }
   ],
   "source": [
    "cuantiles = np.quantile(a = Mean_, q=[0.025,0.975])\n",
    "print(cuantiles)"
   ]
  },
  {
   "cell_type": "code",
   "execution_count": 27,
   "id": "fe08f3ae",
   "metadata": {},
   "outputs": [
    {
     "data": {
      "text/plain": [
       "<matplotlib.lines.Line2D at 0x7f7a86f5d9a0>"
      ]
     },
     "execution_count": 27,
     "metadata": {},
     "output_type": "execute_result"
    },
    {
     "data": {
      "image/png": "[encoded data removed]",
      "text/plain": [
       "<Figure size 432x432 with 1 Axes>"
      ]
     },
     "metadata": {
      "needs_background": "light"
     },
     "output_type": "display_data"
    }
   ],
   "source": [
    "fig = plt.figure(figsize=(6,6))\n",
    "ax1 = fig.add_subplot(1,1,1)\n",
    "ax1.bar(bines[:-1] + 0.5*w[0],H1Norm,color='b',width=w,ec='k',alpha=0.5, label='Observed')\n",
    "ax1.axvline( x = cuantiles[0], color='r')\n",
    "ax1.axvline( x = cuantiles[1], color='r')"
   ]
  },
  {
   "cell_type": "code",
   "execution_count": 34,
   "id": "e1ad5992",
   "metadata": {},
   "outputs": [
    {
     "name": "stdout",
     "output_type": "stream",
     "text": [
      "-2.262157162740992 2.2621571627409915\n"
     ]
    }
   ],
   "source": [
    "alpha = 0.05\n",
    "T1 = t.ppf( 0.5*alpha, df = n  - 1   )\n",
    "T2 = t.ppf( 1- 0.5*alpha, df = n  - 1   )\n",
    "print(T1,T2)"
   ]
  },
  {
   "cell_type": "code",
   "execution_count": 36,
   "id": "57e0f71a",
   "metadata": {},
   "outputs": [
    {
     "name": "stdout",
     "output_type": "stream",
     "text": [
      "0.07897714155937077 0.07492429512514616\n"
     ]
    }
   ],
   "source": [
    "s = np.sqrt(  np.sum( (sample - np.mean(sample))**2 )/(n-1)  )\n",
    "print(s,np.std(sample))"
   ]
  },
  {
   "cell_type": "code",
   "execution_count": 38,
   "id": "4bbab60e",
   "metadata": {},
   "outputs": [
    {
     "name": "stdout",
     "output_type": "stream",
     "text": [
      "[0.8920031563731101, 1.0049968436268897]\n"
     ]
    }
   ],
   "source": [
    "IC = [ media + T1*s/np.sqrt(n), media + T2*s/np.sqrt(n)  ]\n",
    "print(IC)"
   ]
  },
  {
   "cell_type": "markdown",
   "id": "2cae2194",
   "metadata": {},
   "source": [
    "# Distribución varianza"
   ]
  },
  {
   "cell_type": "code",
   "execution_count": 72,
   "id": "d2e11fe3",
   "metadata": {},
   "outputs": [
    {
     "name": "stdout",
     "output_type": "stream",
     "text": [
      "[ 1.42371254 -1.57031974 -4.1105589   3.66823211  0.44664013 -7.42294051\n",
      "  1.04140111  2.82730844  0.7489362   0.01959926]\n"
     ]
    }
   ],
   "source": [
    "n = 10\n",
    "sigma = 3 # Poblacional\n",
    "x = np.random.normal( 0, sigma, size = n )\n",
    "print(x)"
   ]
  },
  {
   "cell_type": "code",
   "execution_count": 73,
   "id": "b34cbc1a",
   "metadata": {},
   "outputs": [],
   "source": [
    "def GetS(sample,n):\n",
    "    return np.sqrt(  np.sum( (sample - np.mean(sample))**2 )/(n-1)  )"
   ]
  },
  {
   "cell_type": "code",
   "execution_count": 74,
   "id": "d9845df9",
   "metadata": {},
   "outputs": [
    {
     "name": "stdout",
     "output_type": "stream",
     "text": [
      "3.3154048289546916\n"
     ]
    }
   ],
   "source": [
    "sigmaM = GetS(x,n)\n",
    "print(sigmaM)"
   ]
  },
  {
   "cell_type": "code",
   "execution_count": 75,
   "id": "4ab97ee0",
   "metadata": {},
   "outputs": [],
   "source": [
    "def GetChi2(S,sigma,n):\n",
    "    return (n-1)*S**2/sigma**2"
   ]
  },
  {
   "cell_type": "code",
   "execution_count": 76,
   "id": "ed364a17",
   "metadata": {},
   "outputs": [],
   "source": [
    "def Bootstrapping(sample):\n",
    "    resample_ = random.choices(sample, k=len(sample))\n",
    "    \n",
    "    sigma_ = np.std(sample) # Desviacion estandar de la poblacion\n",
    "    \n",
    "    return GetChi2( GetS(resample_, len(resample_)), sigma_, len(sample) )"
   ]
  },
  {
   "cell_type": "code",
   "execution_count": 82,
   "id": "45cd13bb",
   "metadata": {},
   "outputs": [],
   "source": [
    "Chi2 = []\n",
    "Ntrials = 100000\n",
    "\n",
    "for i in range(Ntrials):\n",
    "    Chi2.append(Bootstrapping(x))"
   ]
  },
  {
   "cell_type": "code",
   "execution_count": 83,
   "id": "544c063c",
   "metadata": {},
   "outputs": [
    {
     "name": "stdout",
     "output_type": "stream",
     "text": [
      "0.06445107688386781 29.0289276218896\n"
     ]
    }
   ],
   "source": [
    "min_,max_ = np.min(Chi2), np.max(Chi2)\n",
    "h = 2.0\n",
    "bins = np.arange(min_,max_+h,h)\n",
    "print(min_,max_)"
   ]
  },
  {
   "cell_type": "code",
   "execution_count": 84,
   "id": "c30a7685",
   "metadata": {},
   "outputs": [],
   "source": [
    "# Ahora el histograma\n",
    "H1, bines = np.histogram(Chi2, bins=bins)\n",
    "w = np.diff(bines)\n",
    "# Marca de clase\n",
    "m = bines[:-1] + 0.5*w[0]\n",
    "H1Norm = H1 / np.sum(H1*w) "
   ]
  },
  {
   "cell_type": "code",
   "execution_count": 85,
   "id": "705a99ee",
   "metadata": {},
   "outputs": [
    {
     "name": "stdout",
     "output_type": "stream",
     "text": [
      "9\n"
     ]
    }
   ],
   "source": [
    "df = n - 1\n",
    "x_ = np.linspace(chi2.ppf(0.001, df=df),chi2.ppf(0.999, df=df),100)\n",
    "print(df)"
   ]
  },
  {
   "cell_type": "code",
   "execution_count": 86,
   "id": "d5234750",
   "metadata": {},
   "outputs": [
    {
     "data": {
      "text/plain": [
       "[<matplotlib.lines.Line2D at 0x7f7a86952640>]"
      ]
     },
     "execution_count": 86,
     "metadata": {},
     "output_type": "execute_result"
    },
    {
     "data": {
      "image/png": "[encoded data removed]",
      "text/plain": [
       "<Figure size 432x432 with 1 Axes>"
      ]
     },
     "metadata": {
      "needs_background": "light"
     },
     "output_type": "display_data"
    }
   ],
   "source": [
    "fig = plt.figure(figsize=(6,6))\n",
    "ax1 = fig.add_subplot(1,1,1)\n",
    "ax1.bar(bines[:-1] + 0.5*w[0],H1Norm,color='b',width=w,ec='k',alpha=0.5, label='Observed')\n",
    "ax1.plot(x_, chi2.pdf( x_, df = df ),'k--')"
   ]
  },
  {
   "cell_type": "code",
   "execution_count": 87,
   "id": "f56407ba",
   "metadata": {},
   "outputs": [
    {
     "name": "stdout",
     "output_type": "stream",
     "text": [
      "2.7003894999803584 19.02276779864163\n",
      "3.3154048289546916\n",
      "9\n",
      "10.991909179856087\n"
     ]
    }
   ],
   "source": [
    "l1 = chi2.ppf(0.025, df = df)\n",
    "l2 = chi2.ppf(0.975, df = df)\n",
    "\n",
    "S_ = GetS(x, len(x))\n",
    "\n",
    "print(l1,l2)\n",
    "print(S_)\n",
    "print(df)\n",
    "\n",
    "mediaS = S_**2*(df)/chi2.mean(df=df)\n",
    "print(mediaS)"
   ]
  },
  {
   "cell_type": "code",
   "execution_count": 88,
   "id": "7f546d2c",
   "metadata": {},
   "outputs": [],
   "source": [
    "IC = [ S_**2*df/l2, S_**2*df/l1 ]"
   ]
  },
  {
   "cell_type": "code",
   "execution_count": 89,
   "id": "86cd08c8",
   "metadata": {},
   "outputs": [
    {
     "name": "stdout",
     "output_type": "stream",
     "text": [
      "[5.200462081325986, 36.634412413255326]\n"
     ]
    }
   ],
   "source": [
    "print(IC)"
   ]
  },
  {
   "cell_type": "code",
   "execution_count": 90,
   "id": "28ffac38",
   "metadata": {},
   "outputs": [
    {
     "name": "stdout",
     "output_type": "stream",
     "text": [
      "5.791447098530101 25.64250323339924\n"
     ]
    }
   ],
   "source": [
    "errori = S_**2 - IC[0]\n",
    "errord = IC[1] - S_**2\n",
    "print(errori,errord)"
   ]
  },
  {
   "cell_type": "markdown",
   "id": "ff197440",
   "metadata": {},
   "source": [
    "$$  \\hat{\\sigma^{2}} = 11.14^{+6.16}_{-3.36}  $$"
   ]
  },
  {
   "cell_type": "code",
   "execution_count": null,
   "id": "296d1a55",
   "metadata": {},
   "outputs": [],
   "source": []
  }
 ],
 "metadata": {
  "kernelspec": {
   "display_name": "Python 3",
   "language": "python",
   "name": "python3"
  },
  "language_info": {
   "codemirror_mode": {
    "name": "ipython",
    "version": 3
   },
   "file_extension": ".py",
   "mimetype": "text/x-python",
   "name": "python",
   "nbconvert_exporter": "python",
   "pygments_lexer": "ipython3",
   "version": "3.8.2"
  }
 },
 "nbformat": 4,
 "nbformat_minor": 5
}
