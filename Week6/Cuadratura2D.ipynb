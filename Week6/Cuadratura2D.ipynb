{
 "cells": [
  {
   "cell_type": "code",
   "execution_count": 2,
   "id": "994b6846",
   "metadata": {},
   "outputs": [],
   "source": [
    "%matplotlib notebook\n",
    "import numpy as np\n",
    "import matplotlib.pyplot as plt\n",
    "from mpl_toolkits.mplot3d import axes3d\n",
    "from matplotlib import cm\n",
    "\n",
    "from scipy.integrate import dblquad\n",
    "from scipy.integrate import quad"
   ]
  },
  {
   "cell_type": "code",
   "execution_count": 6,
   "id": "03d120c7",
   "metadata": {},
   "outputs": [],
   "source": [
    "b = 1.\n",
    "a = 0.\n",
    "c = 0.\n",
    "d = 1.\n",
    "R = 1."
   ]
  },
  {
   "cell_type": "code",
   "execution_count": 7,
   "id": "814c9c40",
   "metadata": {},
   "outputs": [],
   "source": [
    "def f(x,y):\n",
    "    return 2*np.pi*x"
   ]
  },
  {
   "cell_type": "code",
   "execution_count": 8,
   "id": "1f41cab8",
   "metadata": {},
   "outputs": [],
   "source": [
    "deg = 10\n",
    "x, w = np.polynomial.legendre.leggauss(deg)"
   ]
  },
  {
   "cell_type": "code",
   "execution_count": 9,
   "id": "63086c34",
   "metadata": {},
   "outputs": [],
   "source": [
    "def GetIntegral(f,y,w,R):\n",
    "    \n",
    "    # Limite variable\n",
    "    b = np.sqrt(R**2 - y**2)\n",
    "    \n",
    "    t1 = 0.5*((b-a)*x + a + b)\n",
    "    t2 = 0.5*((d-c)*x + c + d)\n",
    "    \n",
    "    z = np.zeros((deg,deg))\n",
    "    \n",
    "    for i in range(len(t1)):\n",
    "        for j in range(len(t2)):\n",
    "            z[i,j] = (b[i]-a)*w[i]*w[j]*f(t1[i],t2[j])\n",
    "\n",
    "    integral = z.sum()*(d-c)/4.\n",
    "    \n",
    "    return integral"
   ]
  },
  {
   "cell_type": "code",
   "execution_count": 10,
   "id": "3df876f9",
   "metadata": {},
   "outputs": [],
   "source": [
    "I = GetIntegral(f,x,w,R)"
   ]
  },
  {
   "cell_type": "code",
   "execution_count": 12,
   "id": "57b58d12",
   "metadata": {},
   "outputs": [
    {
     "name": "stdout",
     "output_type": "stream",
     "text": [
      "2.0943951023931957 2.0943951023931953\n"
     ]
    }
   ],
   "source": [
    "print(I,2*np.pi*R**3/3)"
   ]
  },
  {
   "cell_type": "code",
   "execution_count": 13,
   "id": "0105270e",
   "metadata": {},
   "outputs": [],
   "source": [
    "def f2(x,y):\n",
    "    return 2*np.pi*x"
   ]
  },
  {
   "cell_type": "code",
   "execution_count": 18,
   "id": "12eb6489",
   "metadata": {},
   "outputs": [
    {
     "name": "stdout",
     "output_type": "stream",
     "text": [
      "(2.0943951023931953, 3.4878520525055084e-14)\n"
     ]
    }
   ],
   "source": [
    "# Limites variables\n",
    "integral = dblquad(f2, a, b, lambda y: 0., lambda y: np.sqrt(R**2 - y**2))\n",
    "# Limites fijos\n",
    "#integral = dblquad(f2, a, b, lambda y: 0, lambda y: 1)\n",
    "print(integral)"
   ]
  },
  {
   "cell_type": "code",
   "execution_count": 22,
   "id": "d52e03b3",
   "metadata": {},
   "outputs": [],
   "source": [
    "# Para integracion 1D\n",
    "\n",
    "f1 = lambda x,a,b,c: a*x**2 + b*x + c\n",
    "\n",
    "#def f1(x,a,b,c):\n",
    "#    return a*x**2 + b*x + c"
   ]
  },
  {
   "cell_type": "code",
   "execution_count": 23,
   "id": "3f8e7072",
   "metadata": {},
   "outputs": [
    {
     "name": "stdout",
     "output_type": "stream",
     "text": [
      "(8.166666666666668, 9.066821367772113e-14)\n"
     ]
    }
   ],
   "source": [
    "a,b,c, = 2,3,6\n",
    "Integral = quad(f1, 0,1 ,args=(a,b,c))\n",
    "print(Integral)"
   ]
  },
  {
   "cell_type": "code",
   "execution_count": null,
   "id": "d0f02c41",
   "metadata": {},
   "outputs": [],
   "source": []
  }
 ],
 "metadata": {
  "kernelspec": {
   "display_name": "Python 3",
   "language": "python",
   "name": "python3"
  },
  "language_info": {
   "codemirror_mode": {
    "name": "ipython",
    "version": 3
   },
   "file_extension": ".py",
   "mimetype": "text/x-python",
   "name": "python",
   "nbconvert_exporter": "python",
   "pygments_lexer": "ipython3",
   "version": "3.8.2"
  }
 },
 "nbformat": 4,
 "nbformat_minor": 5
}
