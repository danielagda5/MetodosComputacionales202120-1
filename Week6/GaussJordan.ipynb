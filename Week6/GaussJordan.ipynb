{
 "cells": [
  {
   "cell_type": "code",
   "execution_count": 1,
   "metadata": {},
   "outputs": [],
   "source": [
    "%matplotlib notebook\n",
    "import numpy as np\n",
    "import matplotlib.pyplot as plt\n",
    "from mpl_toolkits.mplot3d import Axes3D\n",
    "from matplotlib import cm"
   ]
  },
  {
   "cell_type": "code",
   "execution_count": 2,
   "metadata": {},
   "outputs": [
    {
     "name": "stdout",
     "output_type": "stream",
     "text": [
      "[[ 3 -1 -1]\n",
      " [-1  3  1]\n",
      " [ 2  1  4]]\n"
     ]
    }
   ],
   "source": [
    "M = np.array( [[3,-1,-1],[-1,3,1],[2,1,4]] )\n",
    "print(M)"
   ]
  },
  {
   "cell_type": "code",
   "execution_count": 3,
   "metadata": {},
   "outputs": [
    {
     "name": "stdout",
     "output_type": "stream",
     "text": [
      "[1 3 7]\n",
      "3\n"
     ]
    }
   ],
   "source": [
    "b = np.array([1,3,7])\n",
    "print(b)\n",
    "\n",
    "print(M.shape[1])"
   ]
  },
  {
   "cell_type": "code",
   "execution_count": 4,
   "metadata": {},
   "outputs": [
    {
     "data": {
      "text/plain": [
       "array([1., 1., 1.])"
      ]
     },
     "execution_count": 4,
     "metadata": {},
     "output_type": "execute_result"
    }
   ],
   "source": [
    "np.linalg.solve(M,b)"
   ]
  },
  {
   "cell_type": "code",
   "execution_count": 15,
   "metadata": {},
   "outputs": [],
   "source": [
    "def GetJacobiMethod(Matrix, bvector, itmax, error):\n",
    "    \n",
    "    n = Matrix.shape[1]\n",
    "    \n",
    "    x = np.zeros(n)\n",
    "\n",
    "    sumk = np.zeros(n)\n",
    "    \n",
    "    it = 0\n",
    "    \n",
    "    residuo = np.linalg.norm( bvector - np.dot(Matrix,x) ) # Metrica\n",
    "    \n",
    "    while residuo > error and it < itmax:\n",
    "        \n",
    "        it += 1\n",
    "        \n",
    "        for i in range(Matrix.shape[0]):\n",
    "            sum_ = 0\n",
    "            for j in range(Matrix.shape[1]):\n",
    "                if i!=j:\n",
    "                    sum_ += Matrix[i][j]*x[j]\n",
    "                    \n",
    "            sumk[i] = sum_\n",
    "            \n",
    "        for i in range(Matrix.shape[0]):\n",
    "            \n",
    "            if Matrix[i,i] !=0:\n",
    "                x[i] = (bvector[i] - sumk[i])/Matrix[i,i]\n",
    "            else:\n",
    "                print('No invertirble con Jacobi')\n",
    "                return\n",
    "        \n",
    "        \n",
    "        #print(x)\n",
    "        #print(residuo)\n",
    "        residuo = np.linalg.norm( bvector - np.dot(Matrix,x) )    \n",
    "    \n",
    "    return x,it,residuo"
   ]
  },
  {
   "cell_type": "code",
   "execution_count": 18,
   "metadata": {},
   "outputs": [
    {
     "name": "stdout",
     "output_type": "stream",
     "text": [
      "[1. 1. 1.]\n"
     ]
    }
   ],
   "source": [
    "Xsol, it, error = GetJacobiMethod(M,b,1000,1e-10)\n",
    "print(Xsol)"
   ]
  },
  {
   "cell_type": "code",
   "execution_count": 19,
   "metadata": {},
   "outputs": [
    {
     "name": "stdout",
     "output_type": "stream",
     "text": [
      "23\n"
     ]
    }
   ],
   "source": [
    "print(it)"
   ]
  },
  {
   "cell_type": "code",
   "execution_count": 20,
   "metadata": {},
   "outputs": [],
   "source": [
    "def GetTMatrix(Matrix):\n",
    "    \n",
    "    n = Matrix.shape[1]\n",
    "    \n",
    "    D = np.zeros((n,n))\n",
    "    R = np.zeros((n,n))\n",
    "    T = np.zeros((n,n))\n",
    "    \n",
    "    for i in range(n):\n",
    "        for j in range(n):\n",
    "            if i == j:\n",
    "                D[i,j] = 1/Matrix[i,i]\n",
    "            else:\n",
    "                R[i,j] = Matrix[i,j]\n",
    "                \n",
    "    T = np.dot(D,R)\n",
    "    return T"
   ]
  },
  {
   "cell_type": "code",
   "execution_count": 21,
   "metadata": {},
   "outputs": [
    {
     "name": "stdout",
     "output_type": "stream",
     "text": [
      "[[ 0.         -0.33333333 -0.33333333]\n",
      " [-0.33333333  0.          0.33333333]\n",
      " [ 0.5         0.25        0.        ]]\n"
     ]
    }
   ],
   "source": [
    "T = GetTMatrix(M)\n",
    "print(T)"
   ]
  },
  {
   "cell_type": "code",
   "execution_count": 22,
   "metadata": {},
   "outputs": [],
   "source": [
    "valores, vectores = np.linalg.eig(T)"
   ]
  },
  {
   "cell_type": "code",
   "execution_count": 23,
   "metadata": {},
   "outputs": [
    {
     "name": "stdout",
     "output_type": "stream",
     "text": [
      "[-0.33333333+0.j          0.16666667+0.23570226j  0.16666667-0.23570226j]\n"
     ]
    }
   ],
   "source": [
    "print(valores)"
   ]
  },
  {
   "cell_type": "code",
   "execution_count": 24,
   "metadata": {},
   "outputs": [
    {
     "name": "stdout",
     "output_type": "stream",
     "text": [
      "0.33333333333333315\n"
     ]
    }
   ],
   "source": [
    "print(np.amax(abs(valores)))"
   ]
  },
  {
   "cell_type": "code",
   "execution_count": 25,
   "metadata": {},
   "outputs": [
    {
     "name": "stdout",
     "output_type": "stream",
     "text": [
      "[[ 0.32352941  0.08823529  0.05882353]\n",
      " [ 0.17647059  0.41176471 -0.05882353]\n",
      " [-0.20588235 -0.14705882  0.23529412]]\n"
     ]
    }
   ],
   "source": [
    "IM = np.linalg.inv(M)\n",
    "print(IM)"
   ]
  },
  {
   "cell_type": "code",
   "execution_count": 26,
   "metadata": {},
   "outputs": [
    {
     "data": {
      "text/plain": [
       "array([[ 1.,  0., -0.],\n",
       "       [-0.,  1., -0.],\n",
       "       [ 0.,  0.,  1.]])"
      ]
     },
     "execution_count": 26,
     "metadata": {},
     "output_type": "execute_result"
    }
   ],
   "source": [
    "np.round(np.dot(IM,M),3)"
   ]
  },
  {
   "cell_type": "code",
   "execution_count": null,
   "metadata": {},
   "outputs": [],
   "source": [
    "# Definamos Gauss-Seidel\n",
    "def GetGaussSeidelMethod(Matrix, bvector, itmax, error):\n",
    "    \n",
    "    n = Matrix.shape[1]\n",
    "    x = np.zeros(n)\n",
    "    \n",
    "    \n"
   ]
  },
  {
   "cell_type": "code",
   "execution_count": null,
   "metadata": {},
   "outputs": [],
   "source": []
  }
 ],
 "metadata": {
  "kernelspec": {
   "display_name": "Python 3",
   "language": "python",
   "name": "python3"
  },
  "language_info": {
   "codemirror_mode": {
    "name": "ipython",
    "version": 3
   },
   "file_extension": ".py",
   "mimetype": "text/x-python",
   "name": "python",
   "nbconvert_exporter": "python",
   "pygments_lexer": "ipython3",
   "version": "3.7.6"
  }
 },
 "nbformat": 4,
 "nbformat_minor": 5
}
