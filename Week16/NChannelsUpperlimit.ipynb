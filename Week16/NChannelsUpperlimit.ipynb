{
 "cells": [
  {
   "cell_type": "code",
   "execution_count": 1,
   "id": "ade1cd6a",
   "metadata": {},
   "outputs": [],
   "source": [
    "# % matplotlib notebook \n",
    "from IPython.display import IFrame, display\n",
    "import numpy as np\n",
    "import matplotlib.pyplot as plt\n",
    "import pandas as pd\n",
    "from matplotlib          import rc \n",
    "from matplotlib          import cm\n",
    "from mpl_toolkits.mplot3d import Axes3D\n",
    "from tqdm import tqdm\n",
    "import os.path as path\n",
    "import wget\n",
    "from scipy.stats import norm"
   ]
  },
  {
   "cell_type": "code",
   "execution_count": 2,
   "id": "c02af60b",
   "metadata": {},
   "outputs": [],
   "source": [
    "def GetHisto(l,NChannels,h = 1):\n",
    "    h = 1.\n",
    "    bins = np.arange(1,NChannels+2*h,h)\n",
    "    w = np.diff(bins)\n",
    "    m = bins[:-1] + 0.5*w[0] # marcas de clase\n",
    "    return l,m,w"
   ]
  },
  {
   "cell_type": "code",
   "execution_count": 3,
   "id": "ed6b1e78",
   "metadata": {},
   "outputs": [],
   "source": [
    "def GetHisto2(l, h = 0.1, norm=True):\n",
    "    \n",
    "    min_=np.min(l)\n",
    "    max_=np.max(l)\n",
    "    \n",
    "    x = np.arange(min_,max_+h,h)\n",
    "    \n",
    "    H, bines = np.histogram(l,bins=x)\n",
    "    w = np.diff(bines)\n",
    "    m = bines[:-1] + 0.5*w[0] # marcas de clase\n",
    "    \n",
    "    if norm:\n",
    "        H = H / (np.sum(H*w))\n",
    "    \n",
    "    return H,bines,m,w"
   ]
  },
  {
   "cell_type": "code",
   "execution_count": 4,
   "id": "4013cf46",
   "metadata": {},
   "outputs": [
    {
     "name": "stdout",
     "output_type": "stream",
     "text": [
      "rm: no se puede borrar 'Data/*': No existe el archivo o el directorio\n",
      "File loaded\n"
     ]
    }
   ],
   "source": [
    "!rm Data/*\n",
    "file = 'Data/data.csv'\n",
    "url = 'https://raw.githubusercontent.com/asegura4488/Database/main/MetodosComputacionalesReforma/ObsExtraT.csv'\n",
    "if not path.exists(file):\n",
    "    Path_ = wget.download(url,file)\n",
    "    print('File loaded')\n",
    "else:\n",
    "    Path_ = file"
   ]
  },
  {
   "cell_type": "code",
   "execution_count": 5,
   "id": "bae2d2e6",
   "metadata": {},
   "outputs": [
    {
     "name": "stdout",
     "output_type": "stream",
     "text": [
      "   NData  NBkg  NSignal1  NSignal2\n",
      "0     10     9        10         3\n",
      "1     20    17        15         6\n",
      "2     10     5        10         3\n",
      "3      6     6         4         1\n"
     ]
    }
   ],
   "source": [
    "Df = pd.read_csv(Path_,sep = ',')\n",
    "print(Df)"
   ]
  },
  {
   "cell_type": "code",
   "execution_count": 6,
   "id": "c225c720",
   "metadata": {},
   "outputs": [],
   "source": [
    "n = np.array(Df.NData)\n",
    "b = np.array(Df.NBkg)\n",
    "s = np.array(Df.NSignal2)\n",
    "NChannels = len(n)"
   ]
  },
  {
   "cell_type": "code",
   "execution_count": 7,
   "id": "3eb78c84",
   "metadata": {},
   "outputs": [],
   "source": [
    "# Definimos el rango de los histogramas\n",
    "HData,m,w = GetHisto(n, NChannels)\n",
    "ErrorData = np.sqrt(HData) # Error poisson\n",
    "\n",
    "HBkg,m,w = GetHisto(b, NChannels)\n",
    "HSignal,m,w = GetHisto(s, NChannels)"
   ]
  },
  {
   "cell_type": "code",
   "execution_count": 8,
   "id": "d460a1cc",
   "metadata": {},
   "outputs": [
    {
     "data": {
      "text/plain": [
       "<matplotlib.legend.Legend at 0x7f8ad0947f70>"
      ]
     },
     "execution_count": 8,
     "metadata": {},
     "output_type": "execute_result"
    },
    {
     "data": {
      "image/png": "[encoded data removed]",
      "text/plain": [
       "<Figure size 432x432 with 1 Axes>"
      ]
     },
     "metadata": {
      "needs_background": "light"
     },
     "output_type": "display_data"
    }
   ],
   "source": [
    "fig = plt.figure(figsize=(6,6))\n",
    "ax = fig.add_subplot(1,1,1)\n",
    "ax.bar(m,HData,yerr=ErrorData, color='w', width=w, ec='k', label='Data', alpha=0.5)\n",
    "ax.bar(m,HBkg, color='b' ,width=w, ec='g', label='Background', alpha=0.4)\n",
    "ax.bar(m,HBkg+HSignal, color='w' ,width=w, ec='r', label='Signal + Background', alpha=0.4)\n",
    "ax.legend(loc=0)"
   ]
  },
  {
   "cell_type": "code",
   "execution_count": null,
   "id": "512d9139",
   "metadata": {},
   "outputs": [],
   "source": []
  }
 ],
 "metadata": {
  "kernelspec": {
   "display_name": "Python 3",
   "language": "python",
   "name": "python3"
  },
  "language_info": {
   "codemirror_mode": {
    "name": "ipython",
    "version": 3
   },
   "file_extension": ".py",
   "mimetype": "text/x-python",
   "name": "python",
   "nbconvert_exporter": "python",
   "pygments_lexer": "ipython3",
   "version": "3.8.2"
  }
 },
 "nbformat": 4,
 "nbformat_minor": 5
}
