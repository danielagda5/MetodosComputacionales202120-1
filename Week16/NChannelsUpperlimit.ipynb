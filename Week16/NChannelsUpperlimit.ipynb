{
 "cells": [
  {
   "cell_type": "code",
   "execution_count": 1,
   "id": "a4c52e5d",
   "metadata": {},
   "outputs": [],
   "source": [
    "# % matplotlib notebook \n",
    "from IPython.display import IFrame, display\n",
    "import numpy as np\n",
    "import matplotlib.pyplot as plt\n",
    "import pandas as pd\n",
    "from matplotlib          import rc \n",
    "from matplotlib          import cm\n",
    "from mpl_toolkits.mplot3d import Axes3D\n",
    "from tqdm import tqdm\n",
    "import os.path as path\n",
    "import wget\n",
    "from scipy.stats import norm"
   ]
  },
  {
   "cell_type": "code",
   "execution_count": 2,
   "id": "fb736b5d",
   "metadata": {},
   "outputs": [],
   "source": [
    "def GetHisto(l,NChannels,h = 1):\n",
    "    h = 1.\n",
    "    bins = np.arange(1,NChannels+2*h,h)\n",
    "    w = np.diff(bins)\n",
    "    m = bins[:-1] + 0.5*w[0] # marcas de clase\n",
    "    return l,m,w"
   ]
  },
  {
   "cell_type": "code",
   "execution_count": 3,
   "id": "374b0eb7",
   "metadata": {},
   "outputs": [],
   "source": [
    "def GetHisto2(l, h = 0.1, norm=True):\n",
    "    \n",
    "    min_=np.min(l)\n",
    "    max_=np.max(l)\n",
    "    \n",
    "    x = np.arange(min_,max_+h,h)\n",
    "    \n",
    "    H, bines = np.histogram(l,bins=x)\n",
    "    w = np.diff(bines)\n",
    "    m = bines[:-1] + 0.5*w[0] # marcas de clase\n",
    "    \n",
    "    if norm:\n",
    "        H = H / (np.sum(H*w))\n",
    "    \n",
    "    return H,bines,m,w"
   ]
  },
  {
   "cell_type": "code",
   "execution_count": 4,
   "id": "d340c9ed",
   "metadata": {},
   "outputs": [
    {
     "name": "stdout",
     "output_type": "stream",
     "text": [
      "File loaded\n"
     ]
    }
   ],
   "source": [
    "!rm Data/*\n",
    "file = 'Data/data.csv'\n",
    "url = 'https://raw.githubusercontent.com/asegura4488/Database/main/MetodosComputacionalesReforma/ObsExtraT.csv'\n",
    "if not path.exists(file):\n",
    "    Path_ = wget.download(url,file)\n",
    "    print('File loaded')\n",
    "else:\n",
    "    Path_ = file"
   ]
  },
  {
   "cell_type": "code",
   "execution_count": 5,
   "id": "9c02e9b9",
   "metadata": {},
   "outputs": [
    {
     "name": "stdout",
     "output_type": "stream",
     "text": [
      "   NData  NBkg  NSignal1  NSignal2\n",
      "0     10     9        10         3\n",
      "1     20    17        15         6\n",
      "2     10     5        10         3\n",
      "3      6     6         4         1\n"
     ]
    }
   ],
   "source": [
    "Df = pd.read_csv(Path_,sep = ',')\n",
    "print(Df)"
   ]
  },
  {
   "cell_type": "code",
   "execution_count": 6,
   "id": "3d84ae75",
   "metadata": {},
   "outputs": [],
   "source": [
    "n = np.array(Df.NData)\n",
    "b = np.array(Df.NBkg)\n",
    "s = np.array(Df.NSignal2)\n",
    "NChannels = len(n)"
   ]
  },
  {
   "cell_type": "code",
   "execution_count": 7,
   "id": "5c549003",
   "metadata": {},
   "outputs": [],
   "source": [
    "# Definimos el rango de los histogramas\n",
    "HData,m,w = GetHisto(n, NChannels)\n",
    "ErrorData = np.sqrt(HData) # Error poisson\n",
    "\n",
    "HBkg,m,w = GetHisto(b, NChannels)\n",
    "HSignal,m,w = GetHisto(s, NChannels)"
   ]
  },
  {
   "cell_type": "code",
   "execution_count": 8,
   "id": "b8396bb6",
   "metadata": {},
   "outputs": [
    {
     "data": {
      "text/plain": [
       "<matplotlib.legend.Legend at 0x7fece7b7f940>"
      ]
     },
     "execution_count": 8,
     "metadata": {},
     "output_type": "execute_result"
    },
    {
     "data": {
      "image/png": "[encoded data removed]",
      "text/plain": [
       "<Figure size 432x432 with 1 Axes>"
      ]
     },
     "metadata": {
      "needs_background": "light"
     },
     "output_type": "display_data"
    }
   ],
   "source": [
    "fig = plt.figure(figsize=(6,6))\n",
    "ax = fig.add_subplot(1,1,1)\n",
    "ax.bar(m,HData,yerr=ErrorData, color='w', width=w, ec='k', label='Data', alpha=0.5)\n",
    "ax.bar(m,HBkg, color='b' ,width=w, ec='g', label='Background', alpha=0.4)\n",
    "ax.bar(m,HBkg+HSignal, color='w' ,width=w, ec='r', label='Signal + Background', alpha=0.4)\n",
    "ax.legend(loc=0)"
   ]
  },
  {
   "cell_type": "code",
   "execution_count": 9,
   "id": "514df001",
   "metadata": {},
   "outputs": [],
   "source": [
    "def GetLnQ(n,b,s,mu):\n",
    "    return 2*(mu*s - n*np.log(1+mu*s/b))"
   ]
  },
  {
   "cell_type": "code",
   "execution_count": 10,
   "id": "d58d6091",
   "metadata": {},
   "outputs": [],
   "source": [
    "def JointLnQ(NChannels, GetLnQ, mu, Null=True):\n",
    "    \n",
    "    Q = 0.\n",
    "    \n",
    "    for c in range(NChannels):\n",
    "        \n",
    "        if Null == True:\n",
    "            ntoy = np.random.poisson( b[c] ) # Hipotesis nula \n",
    "        else:\n",
    "            ntoy = np.random.poisson( b[c] + mu*s[c] ) # Hipotesis alternativa\n",
    "            \n",
    "        Q += GetLnQ(ntoy,b[c],s[c],mu)\n",
    "        \n",
    "    return Q"
   ]
  },
  {
   "cell_type": "code",
   "execution_count": 11,
   "id": "c3fd5710",
   "metadata": {},
   "outputs": [],
   "source": [
    "def JointObsLnQ(NChannels, GetLnQ, mu):\n",
    "    \n",
    "    Q = 0.\n",
    "    \n",
    "    for c in range(NChannels):\n",
    "        \n",
    "        Q += GetLnQ(n[c],b[c],s[c],mu)\n",
    "        \n",
    "    return Q\n",
    "    "
   ]
  },
  {
   "cell_type": "code",
   "execution_count": 12,
   "id": "41a21e24",
   "metadata": {},
   "outputs": [
    {
     "name": "stdout",
     "output_type": "stream",
     "text": [
      "-3.0947570667947764\n"
     ]
    }
   ],
   "source": [
    "ObsLnQ = JointObsLnQ( NChannels, GetLnQ, 1.0 )\n",
    "print(ObsLnQ)"
   ]
  },
  {
   "cell_type": "code",
   "execution_count": 13,
   "id": "166715f2",
   "metadata": {},
   "outputs": [],
   "source": [
    "def GetPvalue(H,bins,Obs):\n",
    "    \n",
    "    w = np.diff(bins)\n",
    "    \n",
    "    ii = bins[:-1] > Obs\n",
    "    \n",
    "    p = np.sum( H[ii]*w[ii]  )\n",
    "    \n",
    "    return p"
   ]
  },
  {
   "cell_type": "code",
   "execution_count": 14,
   "id": "e5bae217",
   "metadata": {},
   "outputs": [],
   "source": [
    "def Sampler(mu, Ntoys = int(3e4)):\n",
    "    \n",
    "    q0 = np.zeros(Ntoys)\n",
    "    q1 = np.zeros(Ntoys)\n",
    "    \n",
    "    for i in range(Ntoys):\n",
    "        \n",
    "        q0[i] =  JointLnQ( NChannels, GetLnQ, mu )\n",
    "        q1[i] =  JointLnQ( NChannels, GetLnQ, mu, Null = False )\n",
    "        \n",
    "    return q0,q1"
   ]
  },
  {
   "cell_type": "code",
   "execution_count": 15,
   "id": "10e8ee41",
   "metadata": {},
   "outputs": [],
   "source": [
    "q0, q1 = Sampler(1.0)"
   ]
  },
  {
   "cell_type": "code",
   "execution_count": 16,
   "id": "7fd5c486",
   "metadata": {},
   "outputs": [],
   "source": [
    "H0,bines,m,w = GetHisto2(q0,h=0.001)\n",
    "H1,bines1,m1,w1 = GetHisto2(q1,h=0.001)"
   ]
  },
  {
   "cell_type": "code",
   "execution_count": 17,
   "id": "36e97920",
   "metadata": {},
   "outputs": [],
   "source": [
    "Clb = GetPvalue(H0,bines,ObsLnQ)\n",
    "Clsb = GetPvalue(H1,bines1,ObsLnQ)"
   ]
  },
  {
   "cell_type": "code",
   "execution_count": 18,
   "id": "e7826854",
   "metadata": {},
   "outputs": [
    {
     "name": "stdout",
     "output_type": "stream",
     "text": [
      "0.035633333333333184 0.3896666666666666\n",
      "0.4040648439390272\n"
     ]
    }
   ],
   "source": [
    "p0 = 1 - Clb\n",
    "p1 = Clsb\n",
    "print(p0,p1)\n",
    "Cls = Clsb/Clb\n",
    "print(Cls)"
   ]
  },
  {
   "cell_type": "code",
   "execution_count": 19,
   "id": "75784f7b",
   "metadata": {},
   "outputs": [
    {
     "name": "stdout",
     "output_type": "stream",
     "text": [
      "-1.8037744889607379 0.28018792099074474\n"
     ]
    }
   ],
   "source": [
    "print( norm.ppf(1-Clb), norm.ppf(1-Clsb) )"
   ]
  },
  {
   "cell_type": "code",
   "execution_count": 20,
   "id": "e7c4746b",
   "metadata": {},
   "outputs": [],
   "source": [
    "# Lo observado tiene un corrimiento a 1.5sigma de la hipotesis nula\n",
    "# Lo observado tiene un corrimiento a 3.3sigma de la hipotesis alternativa"
   ]
  },
  {
   "cell_type": "markdown",
   "id": "b9d9907d",
   "metadata": {},
   "source": [
    "# Hacer scan en mu para en contral el upper limit"
   ]
  },
  {
   "cell_type": "code",
   "execution_count": 21,
   "id": "316f23e6",
   "metadata": {},
   "outputs": [],
   "source": [
    "#plt.hist(q0, bins = 50)\n",
    "#plt.hist(q1, bins = 50)\n",
    "#plt.axvline(x = ObsLnQ, color='k')"
   ]
  },
  {
   "cell_type": "code",
   "execution_count": 22,
   "id": "bcf357f3",
   "metadata": {},
   "outputs": [],
   "source": [
    "def GetUpper(mu):\n",
    "    \n",
    "    pvalue = np.zeros(len(mu))\n",
    "    \n",
    "    for i in tqdm(range(len(mu))):\n",
    "        \n",
    "        ObsLnQ = JointObsLnQ( NChannels, GetLnQ, mu[i] )\n",
    "        q0,q1 = Sampler(mu[i])\n",
    "        \n",
    "        H0,bines,m,w = GetHisto2(q0,h=0.001)\n",
    "        H1,bines1,m1,w1 = GetHisto2(q1,h=0.001)\n",
    "        \n",
    "        Clb = GetPvalue(H0,bines,ObsLnQ)\n",
    "        Clsb = GetPvalue(H1,bines1,ObsLnQ)\n",
    "        \n",
    "        Cls = 0.\n",
    "        \n",
    "        if Clb != 0.:\n",
    "            Cls = Clsb/Clb\n",
    "            \n",
    "        pvalue[i] = Cls\n",
    "        \n",
    "    return pvalue"
   ]
  },
  {
   "cell_type": "code",
   "execution_count": 23,
   "id": "8e52b90f",
   "metadata": {},
   "outputs": [
    {
     "name": "stderr",
     "output_type": "stream",
     "text": [
      "100%|██████████| 20/20 [00:24<00:00,  1.20s/it]\n"
     ]
    }
   ],
   "source": [
    "mu = np.linspace(0.9,2,20)\n",
    "pvalue = GetUpper(mu)"
   ]
  },
  {
   "cell_type": "code",
   "execution_count": 27,
   "id": "d7631a71",
   "metadata": {},
   "outputs": [
    {
     "name": "stdout",
     "output_type": "stream",
     "text": [
      "[0.48015312 0.43538143 0.38139776 0.34790415 0.30617395 0.27281527\n",
      " 0.23737601 0.20489762 0.17490995 0.15092321 0.12571072 0.1075507\n",
      " 0.08973871 0.07532261 0.06329815 0.04831904 0.04382166 0.03127054\n",
      " 0.02606561 0.02092629]\n",
      "[0.9        0.95789474 1.01578947 1.07368421 1.13157895 1.18947368\n",
      " 1.24736842 1.30526316 1.36315789 1.42105263 1.47894737 1.53684211\n",
      " 1.59473684 1.65263158 1.71052632 1.76842105 1.82631579 1.88421053\n",
      " 1.94210526 2.        ]\n"
     ]
    }
   ],
   "source": [
    "print(pvalue)\n",
    "print(mu)"
   ]
  },
  {
   "cell_type": "code",
   "execution_count": 30,
   "id": "2cc3bad3",
   "metadata": {},
   "outputs": [
    {
     "name": "stdout",
     "output_type": "stream",
     "text": [
      "1.7684210526315791\n"
     ]
    }
   ],
   "source": [
    "ii = pvalue < 0.05\n",
    "jj = pvalue > 0.03\n",
    "upper = mu[ii & jj][0]\n",
    "print(upper)"
   ]
  },
  {
   "cell_type": "code",
   "execution_count": 29,
   "id": "d957240f",
   "metadata": {},
   "outputs": [
    {
     "data": {
      "text/plain": [
       "<matplotlib.lines.Line2D at 0x7fece699cf40>"
      ]
     },
     "execution_count": 29,
     "metadata": {},
     "output_type": "execute_result"
    },
    {
     "data": {
      "image/png": "[encoded data removed]",
      "text/plain": [
       "<Figure size 432x288 with 1 Axes>"
      ]
     },
     "metadata": {
      "needs_background": "light"
     },
     "output_type": "display_data"
    }
   ],
   "source": [
    "plt.plot(mu,pvalue)\n",
    "plt.axhline(y=0.05,color='r')"
   ]
  },
  {
   "cell_type": "code",
   "execution_count": null,
   "id": "b08df4fd",
   "metadata": {},
   "outputs": [],
   "source": []
  }
 ],
 "metadata": {
  "kernelspec": {
   "display_name": "Python 3",
   "language": "python",
   "name": "python3"
  },
  "language_info": {
   "codemirror_mode": {
    "name": "ipython",
    "version": 3
   },
   "file_extension": ".py",
   "mimetype": "text/x-python",
   "name": "python",
   "nbconvert_exporter": "python",
   "pygments_lexer": "ipython3",
   "version": "3.8.2"
  }
 },
 "nbformat": 4,
 "nbformat_minor": 5
}
