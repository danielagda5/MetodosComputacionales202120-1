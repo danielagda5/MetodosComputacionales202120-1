{
 "cells": [
  {
   "cell_type": "code",
   "execution_count": 1,
   "id": "54fc8787",
   "metadata": {},
   "outputs": [],
   "source": [
    "import numpy as np\n",
    "import matplotlib.pyplot as plt\n",
    "from itertools import permutations\n",
    "from itertools import combinations\n",
    "from itertools import combinations_with_replacement"
   ]
  },
  {
   "cell_type": "code",
   "execution_count": 2,
   "id": "bd9a8cee",
   "metadata": {},
   "outputs": [],
   "source": [
    "States = [0,1]"
   ]
  },
  {
   "cell_type": "code",
   "execution_count": 3,
   "id": "18f9e1e5",
   "metadata": {},
   "outputs": [],
   "source": [
    "# Vamos a crear la lista de estados\n",
    "def GetHiddenStates(States, NObs):\n",
    "    \n",
    "    CStates = list(combinations_with_replacement(States,NObs))\n",
    "    \n",
    "    pr = []\n",
    "    \n",
    "    for it in CStates:\n",
    "        p = list(permutations(it,NObs))\n",
    "        \n",
    "        for i in p:\n",
    "            if i not in pr:\n",
    "                pr.append(i)      \n",
    "\n",
    "    return np.array(pr)"
   ]
  },
  {
   "cell_type": "code",
   "execution_count": 4,
   "id": "4d6cc0e1",
   "metadata": {},
   "outputs": [],
   "source": [
    "HiddenStates = GetHiddenStates(States, 3)"
   ]
  },
  {
   "cell_type": "code",
   "execution_count": 5,
   "id": "b1d34d9d",
   "metadata": {},
   "outputs": [],
   "source": [
    "Prior = np.array([0.4,0.6])\n",
    "T = np.array([[0.7,0.3],[0.5,0.5]])\n",
    "E = np.array([[0.8,0.1,0.1],[0.2,0.3,0.5]])"
   ]
  },
  {
   "cell_type": "code",
   "execution_count": 6,
   "id": "97bd7cd6",
   "metadata": {},
   "outputs": [],
   "source": [
    "# Secuencia observada [V,A,R]\n",
    "Obs = np.array([1,2,0])"
   ]
  },
  {
   "cell_type": "code",
   "execution_count": 7,
   "id": "aff5f98e",
   "metadata": {},
   "outputs": [],
   "source": [
    "# Probabilidades\n",
    "def GetProb(T,E,Obs,HSec,Prior):\n",
    "    \n",
    "    p = 1.0\n",
    "    # Emission matrix\n",
    "    for i in range(len(Obs)):\n",
    "        p *= E[HSec[i],Obs[i]]\n",
    "    \n",
    "    # Prior\n",
    "    p *= Prior[HSec[0]]\n",
    "    \n",
    "    \n",
    "    # Transition Matrix\n",
    "    for i in range(len(HSec)-1):\n",
    "        p *= T[HSec[i],HSec[i+1]]\n",
    "\n",
    "    return p"
   ]
  },
  {
   "cell_type": "code",
   "execution_count": 8,
   "id": "32bf73da",
   "metadata": {},
   "outputs": [
    {
     "name": "stdout",
     "output_type": "stream",
     "text": [
      "[[1 1 0]]\n"
     ]
    }
   ],
   "source": [
    "# Evaluamos las probabilidad\n",
    "dim = HiddenStates.shape[0]\n",
    "S = np.linspace(1,dim,dim)\n",
    "P = np.zeros(dim)\n",
    "\n",
    "for i in range(dim):\n",
    "    P[i] = GetProb(T,E,Obs,HiddenStates[i],Prior)  \n",
    "    \n",
    "maxP = np.max(P)\n",
    "ii = np.where( P == np.amax(P))\n",
    "print(HiddenStates[ii])"
   ]
  },
  {
   "cell_type": "code",
   "execution_count": 9,
   "id": "ce5131d7",
   "metadata": {},
   "outputs": [
    {
     "name": "stdout",
     "output_type": "stream",
     "text": [
      "Probabilidad del estado observado 0.032816\n"
     ]
    }
   ],
   "source": [
    "pobs = np.sum(P)\n",
    "print('Probabilidad del estado observado', pobs)"
   ]
  },
  {
   "cell_type": "code",
   "execution_count": 10,
   "id": "ca300b9c",
   "metadata": {},
   "outputs": [
    {
     "data": {
      "image/png": "[encoded data removed]",
      "text/plain": [
       "<Figure size 432x288 with 1 Axes>"
      ]
     },
     "metadata": {
      "needs_background": "light"
     },
     "output_type": "display_data"
    }
   ],
   "source": [
    "plt.plot(S,P,color='k',label='Probabilidad por secuencia')\n",
    "plt.axhline(y = maxP, color='r',label='MaxP = %.3f' %(maxP))\n",
    "plt.legend(loc=0)\n",
    "plt.grid()\n",
    "plt.savefig('MarkovMoods.pdf')"
   ]
  },
  {
   "cell_type": "code",
   "execution_count": null,
   "id": "daf6c89b",
   "metadata": {},
   "outputs": [],
   "source": []
  },
  {
   "cell_type": "code",
   "execution_count": 11,
   "id": "5ac51b7b",
   "metadata": {},
   "outputs": [],
   "source": [
    "# Verifiquemos la probabilidad para cada estados"
   ]
  },
  {
   "cell_type": "code",
   "execution_count": 12,
   "id": "6b5becff",
   "metadata": {},
   "outputs": [],
   "source": [
    "BasicStates = [0,1,2]\n",
    "ObsStates = GetHiddenStates(BasicStates, 3)"
   ]
  },
  {
   "cell_type": "code",
   "execution_count": 13,
   "id": "dc7bf47c",
   "metadata": {},
   "outputs": [
    {
     "name": "stdout",
     "output_type": "stream",
     "text": [
      "[0.156464 0.042592 0.041008 0.068728 0.059344 0.056608 0.104488 0.013904\n",
      " 0.019184 0.022616 0.020288 0.020144 0.026888 0.032816 0.029264 0.035336\n",
      " 0.029648 0.041048 0.051536 0.008008 0.011776 0.012088 0.012568 0.017896\n",
      " 0.018496 0.019048 0.028216]\n",
      "1.0\n"
     ]
    }
   ],
   "source": [
    "Nobs = ObsStates.shape[0]\n",
    "\n",
    "ProbObsStates = np.zeros(Nobs)\n",
    "\n",
    "for j in range(Nobs):\n",
    "    \n",
    "     # Vamos a iterar sobre cada estado visible para comprobar la clausura \n",
    "    dim = HiddenStates.shape[0]\n",
    "    P = np.zeros(dim)\n",
    "\n",
    "    for i in range(dim):\n",
    "        P[i] = GetProb(T,E,ObsStates[j],HiddenStates[i],Prior)  \n",
    "    \n",
    "    ProbObsStates[j] = np.sum(P)\n",
    "    \n",
    "print(ProbObsStates)\n",
    "print(np.sum(ProbObsStates))\n",
    "maxObsState = np.max(ProbObsStates)"
   ]
  },
  {
   "cell_type": "code",
   "execution_count": 15,
   "id": "9b0b3cf7",
   "metadata": {},
   "outputs": [
    {
     "data": {
      "image/png": "[encoded data removed]",
      "text/plain": [
       "<Figure size 432x288 with 1 Axes>"
      ]
     },
     "metadata": {
      "needs_background": "light"
     },
     "output_type": "display_data"
    }
   ],
   "source": [
    "dim = ProbObsStates.shape[0]\n",
    "S = np.linspace(1,dim,dim)\n",
    "plt.plot(S,ProbObsStates,color='k',label='Probabilidad de cada estado observado')\n",
    "plt.axhline(y = maxObsState, color='r',label='MaxP = %.4f' %(maxObsState))\n",
    "plt.legend(loc=0)\n",
    "plt.grid()\n",
    "plt.savefig('MarkovMoodsObs.pdf')"
   ]
  },
  {
   "cell_type": "code",
   "execution_count": null,
   "id": "a786a721",
   "metadata": {},
   "outputs": [],
   "source": []
  }
 ],
 "metadata": {
  "kernelspec": {
   "display_name": "Python 3",
   "language": "python",
   "name": "python3"
  },
  "language_info": {
   "codemirror_mode": {
    "name": "ipython",
    "version": 3
   },
   "file_extension": ".py",
   "mimetype": "text/x-python",
   "name": "python",
   "nbconvert_exporter": "python",
   "pygments_lexer": "ipython3",
   "version": "3.8.2"
  }
 },
 "nbformat": 4,
 "nbformat_minor": 5
}
