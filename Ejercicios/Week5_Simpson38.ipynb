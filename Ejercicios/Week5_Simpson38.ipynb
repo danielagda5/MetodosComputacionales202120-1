{
 "cells": [
  {
   "cell_type": "code",
   "execution_count": 1,
   "metadata": {},
   "outputs": [],
   "source": [
    "import numpy as np\n",
    "import matplotlib.pyplot as plt\n",
    "from matplotlib import rc"
   ]
  },
  {
   "cell_type": "code",
   "execution_count": 2,
   "metadata": {},
   "outputs": [],
   "source": [
    "def Function1(x):\n",
    "    return np.sqrt(1+np.exp(-x**2))"
   ]
  },
  {
   "cell_type": "code",
   "execution_count": 6,
   "metadata": {},
   "outputs": [],
   "source": [
    "xi, xf, Npoints = -1., 1., 300\n",
    "X1 = np.linspace(xi,xf, Npoints+1)"
   ]
  },
  {
   "cell_type": "code",
   "execution_count": 7,
   "metadata": {},
   "outputs": [],
   "source": [
    "def Simpson3Method(f,X):\n",
    "    \n",
    "    \n",
    "    N = len(X)-1\n",
    "    \n",
    "    \n",
    "    if(N%3 != 0):\n",
    "        print('No calculable, cambiar partición')\n",
    "        return 0,0\n",
    "    \n",
    "    h = (X[-1]-X[0])/(len(X)-1)\n",
    "    \n",
    "    \n",
    "    integral = 0.\n",
    "    \n",
    "    Y = f(X)\n",
    "    #print(Y)\n",
    "    \n",
    "    integral += f(X[0])+f(X[-1])\n",
    "    \n",
    "    \n",
    "    for i in range(1,len(X)-1):\n",
    "        \n",
    "        if i%3 == 0:\n",
    "            integral += 2.*f(X[i])\n",
    "        else:\n",
    "            integral += 3.*f(X[i])\n",
    "            \n",
    "    integral *= 3.*h/8. \n",
    "    \n",
    "    return integral, h"
   ]
  },
  {
   "cell_type": "code",
   "execution_count": 8,
   "metadata": {},
   "outputs": [
    {
     "name": "stdout",
     "output_type": "stream",
     "text": [
      "2.6388571169484623 0.006666666666666667\n"
     ]
    }
   ],
   "source": [
    "Integral, h = Simpson3Method(Function1,X1)\n",
    "print(Integral,h)"
   ]
  },
  {
   "cell_type": "code",
   "execution_count": 9,
   "metadata": {},
   "outputs": [],
   "source": [
    "# Implementando la cuarta derivada\n",
    "\n",
    "def D4Derivative(f,x,h=0.001):\n",
    "    d = 0\n",
    "    if(h!=0):\n",
    "        d = (f(x+2.*h) - 4*f(x+h) + 6*f(x) - 4*f(x-h) + f(x-2.*h))/h**4\n",
    "\n",
    "    return d"
   ]
  },
  {
   "cell_type": "code",
   "execution_count": 10,
   "metadata": {},
   "outputs": [
    {
     "data": {
      "text/plain": [
       "[<matplotlib.lines.Line2D at 0x7fbae18c90d0>]"
      ]
     },
     "execution_count": 10,
     "metadata": {},
     "output_type": "execute_result"
    },
    {
     "data": {
      "image/png": "[encoded data removed]",
      "text/plain": [
       "<Figure size 432x288 with 1 Axes>"
      ]
     },
     "metadata": {
      "needs_background": "light"
     },
     "output_type": "display_data"
    }
   ],
   "source": [
    "D4Y = D4Derivative(Function1,X1)\n",
    "\n",
    "plt.plot(X1,D4Y)"
   ]
  },
  {
   "cell_type": "code",
   "execution_count": 11,
   "metadata": {},
   "outputs": [],
   "source": [
    "def GetError(X,D4Y):\n",
    "    \n",
    "    h = (X[-1]-X[0])/(len(X)-1)\n",
    "    \n",
    "    max_ = np.max(np.abs(D4Y))\n",
    "    \n",
    "    error = ( (X[-1]-X[0]) * h**4  * max_ )/( 80 )\n",
    "    \n",
    "    return error"
   ]
  },
  {
   "cell_type": "code",
   "execution_count": 12,
   "metadata": {},
   "outputs": [
    {
     "name": "stdout",
     "output_type": "stream",
     "text": [
      "1.572185454525975e-10\n"
     ]
    }
   ],
   "source": [
    "Error = GetError(X1,D4Y)\n",
    "print(Error)"
   ]
  },
  {
   "cell_type": "markdown",
   "metadata": {},
   "source": [
    "$$ I = 1.000003 \\pm 0.000005 $$\n",
    "\n",
    "En notación de alta energía:\n",
    "\n",
    "$$ I = 1.000003(5) $$"
   ]
  },
  {
   "cell_type": "code",
   "execution_count": null,
   "metadata": {},
   "outputs": [],
   "source": []
  }
 ],
 "metadata": {
  "kernelspec": {
   "display_name": "Python 3",
   "language": "python",
   "name": "python3"
  },
  "language_info": {
   "codemirror_mode": {
    "name": "ipython",
    "version": 3
   },
   "file_extension": ".py",
   "mimetype": "text/x-python",
   "name": "python",
   "nbconvert_exporter": "python",
   "pygments_lexer": "ipython3",
   "version": "3.8.10"
  }
 },
 "nbformat": 4,
 "nbformat_minor": 2
}
