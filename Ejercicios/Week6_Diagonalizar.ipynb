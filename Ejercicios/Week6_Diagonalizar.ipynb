{
 "cells": [
  {
   "cell_type": "code",
   "execution_count": 1,
   "metadata": {},
   "outputs": [],
   "source": [
    "import numpy as np"
   ]
  },
  {
   "cell_type": "code",
   "execution_count": 2,
   "metadata": {},
   "outputs": [],
   "source": [
    "M = np.array([[3,-1,-1],[-1.,3.,1.],[2.,1.,4.]])"
   ]
  },
  {
   "cell_type": "code",
   "execution_count": 3,
   "metadata": {},
   "outputs": [
    {
     "name": "stdout",
     "output_type": "stream",
     "text": [
      "[[ 3. -1. -1.]\n",
      " [-1.  3.  1.]\n",
      " [ 2.  1.  4.]]\n"
     ]
    }
   ],
   "source": [
    "print(M)"
   ]
  },
  {
   "cell_type": "code",
   "execution_count": 4,
   "metadata": {},
   "outputs": [],
   "source": [
    "def GetDiagMatrix(M):\n",
    "    \n",
    "    M_ = M.copy()\n",
    "    n = M_.shape[0]\n",
    "    \n",
    "    for i in range(n):\n",
    "        \n",
    "        # En caso de necesitar la triangular unitaria\n",
    "       # M_[i,:] /= M_[i,i]\n",
    "        \n",
    "        for j in range(i+1,n):\n",
    "            \n",
    "            a = M_[j,i]/M_[i,i]  \n",
    "            # Tomar el primer elemento de la segunda fila y dividirlo por el primer elemento de la primera\n",
    "            \n",
    "            \n",
    "            M_[j,:] -= a*M_[i,:]\n",
    "            \n",
    "            # Restar filas\n",
    "            \n",
    "    return M_"
   ]
  },
  {
   "cell_type": "code",
   "execution_count": 5,
   "metadata": {},
   "outputs": [],
   "source": [
    "DM = GetDiagMatrix(M)"
   ]
  },
  {
   "cell_type": "code",
   "execution_count": 6,
   "metadata": {},
   "outputs": [
    {
     "name": "stdout",
     "output_type": "stream",
     "text": [
      "[[ 3.         -1.         -1.        ]\n",
      " [ 0.          2.66666667  0.66666667]\n",
      " [ 0.          0.          4.25      ]]\n"
     ]
    }
   ],
   "source": [
    "print(DM)"
   ]
  },
  {
   "cell_type": "code",
   "execution_count": 8,
   "metadata": {},
   "outputs": [
    {
     "name": "stdout",
     "output_type": "stream",
     "text": [
      "34.00000000000001 34.00000000000001\n"
     ]
    }
   ],
   "source": [
    "print(np.linalg.det(M),np.linalg.det(DM))"
   ]
  },
  {
   "cell_type": "code",
   "execution_count": null,
   "metadata": {},
   "outputs": [],
   "source": []
  }
 ],
 "metadata": {
  "kernelspec": {
   "display_name": "Python 3",
   "language": "python",
   "name": "python3"
  },
  "language_info": {
   "codemirror_mode": {
    "name": "ipython",
    "version": 3
   },
   "file_extension": ".py",
   "mimetype": "text/x-python",
   "name": "python",
   "nbconvert_exporter": "python",
   "pygments_lexer": "ipython3",
   "version": "3.7.6"
  }
 },
 "nbformat": 4,
 "nbformat_minor": 5
}
