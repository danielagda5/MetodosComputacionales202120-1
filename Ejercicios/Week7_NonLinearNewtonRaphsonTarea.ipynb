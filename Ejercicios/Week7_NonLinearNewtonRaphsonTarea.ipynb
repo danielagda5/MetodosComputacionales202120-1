{
 "cells": [
  {
   "cell_type": "code",
   "execution_count": 1,
   "id": "cd8c13b3",
   "metadata": {},
   "outputs": [],
   "source": [
    "import numpy as np\n",
    "import matplotlib.pyplot as plt"
   ]
  },
  {
   "cell_type": "code",
   "execution_count": 2,
   "id": "8819f221",
   "metadata": {},
   "outputs": [],
   "source": [
    "# Definamos el sistema usando una lista\n",
    "G = np.array([lambda x,y,z: 6*x - 2*np.cos(y*z) - 1.,\n",
    "     lambda x,y,z: 9*y + np.sqrt( x**2 + np.sin(z) + 1.06 ) + 0.9,\n",
    "     lambda x,y,z: 60*z + 3*np.exp(-x*y)+10*np.pi - 3])"
   ]
  },
  {
   "cell_type": "code",
   "execution_count": 3,
   "id": "9bbfe1f6",
   "metadata": {},
   "outputs": [],
   "source": [
    "def GetVectorF(G,r):\n",
    "    \n",
    "    dim = len(G)\n",
    "    \n",
    "    v = np.zeros( dim )\n",
    "    \n",
    "    for i in range(dim):\n",
    "        v[i] = G[i](r[0],r[1],r[2])\n",
    "    \n",
    "    return v"
   ]
  },
  {
   "cell_type": "code",
   "execution_count": 4,
   "id": "17390993",
   "metadata": {},
   "outputs": [],
   "source": [
    "def GetJacobian(G,r,h=0.0001):\n",
    "    \n",
    "    dim = len(G)\n",
    "    \n",
    "    J = np.zeros((dim,dim))\n",
    "    \n",
    "    for i in range(dim):\n",
    "        J[i,0] = (G[i](r[0]+h,r[1],r[2]) - G[i](r[0]-h,r[1],r[2]))/(2*h)  \n",
    "        J[i,1] = (G[i](r[0],r[1]+h,r[2]) - G[i](r[0],r[1]-h,r[2]))/(2*h) \n",
    "        J[i,2] = (G[i](r[0],r[1],r[2]+h) - G[i](r[0],r[1],r[2]-h))/(2*h) \n",
    "    \n",
    "    # Debemos retornar la traspuesta del Jacobiano, que representa el gradiente de la función vectorial\n",
    "    return J.T"
   ]
  },
  {
   "cell_type": "code",
   "execution_count": 5,
   "id": "61d47787",
   "metadata": {},
   "outputs": [],
   "source": [
    "def NewtonRaphson(G,r,error=1e-7):\n",
    "    \n",
    "    it = 0\n",
    "    d = 1.\n",
    "    dvector = []\n",
    "    \n",
    "    while d > error:\n",
    "    \n",
    "        it += 1\n",
    "    \n",
    "        rc = r # Valor actual\n",
    "    \n",
    "        F = GetVectorF(G,r)\n",
    "        J = GetJacobian(G,r)\n",
    "        InvJ = np.linalg.inv(J)\n",
    "        \n",
    "        r = rc - np.dot(InvJ,F)\n",
    "          \n",
    "        diff = r-rc\n",
    "        \n",
    "        d = np.linalg.norm(diff)\n",
    "        \n",
    "        dvector.append(d)\n",
    "               \n",
    "    return r,it,dvector"
   ]
  },
  {
   "cell_type": "code",
   "execution_count": 6,
   "id": "437cdc81",
   "metadata": {},
   "outputs": [
    {
     "name": "stdout",
     "output_type": "stream",
     "text": [
      "[ 0.49814468 -0.19960588 -0.52882598] 8\n"
     ]
    }
   ],
   "source": [
    "r = np.zeros(len(G))\n",
    "r,it,distancias = NewtonRaphson(G,r)\n",
    "print(r,it)"
   ]
  },
  {
   "cell_type": "code",
   "execution_count": 7,
   "id": "e134ccf7",
   "metadata": {},
   "outputs": [
    {
     "data": {
      "text/plain": [
       "array([-0.,  0.,  0.])"
      ]
     },
     "execution_count": 7,
     "metadata": {},
     "output_type": "execute_result"
    }
   ],
   "source": [
    "np.round(GetVectorF(G,r),3)"
   ]
  },
  {
   "cell_type": "code",
   "execution_count": 8,
   "id": "329dfab2",
   "metadata": {},
   "outputs": [
    {
     "data": {
      "image/png": "[encoded data removed]",
      "text/plain": [
       "<Figure size 432x288 with 1 Axes>"
      ]
     },
     "metadata": {
      "needs_background": "light"
     },
     "output_type": "display_data"
    }
   ],
   "source": [
    "plt.plot(distancias)\n",
    "plt.yscale('log')\n",
    "plt.xlabel(r'$iterations$', fontsize=15)\n",
    "plt.ylabel(r'$(|| x^{k+1} - x^{k} ||)/x^{k+1} $', fontsize=15)\n",
    "plt.grid()"
   ]
  },
  {
   "cell_type": "code",
   "execution_count": null,
   "id": "c6254257",
   "metadata": {},
   "outputs": [],
   "source": []
  },
  {
   "cell_type": "code",
   "execution_count": null,
   "id": "3d41db40",
   "metadata": {},
   "outputs": [],
   "source": []
  }
 ],
 "metadata": {
  "kernelspec": {
   "display_name": "Python 3",
   "language": "python",
   "name": "python3"
  },
  "language_info": {
   "codemirror_mode": {
    "name": "ipython",
    "version": 3
   },
   "file_extension": ".py",
   "mimetype": "text/x-python",
   "name": "python",
   "nbconvert_exporter": "python",
   "pygments_lexer": "ipython3",
   "version": "3.8.2"
  }
 },
 "nbformat": 4,
 "nbformat_minor": 5
}
