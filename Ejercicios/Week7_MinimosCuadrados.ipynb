{
 "cells": [
  {
   "cell_type": "code",
   "execution_count": 1,
   "id": "54dd2a66",
   "metadata": {},
   "outputs": [],
   "source": [
    "import numpy as np\n",
    "import matplotlib.pyplot as plt"
   ]
  },
  {
   "cell_type": "code",
   "execution_count": 2,
   "id": "06f5120b",
   "metadata": {},
   "outputs": [],
   "source": [
    "data1 = np.loadtxt('Data/MinimosLineal.txt')"
   ]
  },
  {
   "cell_type": "code",
   "execution_count": 3,
   "id": "fade99bd",
   "metadata": {},
   "outputs": [
    {
     "name": "stdout",
     "output_type": "stream",
     "text": [
      "(20, 2)\n",
      "(20,)\n"
     ]
    }
   ],
   "source": [
    "b = data1[:,1]\n",
    "\n",
    "A = np.ones((len(b),2))\n",
    "\n",
    "A[:,1] = data1[:,0]\n",
    "\n",
    "print(A.shape)\n",
    "print(b.shape)"
   ]
  },
  {
   "cell_type": "code",
   "execution_count": 4,
   "id": "2ed677f3",
   "metadata": {},
   "outputs": [
    {
     "name": "stdout",
     "output_type": "stream",
     "text": [
      "[[ 1.        0.      ]\n",
      " [ 1.        1.052632]\n",
      " [ 1.        2.105263]\n",
      " [ 1.        3.157895]\n",
      " [ 1.        4.210526]\n",
      " [ 1.        5.263158]\n",
      " [ 1.        6.315789]\n",
      " [ 1.        7.368421]\n",
      " [ 1.        8.421053]\n",
      " [ 1.        9.473684]\n",
      " [ 1.       10.52632 ]\n",
      " [ 1.       11.57895 ]\n",
      " [ 1.       12.63158 ]\n",
      " [ 1.       13.68421 ]\n",
      " [ 1.       14.73684 ]\n",
      " [ 1.       15.78947 ]\n",
      " [ 1.       16.84211 ]\n",
      " [ 1.       17.89474 ]\n",
      " [ 1.       18.94737 ]\n",
      " [ 1.       20.      ]]\n"
     ]
    }
   ],
   "source": [
    "print(A)"
   ]
  },
  {
   "cell_type": "code",
   "execution_count": 5,
   "id": "45dcd9db",
   "metadata": {},
   "outputs": [],
   "source": [
    "At = A.T\n",
    "\n",
    "M = np.dot(At,A)\n",
    "bt = np.dot(At,b)"
   ]
  },
  {
   "cell_type": "code",
   "execution_count": 6,
   "id": "2e71754a",
   "metadata": {},
   "outputs": [
    {
     "name": "stdout",
     "output_type": "stream",
     "text": [
      "[-5.12918553  2.12503681]\n"
     ]
    }
   ],
   "source": [
    "# Pendiente y punto de corte\n",
    "xsol1 = np.linalg.solve(M,bt)\n",
    "print(xsol1)"
   ]
  },
  {
   "cell_type": "code",
   "execution_count": 7,
   "id": "b6e4a084",
   "metadata": {},
   "outputs": [
    {
     "data": {
      "text/plain": [
       "[<matplotlib.lines.Line2D at 0x7febebdac9d0>]"
      ]
     },
     "execution_count": 7,
     "metadata": {},
     "output_type": "execute_result"
    },
    {
     "data": {
      "image/png": "[encoded data removed]",
      "text/plain": [
       "<Figure size 432x288 with 1 Axes>"
      ]
     },
     "metadata": {
      "needs_background": "light"
     },
     "output_type": "display_data"
    }
   ],
   "source": [
    "t = np.linspace(0,20,10)\n",
    "plt.scatter(data1[:,0],data1[:,1],color='r')\n",
    "plt.plot(t,xsol1[0] + xsol1[1]*t)"
   ]
  },
  {
   "cell_type": "code",
   "execution_count": 8,
   "id": "7015e5bc",
   "metadata": {},
   "outputs": [],
   "source": [
    "data2 = np.loadtxt('Data/MinimosCuadratico.txt')"
   ]
  },
  {
   "cell_type": "code",
   "execution_count": 9,
   "id": "ecf2bcd9",
   "metadata": {},
   "outputs": [
    {
     "name": "stdout",
     "output_type": "stream",
     "text": [
      "(20, 3)\n",
      "(20,)\n"
     ]
    }
   ],
   "source": [
    "b = data2[:,1]\n",
    "\n",
    "A = np.ones((len(b),3))\n",
    "A[:,1] = data2[:,0]\n",
    "A[:,2] = data2[:,0]**2\n",
    "#A[:,3] = data2[:,0]**3\n",
    "\n",
    "print(A.shape)\n",
    "print(b.shape)"
   ]
  },
  {
   "cell_type": "code",
   "execution_count": 10,
   "id": "53cf203d",
   "metadata": {},
   "outputs": [
    {
     "name": "stdout",
     "output_type": "stream",
     "text": [
      "[[  1.           0.           0.        ]\n",
      " [  1.           0.5263158    0.27700832]\n",
      " [  1.           1.052632     1.10803413]\n",
      " [  1.           1.578947     2.49307363]\n",
      " [  1.           2.105263     4.4321323 ]\n",
      " [  1.           2.631579     6.92520803]\n",
      " [  1.           3.157895     9.97230083]\n",
      " [  1.           3.684211    13.57341069]\n",
      " [  1.           4.210526    17.7285292 ]\n",
      " [  1.           4.736842    22.43767213]\n",
      " [  1.           5.263158    27.70083213]\n",
      " [  1.           5.789474    33.5180092 ]\n",
      " [  1.           6.315789    39.88919069]\n",
      " [  1.           6.842105    46.81440083]\n",
      " [  1.           7.368421    54.29362803]\n",
      " [  1.           7.894737    62.3268723 ]\n",
      " [  1.           8.421053    70.91413363]\n",
      " [  1.           8.947368    80.05539413]\n",
      " [  1.           9.473684    89.75068853]\n",
      " [  1.          10.         100.        ]]\n"
     ]
    }
   ],
   "source": [
    "print(A)"
   ]
  },
  {
   "cell_type": "code",
   "execution_count": 11,
   "id": "444738d5",
   "metadata": {},
   "outputs": [],
   "source": [
    "At = A.T\n",
    "\n",
    "M = np.dot(At,A)\n",
    "bt = np.dot(At,b)"
   ]
  },
  {
   "cell_type": "code",
   "execution_count": 12,
   "id": "06544c28",
   "metadata": {},
   "outputs": [
    {
     "name": "stdout",
     "output_type": "stream",
     "text": [
      "[1.22132054 6.09075205 2.9565874 ]\n"
     ]
    }
   ],
   "source": [
    "xsol2 = np.linalg.solve(M,bt)\n",
    "print(xsol2)"
   ]
  },
  {
   "cell_type": "code",
   "execution_count": 13,
   "id": "8890c1a0",
   "metadata": {},
   "outputs": [
    {
     "data": {
      "text/plain": [
       "[<matplotlib.lines.Line2D at 0x7febe9ce8550>]"
      ]
     },
     "execution_count": 13,
     "metadata": {},
     "output_type": "execute_result"
    },
    {
     "data": {
      "image/png": "[encoded data removed]",
      "text/plain": [
       "<Figure size 432x288 with 1 Axes>"
      ]
     },
     "metadata": {
      "needs_background": "light"
     },
     "output_type": "display_data"
    }
   ],
   "source": [
    "t = np.linspace(0,10,10)\n",
    "plt.scatter(data2[:,0],data2[:,1],color='r')\n",
    "plt.plot(t,xsol2[0]+xsol2[1]*t+xsol2[2]*t**2)"
   ]
  },
  {
   "cell_type": "code",
   "execution_count": null,
   "id": "bb6ba65c",
   "metadata": {},
   "outputs": [],
   "source": []
  },
  {
   "cell_type": "code",
   "execution_count": null,
   "id": "0ad47f23",
   "metadata": {},
   "outputs": [],
   "source": []
  }
 ],
 "metadata": {
  "kernelspec": {
   "display_name": "Python 3",
   "language": "python",
   "name": "python3"
  },
  "language_info": {
   "codemirror_mode": {
    "name": "ipython",
    "version": 3
   },
   "file_extension": ".py",
   "mimetype": "text/x-python",
   "name": "python",
   "nbconvert_exporter": "python",
   "pygments_lexer": "ipython3",
   "version": "3.8.2"
  }
 },
 "nbformat": 4,
 "nbformat_minor": 5
}
