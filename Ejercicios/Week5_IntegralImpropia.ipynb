{
 "cells": [
  {
   "cell_type": "code",
   "execution_count": 1,
   "id": "69d66abe",
   "metadata": {},
   "outputs": [],
   "source": [
    "import numpy as np\n",
    "from scipy.integrate import quad"
   ]
  },
  {
   "cell_type": "code",
   "execution_count": 2,
   "id": "decc74ed",
   "metadata": {},
   "outputs": [],
   "source": [
    "grad= 100\n",
    "x,w=np.polynomial.legendre.leggauss(grad)"
   ]
  },
  {
   "cell_type": "code",
   "execution_count": 3,
   "id": "86ef9558",
   "metadata": {},
   "outputs": [
    {
     "name": "stdout",
     "output_type": "stream",
     "text": [
      "0.8669729873399115\n"
     ]
    }
   ],
   "source": [
    "# Primera integral entre 0 y 1\n",
    "a= 0\n",
    "b= 1\n",
    "f= lambda x : 1/(x**4+1)\n",
    "t= 0.5*( (b-a)*x + a + b )\n",
    "integral1= 0.5*(b-a)*np.sum( w*f(t))\n",
    "print(integral1)"
   ]
  },
  {
   "cell_type": "code",
   "execution_count": 4,
   "id": "ee9816e9",
   "metadata": {},
   "outputs": [],
   "source": [
    "# Segunda integral entre 0 y 1\n",
    "a= 0.\n",
    "b= 1.\n",
    "g= lambda u : 1/( (1./u**4 + 1) * (u)**2 )\n",
    "t= 0.5*( (b-a)*x + a + b )\n",
    "integral2 = 0.5*(b-a)*np.sum( w*g(t) )"
   ]
  },
  {
   "cell_type": "code",
   "execution_count": 5,
   "id": "4c137dee",
   "metadata": {},
   "outputs": [
    {
     "name": "stdout",
     "output_type": "stream",
     "text": [
      "1.110720734539592\n"
     ]
    }
   ],
   "source": [
    "print(integral1+integral2)"
   ]
  },
  {
   "cell_type": "code",
   "execution_count": 6,
   "id": "caeee591",
   "metadata": {},
   "outputs": [],
   "source": [
    "IntegralLegendre = integral1+integral2\n",
    "# Paquete"
   ]
  },
  {
   "cell_type": "code",
   "execution_count": 7,
   "id": "34dffbcd",
   "metadata": {},
   "outputs": [],
   "source": [
    "f= lambda x : 1/(x**4+1)"
   ]
  },
  {
   "cell_type": "code",
   "execution_count": 8,
   "id": "1dfd77e3",
   "metadata": {},
   "outputs": [
    {
     "name": "stdout",
     "output_type": "stream",
     "text": [
      "(1.1107207345395917, 2.2388309236642196e-09)\n"
     ]
    }
   ],
   "source": [
    "Integralq1 = quad(f,0,np.inf)\n",
    "print(Integralq1)"
   ]
  },
  {
   "cell_type": "code",
   "execution_count": 9,
   "id": "cb1377eb",
   "metadata": {},
   "outputs": [
    {
     "name": "stdout",
     "output_type": "stream",
     "text": [
      "1.1107214116745343\n"
     ]
    }
   ],
   "source": [
    "# Gauss-Laguerre\n",
    "grad= 100\n",
    "x,w=np.polynomial.laguerre.laggauss(grad)\n",
    "f= lambda x : np.exp(x)/(x**4+1)\n",
    "Integralq2 = np.sum( w*f(x) )\n",
    "print(Integralq2)"
   ]
  },
  {
   "cell_type": "code",
   "execution_count": 10,
   "id": "56c98cef",
   "metadata": {},
   "outputs": [
    {
     "name": "stdout",
     "output_type": "stream",
     "text": [
      "1.0000000000000004 1.0000000000000002 1.0000006096356373\n"
     ]
    }
   ],
   "source": [
    "# Valor exacto \n",
    "Ie = np.pi/(2*np.sqrt(2))\n",
    "print(IntegralLegendre/Ie, Integralq1[0]/Ie,Integralq2/Ie)"
   ]
  },
  {
   "cell_type": "code",
   "execution_count": null,
   "id": "3f0ceec8",
   "metadata": {},
   "outputs": [],
   "source": []
  }
 ],
 "metadata": {
  "kernelspec": {
   "display_name": "Python 3",
   "language": "python",
   "name": "python3"
  },
  "language_info": {
   "codemirror_mode": {
    "name": "ipython",
    "version": 3
   },
   "file_extension": ".py",
   "mimetype": "text/x-python",
   "name": "python",
   "nbconvert_exporter": "python",
   "pygments_lexer": "ipython3",
   "version": "3.8.2"
  }
 },
 "nbformat": 4,
 "nbformat_minor": 5
}
