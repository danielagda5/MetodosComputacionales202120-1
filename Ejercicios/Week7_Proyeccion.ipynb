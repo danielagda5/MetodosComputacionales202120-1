{
 "cells": [
  {
   "cell_type": "code",
   "execution_count": 1,
   "id": "fbd47258",
   "metadata": {},
   "outputs": [],
   "source": [
    "import numpy as np"
   ]
  },
  {
   "cell_type": "code",
   "execution_count": 59,
   "id": "f0070011",
   "metadata": {},
   "outputs": [
    {
     "name": "stdout",
     "output_type": "stream",
     "text": [
      "[[ 3  1 -1]\n",
      " [ 1  2  0]\n",
      " [ 0  1  2]\n",
      " [ 1  1 -1]]\n"
     ]
    }
   ],
   "source": [
    "A = np.array([[3,1,-1],[1,2,0],[0,1,2],[1,1,-1]])\n",
    "b = np.array([-3,-3,8,9])\n",
    "print(A)"
   ]
  },
  {
   "cell_type": "code",
   "execution_count": 60,
   "id": "9c41f592",
   "metadata": {},
   "outputs": [],
   "source": [
    "At = A.T"
   ]
  },
  {
   "cell_type": "code",
   "execution_count": 61,
   "id": "fcbb8db6",
   "metadata": {},
   "outputs": [
    {
     "name": "stdout",
     "output_type": "stream",
     "text": [
      "[[ 3  1  0  1]\n",
      " [ 1  2  1  1]\n",
      " [-1  0  2 -1]]\n"
     ]
    }
   ],
   "source": [
    "print(At)"
   ]
  },
  {
   "cell_type": "code",
   "execution_count": 62,
   "id": "d5792c18",
   "metadata": {},
   "outputs": [
    {
     "name": "stdout",
     "output_type": "stream",
     "text": [
      "[[11  6 -4]\n",
      " [ 6  7  0]\n",
      " [-4  0  6]]\n",
      "[-3  8 10]\n"
     ]
    }
   ],
   "source": [
    "M = np.dot(At,A)\n",
    "bt = np.dot(At,b)\n",
    "\n",
    "print(M)\n",
    "print(bt)"
   ]
  },
  {
   "cell_type": "code",
   "execution_count": 63,
   "id": "76e28224",
   "metadata": {},
   "outputs": [
    {
     "name": "stdout",
     "output_type": "stream",
     "text": [
      "[-1.  2.  1.]\n"
     ]
    }
   ],
   "source": [
    "x = np.linalg.solve(M,bt)\n",
    "print(x)"
   ]
  },
  {
   "cell_type": "code",
   "execution_count": 66,
   "id": "49252079",
   "metadata": {},
   "outputs": [
    {
     "name": "stdout",
     "output_type": "stream",
     "text": [
      "[-2.  3.  4. -0.]\n"
     ]
    }
   ],
   "source": [
    "# La proyeccion ortogonal de b sobre el sub-espacio es\n",
    "p = np.dot(A,x)\n",
    "print(np.round(p,4))"
   ]
  },
  {
   "cell_type": "code",
   "execution_count": 68,
   "id": "7753d637",
   "metadata": {},
   "outputs": [
    {
     "name": "stdout",
     "output_type": "stream",
     "text": [
      "[[ 3  1  0  1]\n",
      " [ 1  2  1  1]\n",
      " [-1  0  2 -1]]\n"
     ]
    }
   ],
   "source": [
    "# Para Gram-Schmidt definimos los vetores en una matriz\n",
    "V = np.array([[3,1,0,1],[1,2,1,1],[-1,0,2,-1]])\n",
    "print(V)"
   ]
  },
  {
   "cell_type": "markdown",
   "id": "f858bd30",
   "metadata": {},
   "source": [
    "$$ u_{k} = v_{k} - \\sum_{j=1}^{k-1} \\frac{<v_{k},u_{j}>}{<u_{j},u_{j}>} u_{j} $$"
   ]
  },
  {
   "cell_type": "code",
   "execution_count": 69,
   "id": "9805106a",
   "metadata": {},
   "outputs": [],
   "source": [
    "def GetBase(v, normal = True):\n",
    "    \n",
    "    u = np.zeros((v.shape[0],v.shape[1]))\n",
    "    \n",
    "    \n",
    "    for k in range(v.shape[0]):   \n",
    "        \n",
    "        u[k] = v[k]\n",
    "        \n",
    "        for j in range(k):\n",
    "            u[k] -= np.dot(v[k],u[j])/np.dot(u[j],u[j])*u[j]\n",
    "        \n",
    "        if normal:\n",
    "           # print(np.linalg.norm(u[k]))\n",
    "            u[k] /= np.linalg.norm(u[k])\n",
    "    \n",
    "    return u"
   ]
  },
  {
   "cell_type": "code",
   "execution_count": 87,
   "id": "0b03a9c9",
   "metadata": {},
   "outputs": [
    {
     "name": "stdout",
     "output_type": "stream",
     "text": [
      "La base ortonormal es: \n",
      " [[ 0.9045  0.3015  0.      0.3015]\n",
      " [-0.3296  0.7534  0.518   0.2354]\n",
      " [ 0.2563 -0.2698  0.7825 -0.4992]]\n"
     ]
    }
   ],
   "source": [
    "Base = GetBase(V,True)\n",
    "print('La base ortonormal es: \\n',np.round(Base,4))"
   ]
  },
  {
   "cell_type": "code",
   "execution_count": 88,
   "id": "c9d18a88",
   "metadata": {},
   "outputs": [
    {
     "name": "stdout",
     "output_type": "stream",
     "text": [
      "[-0.90453403  4.99134506  1.807842  ]\n",
      "[[-0.81818182 -0.27272727 -0.         -0.27272727]\n",
      " [-1.64523282  3.76053215  2.58536585  1.1751663 ]\n",
      " [ 0.46341463 -0.48780488  1.41463415 -0.90243902]]\n"
     ]
    }
   ],
   "source": [
    "# Los coeficientes en esa base\n",
    "c = np.zeros(Base.shape[0])\n",
    "# Los vectores base lo multiplicamos por los coeficientes\n",
    "v = Base.copy()\n",
    "\n",
    "for i in range(Base.shape[0]):\n",
    "    c[i] = np.dot(b,Base[i])\n",
    "    v[i] = Base[i]*c[i]\n",
    "     \n",
    "print(c)\n",
    "print(v)"
   ]
  },
  {
   "cell_type": "code",
   "execution_count": 89,
   "id": "a6435e7d",
   "metadata": {},
   "outputs": [
    {
     "name": "stdout",
     "output_type": "stream",
     "text": [
      "[-2.  3.  4.  0.]\n"
     ]
    }
   ],
   "source": [
    "# La proyeccion por gram - schmidt\n",
    "p = np.sum(v,axis=0)\n",
    "print(np.round(p,4))"
   ]
  },
  {
   "cell_type": "code",
   "execution_count": null,
   "id": "d099f9e4",
   "metadata": {},
   "outputs": [],
   "source": []
  }
 ],
 "metadata": {
  "kernelspec": {
   "display_name": "Python 3",
   "language": "python",
   "name": "python3"
  },
  "language_info": {
   "codemirror_mode": {
    "name": "ipython",
    "version": 3
   },
   "file_extension": ".py",
   "mimetype": "text/x-python",
   "name": "python",
   "nbconvert_exporter": "python",
   "pygments_lexer": "ipython3",
   "version": "3.8.2"
  }
 },
 "nbformat": 4,
 "nbformat_minor": 5
}
