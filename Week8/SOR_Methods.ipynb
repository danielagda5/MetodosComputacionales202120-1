{
 "cells": [
  {
   "cell_type": "code",
   "execution_count": 1,
   "id": "b06cf4d6",
   "metadata": {},
   "outputs": [],
   "source": [
    "%matplotlib notebook\n",
    "import numpy as np\n",
    "import matplotlib.pyplot as plt\n",
    "from matplotlib import rc\n",
    "from mpl_toolkits.mplot3d import axes3d\n",
    "from matplotlib import cm\n",
    "import matplotlib as mpl\n",
    "from tqdm import tqdm"
   ]
  },
  {
   "cell_type": "code",
   "execution_count": 2,
   "id": "6bb50aeb",
   "metadata": {},
   "outputs": [],
   "source": [
    "# Discretizamos el espacio\n",
    "Xmin, Xmax, NpointsX = 0.,40.,51\n",
    "Ymin, Ymax, NpointsY = 0.,40.,51"
   ]
  },
  {
   "cell_type": "code",
   "execution_count": null,
   "id": "d8abdb8e",
   "metadata": {},
   "outputs": [],
   "source": []
  }
 ],
 "metadata": {
  "kernelspec": {
   "display_name": "Python 3",
   "language": "python",
   "name": "python3"
  },
  "language_info": {
   "codemirror_mode": {
    "name": "ipython",
    "version": 3
   },
   "file_extension": ".py",
   "mimetype": "text/x-python",
   "name": "python",
   "nbconvert_exporter": "python",
   "pygments_lexer": "ipython3",
   "version": "3.8.2"
  }
 },
 "nbformat": 4,
 "nbformat_minor": 5
}
