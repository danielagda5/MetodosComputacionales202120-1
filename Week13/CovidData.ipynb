{
 "cells": [
  {
   "cell_type": "code",
   "execution_count": 1,
   "id": "8092e968",
   "metadata": {},
   "outputs": [],
   "source": [
    "import numpy as np\n",
    "import pandas as pd\n",
    "import matplotlib.pyplot as plt\n",
    "from scipy.stats import chi2"
   ]
  },
  {
   "cell_type": "code",
   "execution_count": 2,
   "id": "a2926cb7",
   "metadata": {},
   "outputs": [],
   "source": [
    "path = '/home/alejandro/Dropbox/osb_enftransm-covid-19_27092021.csv'\n",
    "df = pd.read_csv(path, sep = ';')"
   ]
  },
  {
   "cell_type": "code",
   "execution_count": 3,
   "id": "ee94692c",
   "metadata": {},
   "outputs": [
    {
     "data": {
      "text/html": [
       "<div>\n",
       "<style scoped>\n",
       "    .dataframe tbody tr th:only-of-type {\n",
       "        vertical-align: middle;\n",
       "    }\n",
       "\n",
       "    .dataframe tbody tr th {\n",
       "        vertical-align: top;\n",
       "    }\n",
       "\n",
       "    .dataframe thead th {\n",
       "        text-align: right;\n",
       "    }\n",
       "</style>\n",
       "<table border=\"1\" class=\"dataframe\">\n",
       "  <thead>\n",
       "    <tr style=\"text-align: right;\">\n",
       "      <th></th>\n",
       "      <th>CASO</th>\n",
       "      <th>FECHA_DE_INICIO_DE_SINTOMAS</th>\n",
       "      <th>FECHA_DIAGNOSTICO</th>\n",
       "      <th>CIUDAD</th>\n",
       "      <th>LOCALIDAD_ASIS</th>\n",
       "      <th>EDAD</th>\n",
       "      <th>UNI_MED</th>\n",
       "      <th>SEXO</th>\n",
       "      <th>FUENTE_O_TIPO_DE_CONTAGIO</th>\n",
       "      <th>UBICACION</th>\n",
       "      <th>ESTADO</th>\n",
       "    </tr>\n",
       "  </thead>\n",
       "  <tbody>\n",
       "    <tr>\n",
       "      <th>0</th>\n",
       "      <td>1</td>\n",
       "      <td>2020-02-26</td>\n",
       "      <td>2020-03-06</td>\n",
       "      <td>Bogotá</td>\n",
       "      <td>Usaquén</td>\n",
       "      <td>19</td>\n",
       "      <td>1</td>\n",
       "      <td>F</td>\n",
       "      <td>Importado</td>\n",
       "      <td>Casa</td>\n",
       "      <td>Recuperado</td>\n",
       "    </tr>\n",
       "    <tr>\n",
       "      <th>1</th>\n",
       "      <td>2</td>\n",
       "      <td>2020-03-04</td>\n",
       "      <td>2020-03-10</td>\n",
       "      <td>Bogotá</td>\n",
       "      <td>Engativá</td>\n",
       "      <td>22</td>\n",
       "      <td>1</td>\n",
       "      <td>F</td>\n",
       "      <td>Importado</td>\n",
       "      <td>Casa</td>\n",
       "      <td>Recuperado</td>\n",
       "    </tr>\n",
       "    <tr>\n",
       "      <th>2</th>\n",
       "      <td>3</td>\n",
       "      <td>2020-03-07</td>\n",
       "      <td>2020-03-10</td>\n",
       "      <td>Bogotá</td>\n",
       "      <td>Engativá</td>\n",
       "      <td>28</td>\n",
       "      <td>1</td>\n",
       "      <td>F</td>\n",
       "      <td>Importado</td>\n",
       "      <td>Casa</td>\n",
       "      <td>Recuperado</td>\n",
       "    </tr>\n",
       "    <tr>\n",
       "      <th>3</th>\n",
       "      <td>4</td>\n",
       "      <td>2020-03-06</td>\n",
       "      <td>2020-03-12</td>\n",
       "      <td>Bogotá</td>\n",
       "      <td>Fontibón</td>\n",
       "      <td>36</td>\n",
       "      <td>1</td>\n",
       "      <td>F</td>\n",
       "      <td>Importado</td>\n",
       "      <td>Casa</td>\n",
       "      <td>Recuperado</td>\n",
       "    </tr>\n",
       "    <tr>\n",
       "      <th>4</th>\n",
       "      <td>5</td>\n",
       "      <td>2020-03-06</td>\n",
       "      <td>2020-03-12</td>\n",
       "      <td>Bogotá</td>\n",
       "      <td>Kennedy</td>\n",
       "      <td>42</td>\n",
       "      <td>1</td>\n",
       "      <td>F</td>\n",
       "      <td>Importado</td>\n",
       "      <td>Casa</td>\n",
       "      <td>Recuperado</td>\n",
       "    </tr>\n",
       "    <tr>\n",
       "      <th>5</th>\n",
       "      <td>6</td>\n",
       "      <td>2020-03-08</td>\n",
       "      <td>2020-03-13</td>\n",
       "      <td>Bogotá</td>\n",
       "      <td>Suba</td>\n",
       "      <td>61</td>\n",
       "      <td>1</td>\n",
       "      <td>F</td>\n",
       "      <td>Importado</td>\n",
       "      <td>Casa</td>\n",
       "      <td>Recuperado</td>\n",
       "    </tr>\n",
       "    <tr>\n",
       "      <th>6</th>\n",
       "      <td>7</td>\n",
       "      <td>2020-02-28</td>\n",
       "      <td>2020-03-13</td>\n",
       "      <td>Bogotá</td>\n",
       "      <td>Teusaquillo</td>\n",
       "      <td>73</td>\n",
       "      <td>1</td>\n",
       "      <td>F</td>\n",
       "      <td>Importado</td>\n",
       "      <td>Casa</td>\n",
       "      <td>Recuperado</td>\n",
       "    </tr>\n",
       "    <tr>\n",
       "      <th>7</th>\n",
       "      <td>8</td>\n",
       "      <td>2020-03-06</td>\n",
       "      <td>2020-03-13</td>\n",
       "      <td>Bogotá</td>\n",
       "      <td>Chapinero</td>\n",
       "      <td>54</td>\n",
       "      <td>1</td>\n",
       "      <td>M</td>\n",
       "      <td>Importado</td>\n",
       "      <td>Casa</td>\n",
       "      <td>Recuperado</td>\n",
       "    </tr>\n",
       "    <tr>\n",
       "      <th>8</th>\n",
       "      <td>9</td>\n",
       "      <td>2020-03-10</td>\n",
       "      <td>2020-03-13</td>\n",
       "      <td>Bogotá</td>\n",
       "      <td>Engativá</td>\n",
       "      <td>54</td>\n",
       "      <td>1</td>\n",
       "      <td>F</td>\n",
       "      <td>Relacionado</td>\n",
       "      <td>Casa</td>\n",
       "      <td>Recuperado</td>\n",
       "    </tr>\n",
       "    <tr>\n",
       "      <th>9</th>\n",
       "      <td>10</td>\n",
       "      <td>2020-03-08</td>\n",
       "      <td>2020-03-14</td>\n",
       "      <td>Bogotá</td>\n",
       "      <td>Fontibón</td>\n",
       "      <td>23</td>\n",
       "      <td>1</td>\n",
       "      <td>M</td>\n",
       "      <td>Relacionado</td>\n",
       "      <td>Casa</td>\n",
       "      <td>Recuperado</td>\n",
       "    </tr>\n",
       "  </tbody>\n",
       "</table>\n",
       "</div>"
      ],
      "text/plain": [
       "   CASO FECHA_DE_INICIO_DE_SINTOMAS FECHA_DIAGNOSTICO  CIUDAD LOCALIDAD_ASIS  \\\n",
       "0     1                  2020-02-26        2020-03-06  Bogotá        Usaquén   \n",
       "1     2                  2020-03-04        2020-03-10  Bogotá       Engativá   \n",
       "2     3                  2020-03-07        2020-03-10  Bogotá       Engativá   \n",
       "3     4                  2020-03-06        2020-03-12  Bogotá       Fontibón   \n",
       "4     5                  2020-03-06        2020-03-12  Bogotá        Kennedy   \n",
       "5     6                  2020-03-08        2020-03-13  Bogotá           Suba   \n",
       "6     7                  2020-02-28        2020-03-13  Bogotá    Teusaquillo   \n",
       "7     8                  2020-03-06        2020-03-13  Bogotá      Chapinero   \n",
       "8     9                  2020-03-10        2020-03-13  Bogotá       Engativá   \n",
       "9    10                  2020-03-08        2020-03-14  Bogotá       Fontibón   \n",
       "\n",
       "   EDAD  UNI_MED SEXO FUENTE_O_TIPO_DE_CONTAGIO UBICACION      ESTADO  \n",
       "0    19        1    F                 Importado      Casa  Recuperado  \n",
       "1    22        1    F                 Importado      Casa  Recuperado  \n",
       "2    28        1    F                 Importado      Casa  Recuperado  \n",
       "3    36        1    F                 Importado      Casa  Recuperado  \n",
       "4    42        1    F                 Importado      Casa  Recuperado  \n",
       "5    61        1    F                 Importado      Casa  Recuperado  \n",
       "6    73        1    F                 Importado      Casa  Recuperado  \n",
       "7    54        1    M                 Importado      Casa  Recuperado  \n",
       "8    54        1    F               Relacionado      Casa  Recuperado  \n",
       "9    23        1    M               Relacionado      Casa  Recuperado  "
      ]
     },
     "execution_count": 3,
     "metadata": {},
     "output_type": "execute_result"
    }
   ],
   "source": [
    "df.head(10)"
   ]
  },
  {
   "cell_type": "code",
   "execution_count": 4,
   "id": "f3e74555",
   "metadata": {},
   "outputs": [
    {
     "data": {
      "text/plain": [
       "Index(['CASO', 'FECHA_DE_INICIO_DE_SINTOMAS', 'FECHA_DIAGNOSTICO', 'CIUDAD',\n",
       "       'LOCALIDAD_ASIS', 'EDAD', 'UNI_MED', 'SEXO',\n",
       "       'FUENTE_O_TIPO_DE_CONTAGIO', 'UBICACION', 'ESTADO'],\n",
       "      dtype='object')"
      ]
     },
     "execution_count": 4,
     "metadata": {},
     "output_type": "execute_result"
    }
   ],
   "source": [
    "df.keys()"
   ]
  },
  {
   "cell_type": "code",
   "execution_count": 6,
   "id": "b9dd68eb",
   "metadata": {},
   "outputs": [
    {
     "name": "stdout",
     "output_type": "stream",
     "text": [
      "1449289\n"
     ]
    }
   ],
   "source": [
    "df1 = df[['LOCALIDAD_ASIS','EDAD','SEXO','ESTADO']]\n",
    "\n",
    "df1.head(10)\n",
    "\n",
    "NObs = len(df1['EDAD'])\n",
    "print(NObs)"
   ]
  },
  {
   "cell_type": "code",
   "execution_count": 8,
   "id": "cde6f9ac",
   "metadata": {},
   "outputs": [
    {
     "name": "stdout",
     "output_type": "stream",
     "text": [
      "Suba                  214527\n",
      "Kennedy               183548\n",
      "Engativá              162636\n",
      "Usaquén               107081\n",
      "Bosa                  106131\n",
      "Ciudad Bolívar         83693\n",
      "Fontibón               73411\n",
      "Rafael Uribe Uribe     64868\n",
      "Sin dato               60804\n",
      "San Cristóbal          57039\n",
      "Puente Aranda          55880\n",
      "Usme                   48030\n",
      "Chapinero              38979\n",
      "Teusaquillo            36271\n",
      "Barrios Unidos         31534\n",
      "Tunjuelito             31136\n",
      "Fuera de Bogotá        24308\n",
      "Santa Fe               24135\n",
      "Antonio Nariño         19403\n",
      "Los Mártires           18230\n",
      "La Candelaria           7557\n",
      "Sumapaz                   88\n",
      "Name: LOCALIDAD_ASIS, dtype: int64\n"
     ]
    },
    {
     "data": {
      "text/plain": [
       "<matplotlib.axes._subplots.AxesSubplot at 0x7fb1fba26520>"
      ]
     },
     "execution_count": 8,
     "metadata": {},
     "output_type": "execute_result"
    },
    {
     "data": {
      "image/png": "[encoded data removed]",
      "text/plain": [
       "<Figure size 432x288 with 1 Axes>"
      ]
     },
     "metadata": {
      "needs_background": "light"
     },
     "output_type": "display_data"
    }
   ],
   "source": [
    "Counts_Localidad = pd.value_counts( df1['LOCALIDAD_ASIS'] )\n",
    "print(Counts_Localidad)\n",
    "Counts_Localidad.plot( kind='bar', title='Contagios por localidad' )"
   ]
  },
  {
   "cell_type": "code",
   "execution_count": 9,
   "id": "c98c580c",
   "metadata": {},
   "outputs": [
    {
     "name": "stdout",
     "output_type": "stream",
     "text": [
      "[1.48022237e-01 1.26646928e-01 1.12217784e-01 7.38851947e-02\n",
      " 7.32297009e-02 5.77476266e-02 5.06531134e-02 4.47584988e-02\n",
      " 4.19543652e-02 3.93565397e-02 3.85568372e-02 3.31403881e-02\n",
      " 2.68952569e-02 2.50267545e-02 2.17582553e-02 2.14836378e-02\n",
      " 1.67723622e-02 1.66529933e-02 1.33879440e-02 1.25785816e-02\n",
      " 5.21428093e-03 6.07194286e-05]\n"
     ]
    }
   ],
   "source": [
    "# Probabilidad por localidad\n",
    "PLocalidad = np.array( Counts_Localidad / NObs )\n",
    "print(PLocalidad)"
   ]
  },
  {
   "cell_type": "code",
   "execution_count": 10,
   "id": "c725dece",
   "metadata": {},
   "outputs": [
    {
     "name": "stdout",
     "output_type": "stream",
     "text": [
      "F    774939\n",
      "M    674350\n",
      "Name: SEXO, dtype: int64\n"
     ]
    }
   ],
   "source": [
    "Counts_Sexo = pd.value_counts( df1['SEXO'] )\n",
    "print(Counts_Sexo)"
   ]
  },
  {
   "cell_type": "code",
   "execution_count": 11,
   "id": "c2b74e73",
   "metadata": {},
   "outputs": [
    {
     "data": {
      "text/plain": [
       "<matplotlib.axes._subplots.AxesSubplot at 0x7fb1f99c3fd0>"
      ]
     },
     "execution_count": 11,
     "metadata": {},
     "output_type": "execute_result"
    },
    {
     "data": {
      "image/png": "[encoded data removed]",
      "text/plain": [
       "<Figure size 432x288 with 1 Axes>"
      ]
     },
     "metadata": {
      "needs_background": "light"
     },
     "output_type": "display_data"
    }
   ],
   "source": [
    "Counts_Sexo.plot( kind='bar', title='Contagios por género' )"
   ]
  },
  {
   "cell_type": "code",
   "execution_count": 14,
   "id": "61b80de5",
   "metadata": {},
   "outputs": [
    {
     "name": "stdout",
     "output_type": "stream",
     "text": [
      "[0.53470288 0.46529712]\n"
     ]
    }
   ],
   "source": [
    "# Probabilidad de genero\n",
    "PSexo = np.array(Counts_Sexo/NObs)\n",
    "print(PSexo)"
   ]
  },
  {
   "cell_type": "code",
   "execution_count": 15,
   "id": "f5ac73f0",
   "metadata": {},
   "outputs": [
    {
     "name": "stdout",
     "output_type": "stream",
     "text": [
      "Recuperado                                1415269\n",
      "Fallecido                                   27581\n",
      "Fallecido (No aplica No causa Directa)       4305\n",
      "Leve                                         1777\n",
      "Grave                                         187\n",
      "Moderado                                      170\n",
      "Name: ESTADO, dtype: int64\n"
     ]
    },
    {
     "data": {
      "text/plain": [
       "<matplotlib.axes._subplots.AxesSubplot at 0x7fb1f989a040>"
      ]
     },
     "execution_count": 15,
     "metadata": {},
     "output_type": "execute_result"
    },
    {
     "data": {
      "image/png": "[encoded data removed]",
      "text/plain": [
       "<Figure size 432x288 with 1 Axes>"
      ]
     },
     "metadata": {
      "needs_background": "light"
     },
     "output_type": "display_data"
    }
   ],
   "source": [
    "Counts_Estado = pd.value_counts( df1['ESTADO'] )\n",
    "print(Counts_Estado)\n",
    "Counts_Estado.plot( kind='bar', title='Estado' )"
   ]
  },
  {
   "cell_type": "code",
   "execution_count": 16,
   "id": "7469a44d",
   "metadata": {},
   "outputs": [
    {
     "name": "stdout",
     "output_type": "stream",
     "text": [
      "[9.76526421e-01 1.90307109e-02 2.97042205e-03 1.22611846e-03\n",
      " 1.29028786e-04 1.17298896e-04]\n"
     ]
    }
   ],
   "source": [
    "PEstado = np.array(Counts_Estado/NObs)\n",
    "print(PEstado)"
   ]
  },
  {
   "cell_type": "code",
   "execution_count": 18,
   "id": "555993b5",
   "metadata": {},
   "outputs": [
    {
     "name": "stdout",
     "output_type": "stream",
     "text": [
      "0.5255238948201497 0.522151488126433\n"
     ]
    }
   ],
   "source": [
    "# Probabilidad de ser mujer y recuperarse\n",
    "\n",
    "Cut1 = df1['SEXO'] == 'F'\n",
    "Cut2 = df1['ESTADO'] == 'Recuperado'\n",
    "\n",
    "dfTest = df1[ (Cut1) & (Cut2) ]\n",
    "\n",
    "CountTest = pd.value_counts(dfTest['ESTADO'])\n",
    "\n",
    "print( CountTest.Recuperado/NObs, PSexo[0]*PEstado[0] )"
   ]
  },
  {
   "cell_type": "markdown",
   "id": "a50427d8",
   "metadata": {},
   "source": [
    "# Usar las tablas de contingencia sexo-estado"
   ]
  },
  {
   "cell_type": "code",
   "execution_count": 19,
   "id": "ba5a968b",
   "metadata": {},
   "outputs": [
    {
     "data": {
      "text/html": [
       "<div>\n",
       "<style scoped>\n",
       "    .dataframe tbody tr th:only-of-type {\n",
       "        vertical-align: middle;\n",
       "    }\n",
       "\n",
       "    .dataframe tbody tr th {\n",
       "        vertical-align: top;\n",
       "    }\n",
       "\n",
       "    .dataframe thead th {\n",
       "        text-align: right;\n",
       "    }\n",
       "</style>\n",
       "<table border=\"1\" class=\"dataframe\">\n",
       "  <thead>\n",
       "    <tr style=\"text-align: right;\">\n",
       "      <th>ESTADO</th>\n",
       "      <th>Fallecido</th>\n",
       "      <th>Fallecido (No aplica No causa Directa)</th>\n",
       "      <th>Grave</th>\n",
       "      <th>Leve</th>\n",
       "      <th>Moderado</th>\n",
       "      <th>Recuperado</th>\n",
       "    </tr>\n",
       "    <tr>\n",
       "      <th>SEXO</th>\n",
       "      <th></th>\n",
       "      <th></th>\n",
       "      <th></th>\n",
       "      <th></th>\n",
       "      <th></th>\n",
       "      <th></th>\n",
       "    </tr>\n",
       "  </thead>\n",
       "  <tbody>\n",
       "    <tr>\n",
       "      <th>F</th>\n",
       "      <td>10278</td>\n",
       "      <td>1969</td>\n",
       "      <td>67</td>\n",
       "      <td>910</td>\n",
       "      <td>79</td>\n",
       "      <td>761636</td>\n",
       "    </tr>\n",
       "    <tr>\n",
       "      <th>M</th>\n",
       "      <td>17303</td>\n",
       "      <td>2336</td>\n",
       "      <td>120</td>\n",
       "      <td>867</td>\n",
       "      <td>91</td>\n",
       "      <td>653633</td>\n",
       "    </tr>\n",
       "  </tbody>\n",
       "</table>\n",
       "</div>"
      ],
      "text/plain": [
       "ESTADO  Fallecido  Fallecido (No aplica No causa Directa)  Grave  Leve  \\\n",
       "SEXO                                                                     \n",
       "F           10278                                    1969     67   910   \n",
       "M           17303                                    2336    120   867   \n",
       "\n",
       "ESTADO  Moderado  Recuperado  \n",
       "SEXO                          \n",
       "F             79      761636  \n",
       "M             91      653633  "
      ]
     },
     "execution_count": 19,
     "metadata": {},
     "output_type": "execute_result"
    }
   ],
   "source": [
    "TablaSexoEstado = pd.crosstab( index = df1['SEXO'], columns=df1['ESTADO'], margins=False)\n",
    "TablaSexoEstado.head(2)"
   ]
  },
  {
   "cell_type": "code",
   "execution_count": 20,
   "id": "dfa3f34a",
   "metadata": {},
   "outputs": [
    {
     "name": "stdout",
     "output_type": "stream",
     "text": [
      "[[ 10278   1969     67    910     79 761636]\n",
      " [ 17303   2336    120    867     91 653633]]\n"
     ]
    }
   ],
   "source": [
    "ObsFreq = np.array(TablaSexoEstado)\n",
    "print(ObsFreq)"
   ]
  },
  {
   "cell_type": "code",
   "execution_count": 21,
   "id": "ad11ee8a",
   "metadata": {},
   "outputs": [
    {
     "name": "stdout",
     "output_type": "stream",
     "text": [
      "[0.53470288 0.46529712]\n",
      "[1.90307109e-02 2.97042205e-03 1.29028786e-04 1.22611846e-03\n",
      " 1.17298896e-04 9.76526421e-01]\n"
     ]
    }
   ],
   "source": [
    "# Calculamos las marginales\n",
    "\n",
    "g = np.array( np.sum(TablaSexoEstado, axis=1)/NObs )\n",
    "h = np.array( np.sum(TablaSexoEstado, axis=0)/NObs )\n",
    "\n",
    "print(g)\n",
    "print(h)"
   ]
  },
  {
   "cell_type": "code",
   "execution_count": 24,
   "id": "c56d1275",
   "metadata": {},
   "outputs": [],
   "source": [
    "Pse = np.zeros((len(g),len(h)))\n",
    "\n",
    "for i in range(len(g)):\n",
    "    for j in range(len(h)):\n",
    "        Pse[i,j] = g[i]*h[j] # Si las variables son independientes"
   ]
  },
  {
   "cell_type": "code",
   "execution_count": 25,
   "id": "c66a42a0",
   "metadata": {},
   "outputs": [
    {
     "name": "stdout",
     "output_type": "stream",
     "text": [
      "[[1.01757759e-02 1.58829322e-03 6.89920632e-05 6.55609071e-04\n",
      "  6.27200574e-05 5.22151488e-01]\n",
      " [8.85493501e-03 1.38212883e-03 6.00367226e-05 5.70509391e-04\n",
      "  5.45788388e-05 4.54374933e-01]]\n"
     ]
    }
   ],
   "source": [
    "print(Pse)"
   ]
  },
  {
   "cell_type": "code",
   "execution_count": 26,
   "id": "69c4fa19",
   "metadata": {},
   "outputs": [
    {
     "name": "stdout",
     "output_type": "stream",
     "text": [
      "[[1.47480e+04 2.30200e+03 1.00000e+02 9.50000e+02 9.10000e+01 7.56748e+05]\n",
      " [1.28330e+04 2.00300e+03 8.70000e+01 8.27000e+02 7.90000e+01 6.58521e+05]]\n"
     ]
    }
   ],
   "source": [
    "ExpFreq = Pse*NObs\n",
    "\n",
    "print(np.round(ExpFreq,0))"
   ]
  },
  {
   "cell_type": "code",
   "execution_count": 32,
   "id": "e9759fbe",
   "metadata": {},
   "outputs": [],
   "source": [
    "def GetChi2(f0,fe):\n",
    "    \n",
    "    diff = f0 - fe\n",
    "    \n",
    "    m = (diff)**2/fe\n",
    "    \n",
    "   # print(m)\n",
    "    \n",
    "    return np.sum(m)"
   ]
  },
  {
   "cell_type": "code",
   "execution_count": 33,
   "id": "7a14ba2e",
   "metadata": {},
   "outputs": [
    {
     "name": "stdout",
     "output_type": "stream",
     "text": [
      "3113.034442451175\n"
     ]
    }
   ],
   "source": [
    "Chi2 = GetChi2(ObsFreq,ExpFreq)\n",
    "print(Chi2)"
   ]
  },
  {
   "cell_type": "code",
   "execution_count": 34,
   "id": "450e80d3",
   "metadata": {},
   "outputs": [
    {
     "name": "stdout",
     "output_type": "stream",
     "text": [
      "5\n"
     ]
    }
   ],
   "source": [
    "df = (len( ObsFreq[:,0] )-1 )*(len( ObsFreq[0,:] )-1)\n",
    "print(df)"
   ]
  },
  {
   "cell_type": "code",
   "execution_count": 35,
   "id": "8d54468f",
   "metadata": {},
   "outputs": [
    {
     "data": {
      "text/plain": [
       "11.070497693516351"
      ]
     },
     "execution_count": 35,
     "metadata": {},
     "output_type": "execute_result"
    }
   ],
   "source": [
    "chi2.ppf( 0.95, df=df )"
   ]
  },
  {
   "cell_type": "code",
   "execution_count": 38,
   "id": "8af58028",
   "metadata": {},
   "outputs": [
    {
     "data": {
      "text/html": [
       "<div>\n",
       "<style scoped>\n",
       "    .dataframe tbody tr th:only-of-type {\n",
       "        vertical-align: middle;\n",
       "    }\n",
       "\n",
       "    .dataframe tbody tr th {\n",
       "        vertical-align: top;\n",
       "    }\n",
       "\n",
       "    .dataframe thead th {\n",
       "        text-align: right;\n",
       "    }\n",
       "</style>\n",
       "<table border=\"1\" class=\"dataframe\">\n",
       "  <thead>\n",
       "    <tr style=\"text-align: right;\">\n",
       "      <th>LOCALIDAD_ASIS</th>\n",
       "      <th>Antonio Nariño</th>\n",
       "      <th>Barrios Unidos</th>\n",
       "      <th>Bosa</th>\n",
       "      <th>Chapinero</th>\n",
       "      <th>Ciudad Bolívar</th>\n",
       "      <th>Engativá</th>\n",
       "      <th>Fontibón</th>\n",
       "      <th>Fuera de Bogotá</th>\n",
       "      <th>Kennedy</th>\n",
       "      <th>La Candelaria</th>\n",
       "      <th>...</th>\n",
       "      <th>Rafael Uribe Uribe</th>\n",
       "      <th>San Cristóbal</th>\n",
       "      <th>Santa Fe</th>\n",
       "      <th>Sin dato</th>\n",
       "      <th>Suba</th>\n",
       "      <th>Sumapaz</th>\n",
       "      <th>Teusaquillo</th>\n",
       "      <th>Tunjuelito</th>\n",
       "      <th>Usaquén</th>\n",
       "      <th>Usme</th>\n",
       "    </tr>\n",
       "    <tr>\n",
       "      <th>SEXO</th>\n",
       "      <th></th>\n",
       "      <th></th>\n",
       "      <th></th>\n",
       "      <th></th>\n",
       "      <th></th>\n",
       "      <th></th>\n",
       "      <th></th>\n",
       "      <th></th>\n",
       "      <th></th>\n",
       "      <th></th>\n",
       "      <th></th>\n",
       "      <th></th>\n",
       "      <th></th>\n",
       "      <th></th>\n",
       "      <th></th>\n",
       "      <th></th>\n",
       "      <th></th>\n",
       "      <th></th>\n",
       "      <th></th>\n",
       "      <th></th>\n",
       "      <th></th>\n",
       "    </tr>\n",
       "  </thead>\n",
       "  <tbody>\n",
       "    <tr>\n",
       "      <th>F</th>\n",
       "      <td>10341</td>\n",
       "      <td>17033</td>\n",
       "      <td>57255</td>\n",
       "      <td>20102</td>\n",
       "      <td>45412</td>\n",
       "      <td>87543</td>\n",
       "      <td>39835</td>\n",
       "      <td>12018</td>\n",
       "      <td>99418</td>\n",
       "      <td>3731</td>\n",
       "      <td>...</td>\n",
       "      <td>34233</td>\n",
       "      <td>30676</td>\n",
       "      <td>12260</td>\n",
       "      <td>30576</td>\n",
       "      <td>116540</td>\n",
       "      <td>40</td>\n",
       "      <td>19083</td>\n",
       "      <td>16495</td>\n",
       "      <td>57558</td>\n",
       "      <td>26314</td>\n",
       "    </tr>\n",
       "    <tr>\n",
       "      <th>M</th>\n",
       "      <td>9062</td>\n",
       "      <td>14501</td>\n",
       "      <td>48876</td>\n",
       "      <td>18877</td>\n",
       "      <td>38281</td>\n",
       "      <td>75093</td>\n",
       "      <td>33576</td>\n",
       "      <td>12290</td>\n",
       "      <td>84130</td>\n",
       "      <td>3826</td>\n",
       "      <td>...</td>\n",
       "      <td>30635</td>\n",
       "      <td>26363</td>\n",
       "      <td>11875</td>\n",
       "      <td>30228</td>\n",
       "      <td>97987</td>\n",
       "      <td>48</td>\n",
       "      <td>17188</td>\n",
       "      <td>14641</td>\n",
       "      <td>49523</td>\n",
       "      <td>21716</td>\n",
       "    </tr>\n",
       "  </tbody>\n",
       "</table>\n",
       "<p>2 rows × 22 columns</p>\n",
       "</div>"
      ],
      "text/plain": [
       "LOCALIDAD_ASIS  Antonio Nariño  Barrios Unidos   Bosa  Chapinero  \\\n",
       "SEXO                                                               \n",
       "F                        10341           17033  57255      20102   \n",
       "M                         9062           14501  48876      18877   \n",
       "\n",
       "LOCALIDAD_ASIS  Ciudad Bolívar  Engativá  Fontibón  Fuera de Bogotá  Kennedy  \\\n",
       "SEXO                                                                           \n",
       "F                        45412     87543     39835            12018    99418   \n",
       "M                        38281     75093     33576            12290    84130   \n",
       "\n",
       "LOCALIDAD_ASIS  La Candelaria  ...  Rafael Uribe Uribe  San Cristóbal  \\\n",
       "SEXO                           ...                                      \n",
       "F                        3731  ...               34233          30676   \n",
       "M                        3826  ...               30635          26363   \n",
       "\n",
       "LOCALIDAD_ASIS  Santa Fe  Sin dato    Suba  Sumapaz  Teusaquillo  Tunjuelito  \\\n",
       "SEXO                                                                           \n",
       "F                  12260     30576  116540       40        19083       16495   \n",
       "M                  11875     30228   97987       48        17188       14641   \n",
       "\n",
       "LOCALIDAD_ASIS  Usaquén   Usme  \n",
       "SEXO                            \n",
       "F                 57558  26314  \n",
       "M                 49523  21716  \n",
       "\n",
       "[2 rows x 22 columns]"
      ]
     },
     "execution_count": 38,
     "metadata": {},
     "output_type": "execute_result"
    }
   ],
   "source": [
    "TablaSexoLocalidad = pd.crosstab(index = df1['SEXO'], columns = df1['LOCALIDAD_ASIS'], margins=False)\n",
    "TablaSexoLocalidad.head(2)"
   ]
  },
  {
   "cell_type": "code",
   "execution_count": 39,
   "id": "06dcdf3a",
   "metadata": {},
   "outputs": [
    {
     "name": "stdout",
     "output_type": "stream",
     "text": [
      "[[ 10341  17033  57255  20102  45412  87543  39835  12018  99418   3731\n",
      "    9272  29204  34233  30676  12260  30576 116540     40  19083  16495\n",
      "   57558  26314]\n",
      " [  9062  14501  48876  18877  38281  75093  33576  12290  84130   3826\n",
      "    8958  26676  30635  26363  11875  30228  97987     48  17188  14641\n",
      "   49523  21716]]\n"
     ]
    }
   ],
   "source": [
    "ObsFreq = np.array(TablaSexoLocalidad)\n",
    "print(ObsFreq)"
   ]
  },
  {
   "cell_type": "code",
   "execution_count": 40,
   "id": "137278e9",
   "metadata": {},
   "outputs": [
    {
     "name": "stdout",
     "output_type": "stream",
     "text": [
      "[0.53470288 0.46529712]\n",
      "[1.33879440e-02 2.17582553e-02 7.32297009e-02 2.68952569e-02\n",
      " 5.77476266e-02 1.12217784e-01 5.06531134e-02 1.67723622e-02\n",
      " 1.26646928e-01 5.21428093e-03 1.25785816e-02 3.85568372e-02\n",
      " 4.47584988e-02 3.93565397e-02 1.66529933e-02 4.19543652e-02\n",
      " 1.48022237e-01 6.07194286e-05 2.50267545e-02 2.14836378e-02\n",
      " 7.38851947e-02 3.31403881e-02]\n"
     ]
    }
   ],
   "source": [
    "# Calculamos las marginales\n",
    "\n",
    "g = np.array( np.sum(TablaSexoLocalidad, axis=1)/NObs )\n",
    "h = np.array( np.sum(TablaSexoLocalidad, axis=0)/NObs )\n",
    "\n",
    "print(g)\n",
    "print(h)"
   ]
  },
  {
   "cell_type": "code",
   "execution_count": 41,
   "id": "9d5f1053",
   "metadata": {},
   "outputs": [],
   "source": [
    "Psl = np.zeros((len(g),len(h)))\n",
    "\n",
    "for i in range(len(g)):\n",
    "    for j in range(len(h)):\n",
    "        Psl[i,j] = g[i]*h[j] # Si las variables son independientes"
   ]
  },
  {
   "cell_type": "code",
   "execution_count": 42,
   "id": "b207b0ce",
   "metadata": {},
   "outputs": [
    {
     "name": "stdout",
     "output_type": "stream",
     "text": [
      "[[1.03750e+04 1.68610e+04 5.67490e+04 2.08420e+04 4.47510e+04 8.69620e+04\n",
      "  3.92530e+04 1.29980e+04 9.81440e+04 4.04100e+03 9.74800e+03 2.98790e+04\n",
      "  3.46850e+04 3.04990e+04 1.29050e+04 3.25120e+04 1.14708e+05 4.70000e+01\n",
      "  1.93940e+04 1.66490e+04 5.72570e+04 2.56820e+04]\n",
      " [9.02800e+03 1.46730e+04 4.93820e+04 1.81370e+04 3.89420e+04 7.56740e+04\n",
      "  3.41580e+04 1.13100e+04 8.54040e+04 3.51600e+03 8.48200e+03 2.60010e+04\n",
      "  3.01830e+04 2.65400e+04 1.12300e+04 2.82920e+04 9.98190e+04 4.10000e+01\n",
      "  1.68770e+04 1.44870e+04 4.98240e+04 2.23480e+04]]\n"
     ]
    }
   ],
   "source": [
    "ExpFreq = Psl*NObs\n",
    "\n",
    "print(np.round(ExpFreq,0))"
   ]
  },
  {
   "cell_type": "code",
   "execution_count": 43,
   "id": "4a48ca70",
   "metadata": {},
   "outputs": [
    {
     "name": "stdout",
     "output_type": "stream",
     "text": [
      "893.7274706878296\n"
     ]
    }
   ],
   "source": [
    "Chi2 = GetChi2(ObsFreq,ExpFreq)\n",
    "print(Chi2)"
   ]
  },
  {
   "cell_type": "code",
   "execution_count": 44,
   "id": "8c1861ea",
   "metadata": {},
   "outputs": [
    {
     "name": "stdout",
     "output_type": "stream",
     "text": [
      "21\n"
     ]
    }
   ],
   "source": [
    "df = (len( ObsFreq[:,0] )-1 )*(len( ObsFreq[0,:] )-1)\n",
    "print(df)"
   ]
  },
  {
   "cell_type": "code",
   "execution_count": 45,
   "id": "eb3168c5",
   "metadata": {},
   "outputs": [
    {
     "data": {
      "text/plain": [
       "32.670573340917315"
      ]
     },
     "execution_count": 45,
     "metadata": {},
     "output_type": "execute_result"
    }
   ],
   "source": [
    "chi2.ppf( 0.95, df=df )"
   ]
  },
  {
   "cell_type": "code",
   "execution_count": 46,
   "id": "b441e3df",
   "metadata": {},
   "outputs": [
    {
     "data": {
      "text/plain": [
       "1.0"
      ]
     },
     "execution_count": 46,
     "metadata": {},
     "output_type": "execute_result"
    }
   ],
   "source": [
    "chi2.cdf(Chi2,df=df)"
   ]
  },
  {
   "cell_type": "markdown",
   "id": "57f4053e",
   "metadata": {},
   "source": [
    "# Calcular probabilidad de muerte por genero"
   ]
  },
  {
   "cell_type": "code",
   "execution_count": 52,
   "id": "5b213f81",
   "metadata": {},
   "outputs": [],
   "source": [
    "def GetProb(df,sexo_,estado_):\n",
    "    \n",
    "    Cut1 = df['SEXO'] == sexo_\n",
    "    Cut2 = df['ESTADO'] == estado_\n",
    "    \n",
    "    dfM = df[(Cut1)] # Cantidad de mujeres\n",
    "    dfMR = df[(Cut1)&(Cut2)]\n",
    "    \n",
    "    # Categorizar la edad\n",
    "    h = 1\n",
    "    \n",
    "    x = np.arange(0,100+h,h)\n",
    "    \n",
    "    H1, bins = np.histogram(dfM['EDAD'], bins=x)\n",
    "    w = np.diff(bins)\n",
    "    \n",
    "    H2, bins = np.histogram(dfMR['EDAD'], bins=x)\n",
    " \n",
    "    DiffH = H1 - H2\n",
    "    \n",
    "    return bins, w, H1, H2, DiffH"
   ]
  },
  {
   "cell_type": "code",
   "execution_count": 53,
   "id": "3fb43071",
   "metadata": {},
   "outputs": [],
   "source": [
    "bins,w,MH1,MH2,MDiffH = GetProb(df1,'F','Recuperado')"
   ]
  },
  {
   "cell_type": "code",
   "execution_count": 54,
   "id": "b71ac00d",
   "metadata": {},
   "outputs": [
    {
     "data": {
      "text/plain": [
       "<matplotlib.legend.Legend at 0x7fb1f92867c0>"
      ]
     },
     "execution_count": 54,
     "metadata": {},
     "output_type": "execute_result"
    },
    {
     "data": {
      "image/png": "[encoded data removed]",
      "text/plain": [
       "<Figure size 720x360 with 2 Axes>"
      ]
     },
     "metadata": {
      "needs_background": "light"
     },
     "output_type": "display_data"
    }
   ],
   "source": [
    "fig = plt.figure(figsize=(10,5))\n",
    "ax = fig.add_subplot(1,2,1)\n",
    "ax1 = fig.add_subplot(1,2,2)\n",
    "ax.bar(bins[:-1],MH1, color='r', width=w, ec='k', alpha=0.9, label='Mujeres')\n",
    "ax.bar(bins[:-1],MH2, color='b', width=w, ec='k', alpha=0.6, label='MujeresR')\n",
    "ax.legend(loc=0)\n",
    "ax1.bar(bins[:-1],MDiffH, color='g', width=w, ec='k', alpha=0.6, label='Diferencia')\n",
    "ax1.legend(loc=0)"
   ]
  },
  {
   "cell_type": "code",
   "execution_count": 57,
   "id": "8fd9d584",
   "metadata": {},
   "outputs": [
    {
     "name": "stdout",
     "output_type": "stream",
     "text": [
      "67.02839710756251\n",
      "0.009160353801070732\n"
     ]
    }
   ],
   "source": [
    "meanM = np.sum( bins[:-1]*MDiffH )/np.sum(MDiffH*w)\n",
    "print(meanM)\n",
    "\n",
    "EventsM = np.sum(MDiffH*w)\n",
    "\n",
    "print(EventsM/NObs)"
   ]
  },
  {
   "cell_type": "code",
   "execution_count": 58,
   "id": "dc5e0a9e",
   "metadata": {},
   "outputs": [],
   "source": [
    "bins,w,HH1,HH2,HDiffH = GetProb(df1,'M','Recuperado')"
   ]
  },
  {
   "cell_type": "code",
   "execution_count": 59,
   "id": "eae715ab",
   "metadata": {},
   "outputs": [
    {
     "data": {
      "text/plain": [
       "<matplotlib.legend.Legend at 0x7fb1f8ed43d0>"
      ]
     },
     "execution_count": 59,
     "metadata": {},
     "output_type": "execute_result"
    },
    {
     "data": {
      "image/png": "[encoded data removed]",
      "text/plain": [
       "<Figure size 720x360 with 2 Axes>"
      ]
     },
     "metadata": {
      "needs_background": "light"
     },
     "output_type": "display_data"
    }
   ],
   "source": [
    "fig = plt.figure(figsize=(10,5))\n",
    "ax = fig.add_subplot(1,2,1)\n",
    "ax1 = fig.add_subplot(1,2,2)\n",
    "ax.bar(bins[:-1],HH1, color='r', width=w, ec='k', alpha=0.9, label='Hombres')\n",
    "ax.bar(bins[:-1],HH2, color='b', width=w, ec='k', alpha=0.6, label='HombresR')\n",
    "ax.legend(loc=0)\n",
    "ax1.bar(bins[:-1],HDiffH, color='g', width=w, ec='k', alpha=0.6, label='Diferencia')\n",
    "ax1.legend(loc=0)"
   ]
  },
  {
   "cell_type": "code",
   "execution_count": 60,
   "id": "eea31eea",
   "metadata": {},
   "outputs": [
    {
     "name": "stdout",
     "output_type": "stream",
     "text": [
      "64.83005746848892\n",
      "0.014287695552784849\n"
     ]
    }
   ],
   "source": [
    "meanH = np.sum( bins[:-1]*HDiffH )/np.sum(HDiffH*w)\n",
    "print(meanH)\n",
    "\n",
    "EventsH = np.sum(HDiffH*w)\n",
    "\n",
    "print(EventsH/NObs)"
   ]
  },
  {
   "cell_type": "code",
   "execution_count": 62,
   "id": "cd9df52d",
   "metadata": {},
   "outputs": [
    {
     "name": "stdout",
     "output_type": "stream",
     "text": [
      "344 277 1.2418772563176896\n",
      "3375 1874 1.8009605122732124\n",
      "16342 10283 1.5892249343576776\n"
     ]
    }
   ],
   "source": [
    "# Porcentaje de evetos que caen entre los 50 a 100 años\n",
    "boys = 0\n",
    "girls = 0\n",
    "adultosH = 0\n",
    "adultosmayoresH = 0\n",
    "adultosM = 0\n",
    "adultosmayoresM = 0\n",
    "\n",
    "for i in range(len(bins[:-1])):\n",
    "    \n",
    "    if bins[i] > 0 and bins[i] <= 20:\n",
    "        boys += HDiffH[i]*w[i]\n",
    "        girls += MDiffH[i]*w[i]\n",
    "    elif bins[i] > 20 and bins[i] <= 50:\n",
    "        adultosH += HDiffH[i]*w[i]\n",
    "        adultosM += MDiffH[i]*w[i]\n",
    "    elif bins[i] > 50 and bins[i] <= 90:\n",
    "        adultosmayoresH += HDiffH[i]*w[i]\n",
    "        adultosmayoresM += MDiffH[i]*w[i]\n",
    "        \n",
    "print(boys,girls, float(boys)/girls)    \n",
    "print(adultosH,adultosM, float(adultosH)/adultosM)\n",
    "print(adultosmayoresH,adultosmayoresM, float(adultosmayoresH)/adultosmayoresM)"
   ]
  },
  {
   "cell_type": "code",
   "execution_count": null,
   "id": "b829741d",
   "metadata": {},
   "outputs": [],
   "source": []
  }
 ],
 "metadata": {
  "kernelspec": {
   "display_name": "Python 3",
   "language": "python",
   "name": "python3"
  },
  "language_info": {
   "codemirror_mode": {
    "name": "ipython",
    "version": 3
   },
   "file_extension": ".py",
   "mimetype": "text/x-python",
   "name": "python",
   "nbconvert_exporter": "python",
   "pygments_lexer": "ipython3",
   "version": "3.8.2"
  }
 },
 "nbformat": 4,
 "nbformat_minor": 5
}
