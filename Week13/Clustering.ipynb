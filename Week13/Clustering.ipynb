{
 "cells": [
  {
   "cell_type": "code",
   "execution_count": 1,
   "id": "1902271b",
   "metadata": {},
   "outputs": [],
   "source": [
    "import numpy as np\n",
    "import matplotlib.pyplot as plt\n",
    "from matplotlib import cm\n",
    "from mpl_toolkits.mplot3d import Axes3D\n",
    "\n",
    "from sklearn.decomposition import PCA\n",
    "\n",
    "import seaborn as sns\n",
    "import pandas as pd\n",
    "\n",
    "from sklearn.datasets import make_blobs\n",
    "import os.path as path\n",
    "import wget"
   ]
  },
  {
   "cell_type": "markdown",
   "id": "d9240c1c",
   "metadata": {},
   "source": [
    "# Dimension reduction using PCA"
   ]
  },
  {
   "cell_type": "code",
   "execution_count": 7,
   "id": "839540d3",
   "metadata": {},
   "outputs": [
    {
     "name": "stdout",
     "output_type": "stream",
     "text": [
      "(100, 10)\n",
      "(100,)\n"
     ]
    }
   ],
   "source": [
    "X1, Y1 = make_blobs(n_features = 10, n_samples=100, centers = 5, random_state=1, cluster_std=1)\n",
    "print(X1.shape)\n",
    "print(Y1.shape)"
   ]
  },
  {
   "cell_type": "code",
   "execution_count": 9,
   "id": "1377aa44",
   "metadata": {},
   "outputs": [
    {
     "name": "stdout",
     "output_type": "stream",
     "text": [
      "           0          1          2         3         4         5         6  \\\n",
      "0  -0.821084   3.329952  -5.776907  8.764404 -9.167500  3.671818 -1.377405   \n",
      "1  -3.154903   3.256495  -5.292969  7.378172 -9.568233  3.233891 -2.587819   \n",
      "2  -0.385804   6.373592 -11.855694 -2.717185 -5.437231 -7.815216 -7.474064   \n",
      "3   4.449153  10.379054  -5.958629  2.147119  7.251937  9.121089 -6.989410   \n",
      "4  -1.410761   4.109849  -9.502501 -4.128052 -6.078547 -7.939694 -4.084096   \n",
      "..       ...        ...        ...       ...       ...       ...       ...   \n",
      "95 -8.524188  -1.443474   8.889419  0.531630  4.856095 -2.459129  2.548915   \n",
      "96  0.245099   5.517547  -9.338663 -5.580787 -6.462563 -7.732946 -5.463844   \n",
      "97 -1.256068   5.000068 -11.092624 -3.783966 -6.324326 -9.106929 -6.541014   \n",
      "98 -9.590005  -2.190290   9.018439 -0.065232  4.368706 -3.685687  4.051284   \n",
      "99 -1.990914   2.954420  -3.856331  7.615758 -9.931405  3.759517 -1.636739   \n",
      "\n",
      "            7          8         9  \n",
      "0    0.440525  -6.356257 -4.494611  \n",
      "1    0.640776  -8.618817 -4.270010  \n",
      "2   -2.225440  -2.245571  0.172414  \n",
      "3  -10.373887  -6.781024  6.052394  \n",
      "4   -4.985146  -2.711567  1.677822  \n",
      "..        ...        ...       ...  \n",
      "95   6.232583 -10.425034  6.226609  \n",
      "96  -2.044343  -2.465529  1.600340  \n",
      "97  -3.056171  -3.437768  1.091494  \n",
      "98   5.967299  -8.097698  5.002511  \n",
      "99   0.744654  -5.983805 -4.922268  \n",
      "\n",
      "[100 rows x 10 columns]\n"
     ]
    }
   ],
   "source": [
    "df = pd.DataFrame(X1, index=range(X1.shape[0]), columns=range(X1.shape[1]))\n",
    "print(df)"
   ]
  },
  {
   "cell_type": "code",
   "execution_count": 10,
   "id": "e1b0dabb",
   "metadata": {},
   "outputs": [
    {
     "name": "stdout",
     "output_type": "stream",
     "text": [
      "           0          1          2         3         4         5         6  \\\n",
      "0  -0.821084   3.329952  -5.776907  8.764404 -9.167500  3.671818 -1.377405   \n",
      "1  -3.154903   3.256495  -5.292969  7.378172 -9.568233  3.233891 -2.587819   \n",
      "2  -0.385804   6.373592 -11.855694 -2.717185 -5.437231 -7.815216 -7.474064   \n",
      "3   4.449153  10.379054  -5.958629  2.147119  7.251937  9.121089 -6.989410   \n",
      "4  -1.410761   4.109849  -9.502501 -4.128052 -6.078547 -7.939694 -4.084096   \n",
      "..       ...        ...        ...       ...       ...       ...       ...   \n",
      "95 -8.524188  -1.443474   8.889419  0.531630  4.856095 -2.459129  2.548915   \n",
      "96  0.245099   5.517547  -9.338663 -5.580787 -6.462563 -7.732946 -5.463844   \n",
      "97 -1.256068   5.000068 -11.092624 -3.783966 -6.324326 -9.106929 -6.541014   \n",
      "98 -9.590005  -2.190290   9.018439 -0.065232  4.368706 -3.685687  4.051284   \n",
      "99 -1.990914   2.954420  -3.856331  7.615758 -9.931405  3.759517 -1.636739   \n",
      "\n",
      "            7          8         9  y  \n",
      "0    0.440525  -6.356257 -4.494611  1  \n",
      "1    0.640776  -8.618817 -4.270010  1  \n",
      "2   -2.225440  -2.245571  0.172414  0  \n",
      "3  -10.373887  -6.781024  6.052394  2  \n",
      "4   -4.985146  -2.711567  1.677822  0  \n",
      "..        ...        ...       ... ..  \n",
      "95   6.232583 -10.425034  6.226609  3  \n",
      "96  -2.044343  -2.465529  1.600340  0  \n",
      "97  -3.056171  -3.437768  1.091494  0  \n",
      "98   5.967299  -8.097698  5.002511  3  \n",
      "99   0.744654  -5.983805 -4.922268  1  \n",
      "\n",
      "[100 rows x 11 columns]\n"
     ]
    }
   ],
   "source": [
    "# Agregamos el target\n",
    "df['y'] = Y1\n",
    "print(df)"
   ]
  },
  {
   "cell_type": "code",
   "execution_count": 11,
   "id": "06949ec1",
   "metadata": {},
   "outputs": [],
   "source": [
    "Dict = {0:'x1',1:'x2',2:'x3',3:'x4',4:'x5',5:'x6',6:'x7',7:'x8',8:'x9',9:'x10'}\n",
    "df.rename(columns=Dict, inplace=True)"
   ]
  },
  {
   "cell_type": "code",
   "execution_count": 13,
   "id": "76248333",
   "metadata": {},
   "outputs": [],
   "source": [
    "for i in range(10):\n",
    "    for j in range(10):\n",
    "        if i!=j:\n",
    "            plot = sns.lmplot( x=Dict[i], y=Dict[j], data=df, fit_reg=False,hue='y', legend=True ,scatter_kws={'s':100})\n",
    "            plt.savefig('Figures/%d_%d'%(i,j))\n",
    "            plt.close()"
   ]
  },
  {
   "cell_type": "code",
   "execution_count": 26,
   "id": "0752f004",
   "metadata": {},
   "outputs": [],
   "source": [
    "pca = PCA(n_components=4)\n",
    "pc = pca.fit_transform(X1)"
   ]
  },
  {
   "cell_type": "code",
   "execution_count": 27,
   "id": "c5554bf9",
   "metadata": {},
   "outputs": [
    {
     "name": "stdout",
     "output_type": "stream",
     "text": [
      "        var   PC\n",
      "0  0.382799  PC1\n",
      "1  0.331440  PC2\n",
      "2  0.183093  PC3\n",
      "3  0.084860  PC4\n"
     ]
    }
   ],
   "source": [
    "df1 = pd.DataFrame( {'var':pca.explained_variance_ratio_, 'PC':['PC1','PC2','PC3','PC4']} )\n",
    "print(df1)"
   ]
  },
  {
   "cell_type": "code",
   "execution_count": 28,
   "id": "f5ef09c1",
   "metadata": {},
   "outputs": [
    {
     "data": {
      "text/plain": [
       "<matplotlib.axes._subplots.AxesSubplot at 0x7f5b2a64efa0>"
      ]
     },
     "execution_count": 28,
     "metadata": {},
     "output_type": "execute_result"
    },
    {
     "data": {
      "image/png": "[encoded data removed]",
      "text/plain": [
       "<Figure size 432x288 with 1 Axes>"
      ]
     },
     "metadata": {
      "needs_background": "light"
     },
     "output_type": "display_data"
    }
   ],
   "source": [
    "sns.barplot(x='PC',y='var', data=df1, color='c')"
   ]
  },
  {
   "cell_type": "code",
   "execution_count": 29,
   "id": "dbbe3fc4",
   "metadata": {},
   "outputs": [],
   "source": [
    "dfpc = pd.DataFrame(data=pc, columns=['PC1','PC2','PC3','PC4'])\n",
    "dfpc['Cluster'] = Y1"
   ]
  },
  {
   "cell_type": "code",
   "execution_count": 31,
   "id": "61d61254",
   "metadata": {},
   "outputs": [
    {
     "data": {
      "text/plain": [
       "<seaborn.axisgrid.FacetGrid at 0x7f5b2a490730>"
      ]
     },
     "execution_count": 31,
     "metadata": {},
     "output_type": "execute_result"
    },
    {
     "data": {
      "image/png": "[encoded data removed]",
      "text/plain": [
       "<Figure size 403.5x360 with 1 Axes>"
      ]
     },
     "metadata": {
      "needs_background": "light"
     },
     "output_type": "display_data"
    }
   ],
   "source": [
    "sns.lmplot( x='PC1', y='PC3', data=dfpc, fit_reg=False,hue='Cluster', legend=True,scatter_kws={'s':100} )"
   ]
  },
  {
   "cell_type": "code",
   "execution_count": null,
   "id": "739a1884",
   "metadata": {},
   "outputs": [],
   "source": []
  }
 ],
 "metadata": {
  "kernelspec": {
   "display_name": "Python 3",
   "language": "python",
   "name": "python3"
  },
  "language_info": {
   "codemirror_mode": {
    "name": "ipython",
    "version": 3
   },
   "file_extension": ".py",
   "mimetype": "text/x-python",
   "name": "python",
   "nbconvert_exporter": "python",
   "pygments_lexer": "ipython3",
   "version": "3.8.2"
  }
 },
 "nbformat": 4,
 "nbformat_minor": 5
}
