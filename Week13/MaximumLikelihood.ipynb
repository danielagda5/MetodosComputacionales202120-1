{
 "cells": [
  {
   "cell_type": "code",
   "execution_count": 2,
   "id": "ee270c17",
   "metadata": {},
   "outputs": [],
   "source": [
    "import numpy             as np\n",
    "import matplotlib.pyplot as plt\n",
    "from matplotlib          import rc \n",
    "from matplotlib          import cm\n",
    "from mpl_toolkits.mplot3d import Axes3D\n",
    "\n",
    "import scipy.integrate as integrate\n",
    "import os.path as path\n",
    "import wget"
   ]
  },
  {
   "cell_type": "markdown",
   "id": "95678bc1",
   "metadata": {},
   "source": [
    "# Maximum Likelihood estimation"
   ]
  },
  {
   "cell_type": "markdown",
   "id": "ebd98998",
   "metadata": {},
   "source": [
    "$$ P(A/B) = \\frac{P(B/A)P(A)}{P(B)}  $$\n",
    "\n",
    "$P(A)$ es el prior.  (Hipótesis (Modelos en general)) \n",
    "\n",
    "$P(B/A)$ es la probabilidad de $B$ dada la hipótesis $A$. (Likelihood)\n",
    "\n",
    "$P(B)$ Evidencia, no calculable en general (factor de normalización)\n",
    "\n",
    "$P(A/B)$ es la probabilidad posterior.\n",
    "\n",
    "$$ P(A/B) \\propto P(B/A)P(A)  $$\n",
    "\n",
    "Esto puede verse como un proceso de actualización de las probabilidades dada la evidencia!\n",
    "\n",
    "Objetivo: Encontrar el mejor valor de sigma dada la secuencia de datos observados {$x_{k}$} y la incertidumbre asociada:\n",
    "\n",
    "$$ prob(\\sigma|\\{ x_{k}\\}) \\propto prob(\\{ x_{k}\\}|\\sigma)prob(\\sigma)$$\n",
    "\n",
    "Asumimos la probabilidad de $P(\\sigma) = A$, para $1 < \\sigma < 10$ y cero en otro caso."
   ]
  },
  {
   "cell_type": "code",
   "execution_count": 6,
   "id": "384b34c5",
   "metadata": {},
   "outputs": [],
   "source": [
    "file = 'data.dat'\n",
    "url = 'https://raw.githubusercontent.com/asegura4488/DataBase/main/MetodosComputacionales/Likelihood.dat'\n",
    "if not path.exists(file):\n",
    "    Path_ = wget.download(url,file)\n",
    "    print('File loaded')\n",
    "else:\n",
    "    Path_ = file"
   ]
  },
  {
   "cell_type": "code",
   "execution_count": 8,
   "id": "5b836be8",
   "metadata": {},
   "outputs": [
    {
     "name": "stdout",
     "output_type": "stream",
     "text": [
      "3.619291789654469\n"
     ]
    },
    {
     "data": {
      "image/png": "[encoded data removed]",
      "text/plain": [
       "<Figure size 432x288 with 1 Axes>"
      ]
     },
     "metadata": {
      "needs_background": "light"
     },
     "output_type": "display_data"
    }
   ],
   "source": [
    "Data = np.loadtxt(Path_)\n",
    "plt.hist(Data)\n",
    "print(np.std(Data))"
   ]
  },
  {
   "cell_type": "code",
   "execution_count": 9,
   "id": "9d3d6819",
   "metadata": {},
   "outputs": [],
   "source": [
    "def Likelihood(x,sigma):\n",
    "    return (1/np.sqrt(2*np.pi*sigma**2))*np.exp( -0.5*(x/sigma)**2 )"
   ]
  },
  {
   "cell_type": "code",
   "execution_count": 10,
   "id": "1a413038",
   "metadata": {},
   "outputs": [],
   "source": [
    "def GetLikelihood(x,sigma):\n",
    "    \n",
    "    like = 1.0\n",
    "    for i in x:\n",
    "        like *= Likelihood(i,sigma)\n",
    "        \n",
    "    return like"
   ]
  },
  {
   "cell_type": "code",
   "execution_count": 11,
   "id": "21e91c66",
   "metadata": {},
   "outputs": [],
   "source": [
    "sigma = np.linspace(1,10,100)\n",
    "LikeValue = GetLikelihood(Data,sigma) "
   ]
  },
  {
   "cell_type": "code",
   "execution_count": 13,
   "id": "c044492a",
   "metadata": {},
   "outputs": [
    {
     "data": {
      "text/plain": [
       "[<matplotlib.lines.Line2D at 0x7f2935c70e80>]"
      ]
     },
     "execution_count": 13,
     "metadata": {},
     "output_type": "execute_result"
    },
    {
     "data": {
      "image/png": "[encoded data removed]",
      "text/plain": [
       "<Figure size 432x288 with 1 Axes>"
      ]
     },
     "metadata": {
      "needs_background": "light"
     },
     "output_type": "display_data"
    }
   ],
   "source": [
    "plt.plot(sigma,LikeValue)"
   ]
  },
  {
   "cell_type": "code",
   "execution_count": 14,
   "id": "b6f66b05",
   "metadata": {},
   "outputs": [],
   "source": [
    "def GetDerivative(x,sigma):\n",
    "    \n",
    "    h = 0.000001\n",
    "    d = ( GetLikelihood(Data,sigma+h) - GetLikelihood(Data,sigma-h)   )/(2*h)\n",
    "    \n",
    "    return d"
   ]
  },
  {
   "cell_type": "code",
   "execution_count": 15,
   "id": "a8527db3",
   "metadata": {},
   "outputs": [],
   "source": [
    "Dlikelihood = GetDerivative(Data,sigma)"
   ]
  },
  {
   "cell_type": "code",
   "execution_count": 16,
   "id": "4ef41b16",
   "metadata": {},
   "outputs": [
    {
     "data": {
      "text/plain": [
       "[<matplotlib.lines.Line2D at 0x7f2935c4d2e0>]"
      ]
     },
     "execution_count": 16,
     "metadata": {},
     "output_type": "execute_result"
    },
    {
     "data": {
      "image/png": "[encoded data removed]",
      "text/plain": [
       "<Figure size 432x288 with 1 Axes>"
      ]
     },
     "metadata": {
      "needs_background": "light"
     },
     "output_type": "display_data"
    }
   ],
   "source": [
    "plt.plot(sigma,Dlikelihood)"
   ]
  },
  {
   "cell_type": "code",
   "execution_count": 17,
   "id": "1f49a1c4",
   "metadata": {},
   "outputs": [],
   "source": [
    "def Get2Derivative(x, sigma):\n",
    "    h = 0.000001\n",
    "    d = (GetDerivative(x,sigma+h) - GetDerivative(x,sigma-h))/(2*h)\n",
    "    return d"
   ]
  },
  {
   "cell_type": "code",
   "execution_count": 18,
   "id": "9b2e3736",
   "metadata": {},
   "outputs": [],
   "source": [
    "D2likelihood = Get2Derivative(Data,sigma)"
   ]
  },
  {
   "cell_type": "code",
   "execution_count": 19,
   "id": "8fae572b",
   "metadata": {},
   "outputs": [
    {
     "data": {
      "text/plain": [
       "[<matplotlib.lines.Line2D at 0x7f2935c14940>]"
      ]
     },
     "execution_count": 19,
     "metadata": {},
     "output_type": "execute_result"
    },
    {
     "data": {
      "image/png": "[encoded data removed]",
      "text/plain": [
       "<Figure size 432x288 with 1 Axes>"
      ]
     },
     "metadata": {
      "needs_background": "light"
     },
     "output_type": "display_data"
    }
   ],
   "source": [
    "plt.plot(sigma,D2likelihood)"
   ]
  },
  {
   "cell_type": "code",
   "execution_count": 22,
   "id": "352720e0",
   "metadata": {},
   "outputs": [],
   "source": [
    "def NewtonRaphson(x,sigmai):\n",
    "    \n",
    "    precision = 1e-20\n",
    "    \n",
    "    sigman = sigmai\n",
    "    \n",
    "    while np.abs( GetDerivative(Data,sigman) ) > precision:\n",
    "        sigman -= GetDerivative(Data,sigman)/Get2Derivative(Data,sigman)\n",
    "\n",
    "    return sigman"
   ]
  },
  {
   "cell_type": "code",
   "execution_count": 24,
   "id": "b764f780",
   "metadata": {},
   "outputs": [
    {
     "name": "stdout",
     "output_type": "stream",
     "text": [
      "3.976052503072015\n"
     ]
    }
   ],
   "source": [
    "SigmaValue = NewtonRaphson(Data,4.0)\n",
    "print(SigmaValue)"
   ]
  },
  {
   "cell_type": "code",
   "execution_count": 26,
   "id": "d4c94c46",
   "metadata": {},
   "outputs": [
    {
     "name": "stdout",
     "output_type": "stream",
     "text": [
      "8.815552170281016e-13\n"
     ]
    }
   ],
   "source": [
    "error = - Get2Derivative(Data,SigmaValue)\n",
    "print(error)"
   ]
  },
  {
   "cell_type": "code",
   "execution_count": 27,
   "id": "48a78f9c",
   "metadata": {},
   "outputs": [],
   "source": [
    "# Necesitamos normalizar al Likelihood\n",
    "\n",
    "def Like(s):\n",
    "    return GetLikelihood(Data,s)"
   ]
  },
  {
   "cell_type": "code",
   "execution_count": 30,
   "id": "5c0c1f7a",
   "metadata": {},
   "outputs": [],
   "source": [
    "def IntegrationQuad(x,sigma_min,sigma_max):\n",
    "    \n",
    "    Npoints = 1000\n",
    "    s = np.linspace(sigma_min,sigma_max,Npoints)\n",
    "    \n",
    "    a,b = s[0], s[-1]\n",
    "    \n",
    "    integral = integrate.quad(Like,a,b)\n",
    "    \n",
    "    return integral[0]"
   ]
  },
  {
   "cell_type": "code",
   "execution_count": 32,
   "id": "d29f5f13",
   "metadata": {},
   "outputs": [
    {
     "name": "stdout",
     "output_type": "stream",
     "text": [
      "1.7051343753418208e-12\n"
     ]
    }
   ],
   "source": [
    "Normalization = IntegrationQuad(Data,1.0,10)\n",
    "print(Normalization)"
   ]
  },
  {
   "cell_type": "code",
   "execution_count": 35,
   "id": "1ffd1a6a",
   "metadata": {},
   "outputs": [
    {
     "name": "stdout",
     "output_type": "stream",
     "text": [
      "0.51700043690186 0.7190274243044281\n"
     ]
    }
   ],
   "source": [
    "error = - Get2Derivative(Data,SigmaValue)/Normalization\n",
    "print(error, np.sqrt(error))"
   ]
  },
  {
   "cell_type": "markdown",
   "id": "9fedfcd2",
   "metadata": {},
   "source": [
    "$$ \\hat{\\sigma} = 3.97 \\pm 0.71 $$\n",
    "\n",
    "Donde los errores son simétricos, porque la distribución prior es gaussiana."
   ]
  },
  {
   "cell_type": "code",
   "execution_count": 34,
   "id": "b9fdaa17",
   "metadata": {},
   "outputs": [],
   "source": [
    "D2Normlizada = Get2Derivative(Data,sigma)/Normalization"
   ]
  },
  {
   "cell_type": "code",
   "execution_count": 37,
   "id": "a545c03b",
   "metadata": {},
   "outputs": [
    {
     "data": {
      "text/plain": [
       "[<matplotlib.lines.Line2D at 0x7f2935b78790>]"
      ]
     },
     "execution_count": 37,
     "metadata": {},
     "output_type": "execute_result"
    },
    {
     "data": {
      "image/png": "[encoded data removed]",
      "text/plain": [
       "<Figure size 432x288 with 1 Axes>"
      ]
     },
     "metadata": {
      "needs_background": "light"
     },
     "output_type": "display_data"
    }
   ],
   "source": [
    "plt.plot(sigma, D2Normlizada)"
   ]
  },
  {
   "cell_type": "code",
   "execution_count": null,
   "id": "499f687a",
   "metadata": {},
   "outputs": [],
   "source": []
  }
 ],
 "metadata": {
  "kernelspec": {
   "display_name": "Python 3",
   "language": "python",
   "name": "python3"
  },
  "language_info": {
   "codemirror_mode": {
    "name": "ipython",
    "version": 3
   },
   "file_extension": ".py",
   "mimetype": "text/x-python",
   "name": "python",
   "nbconvert_exporter": "python",
   "pygments_lexer": "ipython3",
   "version": "3.8.2"
  }
 },
 "nbformat": 4,
 "nbformat_minor": 5
}
