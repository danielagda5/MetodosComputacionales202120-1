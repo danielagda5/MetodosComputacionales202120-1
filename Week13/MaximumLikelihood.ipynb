{
 "cells": [
  {
   "cell_type": "code",
   "execution_count": 2,
   "id": "5325251b",
   "metadata": {},
   "outputs": [],
   "source": [
    "import numpy             as np\n",
    "import matplotlib.pyplot as plt\n",
    "from matplotlib          import rc \n",
    "from matplotlib          import cm\n",
    "from mpl_toolkits.mplot3d import Axes3D\n",
    "\n",
    "import scipy.integrate as integrate\n",
    "import os.path as path\n",
    "import wget"
   ]
  },
  {
   "cell_type": "markdown",
   "id": "bbe8968e",
   "metadata": {},
   "source": [
    "# Maximum Likelihood estimation"
   ]
  },
  {
   "cell_type": "code",
   "execution_count": null,
   "id": "21977bc5",
   "metadata": {},
   "outputs": [],
   "source": []
  }
 ],
 "metadata": {
  "kernelspec": {
   "display_name": "Python 3",
   "language": "python",
   "name": "python3"
  },
  "language_info": {
   "codemirror_mode": {
    "name": "ipython",
    "version": 3
   },
   "file_extension": ".py",
   "mimetype": "text/x-python",
   "name": "python",
   "nbconvert_exporter": "python",
   "pygments_lexer": "ipython3",
   "version": "3.8.2"
  }
 },
 "nbformat": 4,
 "nbformat_minor": 5
}
