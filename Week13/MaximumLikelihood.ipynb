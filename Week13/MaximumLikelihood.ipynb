{
 "cells": [
  {
   "cell_type": "code",
   "execution_count": 2,
   "id": "5830533a",
   "metadata": {},
   "outputs": [],
   "source": [
    "import numpy             as np\n",
    "import matplotlib.pyplot as plt\n",
    "from matplotlib          import rc \n",
    "from matplotlib          import cm\n",
    "from mpl_toolkits.mplot3d import Axes3D\n",
    "\n",
    "import scipy.integrate as integrate\n",
    "import os.path as path\n",
    "import wget"
   ]
  },
  {
   "cell_type": "markdown",
   "id": "f6b79d73",
   "metadata": {},
   "source": [
    "# Maximum Likelihood estimation"
   ]
  },
  {
   "cell_type": "markdown",
   "id": "2aa82626",
   "metadata": {},
   "source": [
    "$$ P(A/B) = \\frac{P(B/A)P(A)}{P(B)}  $$\n",
    "\n",
    "$P(A)$ es el prior.  (Hipótesis (Modelos en general)) \n",
    "\n",
    "$P(B/A)$ es la probabilidad de $B$ dada la hipótesis $A$. (Likelihood)\n",
    "\n",
    "$P(B)$ Evidencia, no calculable en general (factor de normalización)\n",
    "\n",
    "$P(A/B)$ es la probabilidad posterior.\n",
    "\n",
    "$$ P(A/B) \\propto P(B/A)P(A)  $$\n",
    "\n",
    "Esto puede verse como un proceso de actualización de las probabilidades dada la evidencia!\n",
    "\n",
    "Objetivo: Encontrar el mejor valor de sigma dada la secuencia de datos observados {$x_{k}$} y la incertidumbre asociada:\n",
    "\n",
    "$$ prob(\\sigma|\\{ x_{k}\\}) \\propto prob(\\{ x_{k}\\}|\\sigma)prob(\\sigma)$$\n",
    "\n",
    "Asumimos la probabilidad de $P(\\sigma) = A$, para $1 < \\sigma < 10$ y cero en otro caso."
   ]
  },
  {
   "cell_type": "code",
   "execution_count": null,
   "id": "d25c3dec",
   "metadata": {},
   "outputs": [],
   "source": []
  }
 ],
 "metadata": {
  "kernelspec": {
   "display_name": "Python 3",
   "language": "python",
   "name": "python3"
  },
  "language_info": {
   "codemirror_mode": {
    "name": "ipython",
    "version": 3
   },
   "file_extension": ".py",
   "mimetype": "text/x-python",
   "name": "python",
   "nbconvert_exporter": "python",
   "pygments_lexer": "ipython3",
   "version": "3.8.2"
  }
 },
 "nbformat": 4,
 "nbformat_minor": 5
}
