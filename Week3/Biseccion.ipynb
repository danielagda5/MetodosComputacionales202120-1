{
 "cells": [
  {
   "cell_type": "code",
   "execution_count": 1,
   "metadata": {},
   "outputs": [],
   "source": [
    "import numpy as np\n",
    "import matplotlib.pyplot as plt"
   ]
  },
  {
   "cell_type": "code",
   "execution_count": 27,
   "metadata": {},
   "outputs": [],
   "source": [
    "def poly(x):\n",
    "    #return (3*x**2 - 1)/2.\n",
    "    return (35*x**4-30*x**2+3)/8.\n",
    "    #return x**x - 100"
   ]
  },
  {
   "cell_type": "code",
   "execution_count": 30,
   "metadata": {},
   "outputs": [],
   "source": [
    "xi, xf, Npoints = -1.,1.,100\n",
    "h = (xf-xi)/float(Npoints)\n",
    "\n",
    "x = np.linspace(xi,xf,Npoints)\n",
    "y = poly(x)\n",
    "#print(x)"
   ]
  },
  {
   "cell_type": "code",
   "execution_count": 31,
   "metadata": {},
   "outputs": [
    {
     "data": {
      "text/plain": [
       "[<matplotlib.lines.Line2D at 0x7ff02faef490>]"
      ]
     },
     "execution_count": 31,
     "metadata": {},
     "output_type": "execute_result"
    },
    {
     "data": {
      "image/png": "[encoded data removed]",
      "text/plain": [
       "<Figure size 432x288 with 1 Axes>"
      ]
     },
     "metadata": {
      "needs_background": "light"
     },
     "output_type": "display_data"
    }
   ],
   "source": [
    "plt.plot(x,y)"
   ]
  },
  {
   "cell_type": "code",
   "execution_count": 32,
   "metadata": {},
   "outputs": [],
   "source": [
    "def Biseccion(a,b,f,n,tolerance=1e-10):\n",
    "    \n",
    "    i = 0\n",
    "    root = 1e6\n",
    "    error = 0.\n",
    "    \n",
    "    while i < n:\n",
    "        \n",
    "        m1 = (a + b)/2.\n",
    "        \n",
    "        if f(m1) == 0.: # Encontre la raiz\n",
    "            root = m1\n",
    "            break\n",
    "            \n",
    "        if f(m1)*f(b) < 0:\n",
    "            a = m1\n",
    "        elif f(a)*f(m1) < 0:\n",
    "            b = m1\n",
    "        else:\n",
    "            root = 'No-roots'\n",
    "            break\n",
    "            \n",
    "        error = np.abs(root - m1)\n",
    "        root = m1\n",
    "        \n",
    "        if error <= tolerance:\n",
    "            break\n",
    "        \n",
    "        \n",
    "        i += 1\n",
    "        #print(i)\n",
    "    \n",
    "    return root, error"
   ]
  },
  {
   "cell_type": "code",
   "execution_count": 33,
   "metadata": {},
   "outputs": [],
   "source": [
    "root, error = Biseccion(6,10,poly,100)"
   ]
  },
  {
   "cell_type": "code",
   "execution_count": 34,
   "metadata": {},
   "outputs": [],
   "source": [
    "intervalos = np.linspace(-10,10,100)\n",
    "\n",
    "roots = np.array([])\n",
    "\n",
    "for i in range(len(intervalos)-1):\n",
    "    \n",
    "    a = intervalos[i]\n",
    "    b = intervalos[i+1]\n",
    "    \n",
    "    root,_ = Biseccion(a,b,poly,1000)\n",
    "    \n",
    "    if root == 'No-roots':\n",
    "        continue\n",
    "        \n",
    "    else:\n",
    "        roots = np.append(roots,root)"
   ]
  },
  {
   "cell_type": "code",
   "execution_count": 35,
   "metadata": {},
   "outputs": [
    {
     "name": "stdout",
     "output_type": "stream",
     "text": [
      "[-0.86113631 -0.33998104  0.33998104  0.86113631]\n"
     ]
    }
   ],
   "source": [
    "print(roots)"
   ]
  },
  {
   "cell_type": "code",
   "execution_count": null,
   "metadata": {},
   "outputs": [],
   "source": []
  }
 ],
 "metadata": {
  "kernelspec": {
   "display_name": "Python 3",
   "language": "python",
   "name": "python3"
  },
  "language_info": {
   "codemirror_mode": {
    "name": "ipython",
    "version": 3
   },
   "file_extension": ".py",
   "mimetype": "text/x-python",
   "name": "python",
   "nbconvert_exporter": "python",
   "pygments_lexer": "ipython3",
   "version": "3.7.6"
  }
 },
 "nbformat": 4,
 "nbformat_minor": 4
}
