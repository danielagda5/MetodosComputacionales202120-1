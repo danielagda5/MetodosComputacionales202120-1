{
 "cells": [
  {
   "cell_type": "code",
   "execution_count": 1,
   "id": "eaebc98c",
   "metadata": {},
   "outputs": [],
   "source": [
    "import numpy as np\n",
    "import matplotlib.pyplot as plt\n",
    "from matplotlib import rc"
   ]
  },
  {
   "cell_type": "code",
   "execution_count": 2,
   "id": "32661964",
   "metadata": {},
   "outputs": [
    {
     "name": "stdout",
     "output_type": "stream",
     "text": [
      "1.1102230246251565e-16\n"
     ]
    }
   ],
   "source": [
    "epsilon = 2.\n",
    "\n",
    "while 1. + epsilon != 1.:\n",
    "    epsilon *= 0.5\n",
    "    \n",
    "print(epsilon)"
   ]
  },
  {
   "cell_type": "code",
   "execution_count": 3,
   "id": "a61b93f7",
   "metadata": {},
   "outputs": [],
   "source": [
    "def epsilon(x):\n",
    "    return np.sin(x) - ( x - (x**3)/6. )"
   ]
  },
  {
   "cell_type": "code",
   "execution_count": 4,
   "id": "839b898d",
   "metadata": {},
   "outputs": [
    {
     "name": "stdout",
     "output_type": "stream",
     "text": [
      "2.356194490192345 0.5310411200777835\n",
      "1.1780972450961724 0.018298391050561857\n"
     ]
    }
   ],
   "source": [
    "x = 3*np.pi/4.\n",
    "\n",
    "print(x, epsilon(x))\n",
    "print(x/2, epsilon(x/2))"
   ]
  },
  {
   "cell_type": "code",
   "execution_count": 5,
   "id": "5affccc7",
   "metadata": {},
   "outputs": [
    {
     "name": "stdout",
     "output_type": "stream",
     "text": [
      "29.021192005921073\n"
     ]
    }
   ],
   "source": [
    "print(epsilon(x)/epsilon(x/2))"
   ]
  },
  {
   "cell_type": "code",
   "execution_count": 6,
   "id": "56ee5916",
   "metadata": {},
   "outputs": [
    {
     "name": "stdout",
     "output_type": "stream",
     "text": [
      "0.062209755516629564\n"
     ]
    }
   ],
   "source": [
    "xi, xf, Npoints = 0., 2*np.pi, 101\n",
    "h = (xf-xi)/float(Npoints)\n",
    "print(h)"
   ]
  },
  {
   "cell_type": "code",
   "execution_count": 7,
   "id": "ceb9500a",
   "metadata": {},
   "outputs": [],
   "source": [
    "x = np.linspace(xi,xf,Npoints)\n",
    "#print(x)"
   ]
  },
  {
   "cell_type": "code",
   "execution_count": 8,
   "id": "277d7688",
   "metadata": {},
   "outputs": [],
   "source": [
    "# Definimos nuestra funcion\n",
    "def Function(x):\n",
    "    return np.sin(x)\n",
    "\n",
    "def EDerivative(x):\n",
    "    return np.cos(x)"
   ]
  },
  {
   "cell_type": "code",
   "execution_count": 9,
   "id": "a3f9892a",
   "metadata": {},
   "outputs": [],
   "source": [
    "y = Function(x)\n",
    "Dy = EDerivative(x)"
   ]
  },
  {
   "cell_type": "code",
   "execution_count": 10,
   "id": "1601bb3f",
   "metadata": {},
   "outputs": [
    {
     "data": {
      "text/plain": [
       "[<matplotlib.lines.Line2D at 0x7f49ad3cccd0>]"
      ]
     },
     "execution_count": 10,
     "metadata": {},
     "output_type": "execute_result"
    },
    {
     "data": {
      "image/png": "[encoded data removed]",
      "text/plain": [
       "<Figure size 432x288 with 1 Axes>"
      ]
     },
     "metadata": {
      "needs_background": "light"
     },
     "output_type": "display_data"
    }
   ],
   "source": [
    "plt.plot(x,y)"
   ]
  },
  {
   "cell_type": "code",
   "execution_count": 11,
   "id": "e1654507",
   "metadata": {},
   "outputs": [
    {
     "data": {
      "text/plain": [
       "[<matplotlib.lines.Line2D at 0x7f49ad365fa0>]"
      ]
     },
     "execution_count": 11,
     "metadata": {},
     "output_type": "execute_result"
    },
    {
     "data": {
      "image/png": "[encoded data removed]",
      "text/plain": [
       "<Figure size 432x288 with 1 Axes>"
      ]
     },
     "metadata": {
      "needs_background": "light"
     },
     "output_type": "display_data"
    }
   ],
   "source": [
    "plt.plot(x,Dy)"
   ]
  },
  {
   "cell_type": "code",
   "execution_count": 12,
   "id": "da3e9e64",
   "metadata": {},
   "outputs": [],
   "source": [
    "def RightDerivative(f,x,h):\n",
    "    \n",
    "    d = 0.\n",
    "    \n",
    "    if h!= 0.:\n",
    "        d = (f(x+h)-f(x))/h\n",
    "        \n",
    "    return d"
   ]
  },
  {
   "cell_type": "code",
   "execution_count": 13,
   "id": "715990fe",
   "metadata": {},
   "outputs": [],
   "source": [
    "def LeftDerivative(f,x,h):\n",
    "    \n",
    "    d = 0.\n",
    "    \n",
    "    if h!=0:\n",
    "        d = (f(x)-f(x-h))/h\n",
    "      \n",
    "    return d"
   ]
  },
  {
   "cell_type": "code",
   "execution_count": 14,
   "id": "081e778d",
   "metadata": {},
   "outputs": [],
   "source": [
    "def CentralDerivative(f,x,h):\n",
    "    \n",
    "    d = 0.\n",
    "    \n",
    "    if h!=0:\n",
    "        d = (f(x+h)-f(x-h))/(2*h)\n",
    "      \n",
    "    return d"
   ]
  },
  {
   "cell_type": "code",
   "execution_count": 15,
   "id": "f400af68",
   "metadata": {},
   "outputs": [],
   "source": [
    "Dry = RightDerivative(Function,x,h)\n",
    "Dly = LeftDerivative(Function,x,h)\n",
    "Dcy = CentralDerivative(Function,x,h)"
   ]
  },
  {
   "cell_type": "code",
   "execution_count": 16,
   "id": "653f4aa6",
   "metadata": {},
   "outputs": [
    {
     "data": {
      "text/plain": [
       "[<matplotlib.lines.Line2D at 0x7f49ad2dcf70>]"
      ]
     },
     "execution_count": 16,
     "metadata": {},
     "output_type": "execute_result"
    },
    {
     "data": {
      "image/png": "[encoded data removed]",
      "text/plain": [
       "<Figure size 432x288 with 1 Axes>"
      ]
     },
     "metadata": {
      "needs_background": "light"
     },
     "output_type": "display_data"
    }
   ],
   "source": [
    "plt.plot(x,Dy,c='k',label='Derivada Exacta')\n",
    "plt.plot(x,Dry,c='r',label='Derivada Progresiva')\n",
    "plt.plot(x,Dly,c='g',label='Derivada Regresiva')\n",
    "plt.plot(x,Dcy,c='b',label='Derivada Central')"
   ]
  },
  {
   "cell_type": "code",
   "execution_count": 17,
   "id": "2b1d44cc",
   "metadata": {},
   "outputs": [
    {
     "data": {
      "text/plain": [
       "[<matplotlib.lines.Line2D at 0x7f49ad23ef10>]"
      ]
     },
     "execution_count": 17,
     "metadata": {},
     "output_type": "execute_result"
    },
    {
     "data": {
      "image/png": "[encoded data removed]",
      "text/plain": [
       "<Figure size 432x288 with 1 Axes>"
      ]
     },
     "metadata": {
      "needs_background": "light"
     },
     "output_type": "display_data"
    }
   ],
   "source": [
    "plt.plot(x,np.abs(Dry-Dy),c='r',label='Diferencia Derecha')\n",
    "plt.plot(x,np.abs(Dly-Dy),c='g',label='Diferencia Izquierda')\n",
    "plt.plot(x,np.abs(Dcy-Dy),c='b',label='Diferencia Central')"
   ]
  },
  {
   "cell_type": "code",
   "execution_count": 18,
   "id": "3c234e2b",
   "metadata": {},
   "outputs": [
    {
     "name": "stdout",
     "output_type": "stream",
     "text": [
      "0.9921147013144779\n",
      "0.12566370614359174\n"
     ]
    }
   ],
   "source": [
    "print(Dy[2])\n",
    "print(x[2])"
   ]
  },
  {
   "cell_type": "code",
   "execution_count": 19,
   "id": "11c41d10",
   "metadata": {},
   "outputs": [
    {
     "name": "stdout",
     "output_type": "stream",
     "text": [
      "0.9914749022711539\n"
     ]
    }
   ],
   "source": [
    "print(Dcy[2])"
   ]
  },
  {
   "cell_type": "code",
   "execution_count": 20,
   "id": "b75d8009",
   "metadata": {},
   "outputs": [
    {
     "name": "stdout",
     "output_type": "stream",
     "text": [
      "0.0038700536814388225\n"
     ]
    }
   ],
   "source": [
    "print(h**2)"
   ]
  },
  {
   "cell_type": "markdown",
   "id": "02e2b7ec",
   "metadata": {},
   "source": [
    "$$ Df[0.31] = 0.94 \\pm 0.02 $$"
   ]
  },
  {
   "cell_type": "code",
   "execution_count": 21,
   "id": "2cd5f92d",
   "metadata": {},
   "outputs": [],
   "source": [
    "# Error global asociado al calculo central de la derivada en este intervalo.\n",
    "Sum_num = 0.\n",
    "Sum_den = 0.\n",
    "\n",
    "Array = np.abs(Dcy-Dy)\n",
    "\n",
    "for i in range(len(Array)):\n",
    "    \n",
    "    Sum_num += Array[i]**2\n",
    "    Sum_den += Dy[i]**2\n",
    "    \n",
    "ErrorGlobal = np.sqrt( Sum_num/Sum_den )"
   ]
  },
  {
   "cell_type": "code",
   "execution_count": 24,
   "id": "8d411725",
   "metadata": {},
   "outputs": [],
   "source": [
    "#print(Array)"
   ]
  },
  {
   "cell_type": "code",
   "execution_count": 23,
   "id": "fa780576",
   "metadata": {},
   "outputs": [
    {
     "name": "stdout",
     "output_type": "stream",
     "text": [
      "0.0006448841474434577 0.0038700536814388225\n"
     ]
    }
   ],
   "source": [
    "print(ErrorGlobal, h**2)"
   ]
  },
  {
   "cell_type": "code",
   "execution_count": null,
   "id": "bd9a04d6",
   "metadata": {},
   "outputs": [],
   "source": []
  }
 ],
 "metadata": {
  "kernelspec": {
   "display_name": "Python 3",
   "language": "python",
   "name": "python3"
  },
  "language_info": {
   "codemirror_mode": {
    "name": "ipython",
    "version": 3
   },
   "file_extension": ".py",
   "mimetype": "text/x-python",
   "name": "python",
   "nbconvert_exporter": "python",
   "pygments_lexer": "ipython3",
   "version": "3.8.2"
  }
 },
 "nbformat": 4,
 "nbformat_minor": 5
}
