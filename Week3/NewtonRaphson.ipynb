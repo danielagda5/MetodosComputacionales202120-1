{
 "cells": [
  {
   "cell_type": "code",
   "execution_count": 1,
   "metadata": {},
   "outputs": [],
   "source": [
    "import numpy as np\n",
    "import matplotlib.pyplot as plt"
   ]
  },
  {
   "cell_type": "code",
   "execution_count": 2,
   "metadata": {},
   "outputs": [],
   "source": [
    "def poly(x):\n",
    "    #return (3*x**2 - 1)/2.\n",
    "    return x**x - 100"
   ]
  },
  {
   "cell_type": "code",
   "execution_count": 15,
   "metadata": {},
   "outputs": [],
   "source": [
    "xi, xf, Npoints = 0.1,4,10\n",
    "h = (xf-xi)/float(Npoints)\n",
    "\n",
    "x = np.linspace(xi,xf,Npoints)\n",
    "y = poly(x)\n",
    "#print(x)"
   ]
  },
  {
   "cell_type": "code",
   "execution_count": 16,
   "metadata": {},
   "outputs": [
    {
     "data": {
      "text/plain": [
       "[<matplotlib.lines.Line2D at 0x7f476996bf10>]"
      ]
     },
     "execution_count": 16,
     "metadata": {},
     "output_type": "execute_result"
    },
    {
     "data": {
      "image/png": "[encoded data removed]",
      "text/plain": [
       "<Figure size 432x288 with 1 Axes>"
      ]
     },
     "metadata": {
      "needs_background": "light"
     },
     "output_type": "display_data"
    }
   ],
   "source": [
    "plt.plot(x,y)\n",
    "#plt.plot(x,np.zeros(len(x)),'--')"
   ]
  },
  {
   "cell_type": "code",
   "execution_count": 17,
   "metadata": {},
   "outputs": [],
   "source": [
    "def Derivada(f,x,h):\n",
    "    \n",
    "    d = 0.\n",
    "    \n",
    "    if h!=0:\n",
    "        d = (f(x+h)-f(x-h))/(2*h)\n",
    "        \n",
    "    return d"
   ]
  },
  {
   "cell_type": "code",
   "execution_count": 18,
   "metadata": {},
   "outputs": [],
   "source": [
    "# Definamos el metodo\n",
    "\n",
    "def NewtonMethod(f,df,xn,error,it,precision=0.001,iterations=1000):\n",
    "    \n",
    "    h = 1.0e-4\n",
    "    \n",
    "    while error > precision and it < iterations:\n",
    "        \n",
    "        try:\n",
    "            \n",
    "            xn1 = xn - f(xn)/df(f,xn,h)\n",
    "            \n",
    "            error = np.abs( (xn1- xn)/xn1 )\n",
    "            #print(error)\n",
    "            \n",
    "        except ZeroDivisionError:\n",
    "            print('Hay una division por cero')\n",
    "            \n",
    "        xn = xn1\n",
    "        \n",
    "        it += 1\n",
    "    \n",
    "    return xn1"
   ]
  },
  {
   "cell_type": "code",
   "execution_count": 19,
   "metadata": {},
   "outputs": [],
   "source": [
    "root = NewtonMethod(poly, Derivada, 2, 10, it = 1)"
   ]
  },
  {
   "cell_type": "code",
   "execution_count": 22,
   "metadata": {},
   "outputs": [
    {
     "name": "stdout",
     "output_type": "stream",
     "text": [
      "3.597285453639817\n"
     ]
    }
   ],
   "source": [
    "print(root)"
   ]
  },
  {
   "cell_type": "code",
   "execution_count": 29,
   "metadata": {},
   "outputs": [
    {
     "name": "stdout",
     "output_type": "stream",
     "text": [
      "[1.         1.55555556 2.11111111 2.66666667 3.22222222 3.77777778\n",
      " 4.33333333 4.88888889 5.44444444 6.        ]\n",
      "3.5972850371602774\n",
      "3.597285184930133\n",
      "3.5972850266215963\n",
      "3.5972870861451915\n",
      "3.5972969922656852\n",
      "3.597287321556654\n",
      "3.5972855038249336\n",
      "3.597285025035002\n",
      "3.5972856082928657\n",
      "3.5972850266517598\n"
     ]
    }
   ],
   "source": [
    "Xtest = np.linspace(1,6,10)\n",
    "print(Xtest)\n",
    "\n",
    "for i in Xtest:\n",
    "    print(NewtonMethod(poly, Derivada, i, 10, it = 1))"
   ]
  },
  {
   "cell_type": "code",
   "execution_count": null,
   "metadata": {},
   "outputs": [],
   "source": []
  },
  {
   "cell_type": "code",
   "execution_count": null,
   "metadata": {},
   "outputs": [],
   "source": []
  }
 ],
 "metadata": {
  "kernelspec": {
   "display_name": "Python 3",
   "language": "python",
   "name": "python3"
  },
  "language_info": {
   "codemirror_mode": {
    "name": "ipython",
    "version": 3
   },
   "file_extension": ".py",
   "mimetype": "text/x-python",
   "name": "python",
   "nbconvert_exporter": "python",
   "pygments_lexer": "ipython3",
   "version": "3.7.6"
  }
 },
 "nbformat": 4,
 "nbformat_minor": 4
}
