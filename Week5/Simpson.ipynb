{
 "cells": [
  {
   "cell_type": "code",
   "execution_count": 16,
   "id": "ca6007f8",
   "metadata": {},
   "outputs": [],
   "source": [
    "import numpy as np\n",
    "import matplotlib.pyplot as plt\n",
    "from matplotlib import rc"
   ]
  },
  {
   "cell_type": "code",
   "execution_count": 17,
   "id": "48e4ae2c",
   "metadata": {},
   "outputs": [],
   "source": [
    "#f = lambda x: np.sin(x)\n",
    "f = lambda x: np.sqrt(1+np.exp(-x**2))"
   ]
  },
  {
   "cell_type": "code",
   "execution_count": 22,
   "id": "5c7a963e",
   "metadata": {},
   "outputs": [],
   "source": [
    "#xi, xf, Npoints = 0., 0.5*np.pi, 12 # Debe ser par, para la regla de simpson\n",
    "xi, xf, Npoints = -1., 1., 36 # Debe ser par, para la regla de simpson\n",
    "\n",
    "X = np.linspace(xi,xf,Npoints+1)\n",
    "Y = f(X)"
   ]
  },
  {
   "cell_type": "code",
   "execution_count": 23,
   "id": "2a8d6af5",
   "metadata": {},
   "outputs": [
    {
     "data": {
      "text/plain": [
       "<matplotlib.collections.PathCollection at 0x7f452e295c10>"
      ]
     },
     "execution_count": 23,
     "metadata": {},
     "output_type": "execute_result"
    },
    {
     "data": {
      "image/png": "[encoded data removed]",
      "text/plain": [
       "<Figure size 432x288 with 1 Axes>"
      ]
     },
     "metadata": {
      "needs_background": "light"
     },
     "output_type": "display_data"
    }
   ],
   "source": [
    "plt.plot(X,Y,label='f(x)')\n",
    "plt.scatter(X,Y,color='r')"
   ]
  },
  {
   "cell_type": "code",
   "execution_count": 24,
   "id": "e5b38f43",
   "metadata": {},
   "outputs": [],
   "source": [
    "def SimpsonMethod(f,X):\n",
    "    \n",
    "    h = (X[-1]-X[0])/(len(X)-1)\n",
    "    \n",
    "    integral = 0\n",
    "    \n",
    "    integral += f(X[0]) + f(X[-1])\n",
    "    \n",
    "    for i in range( len(X[1:-1]) ):\n",
    "        \n",
    "        if i%2 == 0:\n",
    "            integral += 4*f(X[i+1])\n",
    "        else:\n",
    "            integral += 2*f(X[i+1])\n",
    "            \n",
    "    integral *= h/3\n",
    "    \n",
    "    return integral, h"
   ]
  },
  {
   "cell_type": "code",
   "execution_count": 25,
   "id": "61bdd30b",
   "metadata": {},
   "outputs": [
    {
     "name": "stdout",
     "output_type": "stream",
     "text": [
      "2.638857203270583 0.05555555555555555\n"
     ]
    }
   ],
   "source": [
    "Integral, h = SimpsonMethod(f,X)\n",
    "print(Integral, h)"
   ]
  },
  {
   "cell_type": "code",
   "execution_count": 8,
   "id": "aece2e7d",
   "metadata": {},
   "outputs": [],
   "source": [
    "def D4(f,x,h):\n",
    "    \n",
    "    d = 0.\n",
    "    \n",
    "    if(h!=0):\n",
    "        d = ( f(x+2*h) - 4*f(x+h) + 6*f(x) - 4*f(x-h) + f(x-2*h) )/h**4\n",
    "        \n",
    "    return d"
   ]
  },
  {
   "cell_type": "code",
   "execution_count": 11,
   "id": "a112eeac",
   "metadata": {},
   "outputs": [],
   "source": [
    "d4 = D4(f,X,0.001)"
   ]
  },
  {
   "cell_type": "code",
   "execution_count": 12,
   "id": "570f8ab8",
   "metadata": {},
   "outputs": [
    {
     "data": {
      "text/plain": [
       "[<matplotlib.lines.Line2D at 0x7f452e3584f0>]"
      ]
     },
     "execution_count": 12,
     "metadata": {},
     "output_type": "execute_result"
    },
    {
     "data": {
      "image/png": "[encoded data removed]",
      "text/plain": [
       "<Figure size 432x288 with 1 Axes>"
      ]
     },
     "metadata": {
      "needs_background": "light"
     },
     "output_type": "display_data"
    }
   ],
   "source": [
    "plt.plot(X,d4)"
   ]
  },
  {
   "cell_type": "code",
   "execution_count": 13,
   "id": "44b9d32d",
   "metadata": {},
   "outputs": [],
   "source": [
    "def ErrorSimpsonMethod(X,d4,h):\n",
    "    \n",
    "    max_ = np.max(np.abs(d4))\n",
    "    \n",
    "    error = ( (X[-1]-X[0])*h**4 *max_ ) / 180.\n",
    "    \n",
    "    return error"
   ]
  },
  {
   "cell_type": "code",
   "execution_count": 14,
   "id": "481e14dc",
   "metadata": {},
   "outputs": [
    {
     "name": "stdout",
     "output_type": "stream",
     "text": [
      "2.5620776526553954e-06\n"
     ]
    }
   ],
   "source": [
    "print(ErrorSimpsonMethod(X,d4,h))"
   ]
  },
  {
   "cell_type": "markdown",
   "id": "e8389df1",
   "metadata": {},
   "source": [
    "$$ I = 1.000001 \\pm 0.000003 $$\n",
    "\n",
    "$$ I = 1.000001(3) $$ \n",
    "\n",
    "Usando el método de Simpson"
   ]
  },
  {
   "cell_type": "code",
   "execution_count": null,
   "id": "70d22df6",
   "metadata": {},
   "outputs": [],
   "source": []
  }
 ],
 "metadata": {
  "kernelspec": {
   "display_name": "Python 3",
   "language": "python",
   "name": "python3"
  },
  "language_info": {
   "codemirror_mode": {
    "name": "ipython",
    "version": 3
   },
   "file_extension": ".py",
   "mimetype": "text/x-python",
   "name": "python",
   "nbconvert_exporter": "python",
   "pygments_lexer": "ipython3",
   "version": "3.8.2"
  }
 },
 "nbformat": 4,
 "nbformat_minor": 5
}
