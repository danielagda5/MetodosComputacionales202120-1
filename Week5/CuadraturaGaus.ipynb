{
 "cells": [
  {
   "cell_type": "code",
   "execution_count": 1,
   "metadata": {},
   "outputs": [],
   "source": [
    "import numpy as np\n",
    "import matplotlib.pyplot as plt\n",
    "from matplotlib import rc"
   ]
  },
  {
   "cell_type": "code",
   "execution_count": 31,
   "metadata": {},
   "outputs": [],
   "source": [
    "deg = 3\n",
    "x, w = np.polynomial.legendre.leggauss(deg)"
   ]
  },
  {
   "cell_type": "code",
   "execution_count": 32,
   "metadata": {},
   "outputs": [
    {
     "name": "stdout",
     "output_type": "stream",
     "text": [
      "-0.7745966692414834 0.5555555555555557\n",
      "0.0 0.8888888888888888\n",
      "0.7745966692414834 0.5555555555555557\n"
     ]
    }
   ],
   "source": [
    "for i in range(deg):\n",
    "    print(x[i],w[i])"
   ]
  },
  {
   "cell_type": "code",
   "execution_count": 24,
   "metadata": {},
   "outputs": [],
   "source": [
    "a = 0\n",
    "b = 0.5*np.pi"
   ]
  },
  {
   "cell_type": "code",
   "execution_count": 25,
   "metadata": {},
   "outputs": [],
   "source": [
    "f = lambda x: np.sin(x)"
   ]
  },
  {
   "cell_type": "code",
   "execution_count": 26,
   "metadata": {},
   "outputs": [],
   "source": [
    "t = 0.5*( (b-a)*x + a + b )"
   ]
  },
  {
   "cell_type": "code",
   "execution_count": 27,
   "metadata": {},
   "outputs": [],
   "source": [
    "Integral = 0.5*(b-a)*np.sum(w*f(t))"
   ]
  },
  {
   "cell_type": "code",
   "execution_count": 28,
   "metadata": {},
   "outputs": [
    {
     "name": "stdout",
     "output_type": "stream",
     "text": [
      "0.9999999999999991\n"
     ]
    }
   ],
   "source": [
    "print(Integral)"
   ]
  },
  {
   "cell_type": "code",
   "execution_count": 21,
   "metadata": {},
   "outputs": [],
   "source": [
    "import sympy as sym"
   ]
  },
  {
   "cell_type": "code",
   "execution_count": 34,
   "metadata": {},
   "outputs": [
    {
     "name": "stdout",
     "output_type": "stream",
     "text": [
      "exp(-0.5*x)*sin(3*x)\n"
     ]
    }
   ],
   "source": [
    "x = sym.Symbol('x',Real=True)\n",
    "F = sym.sin(3*x)*sym.exp(-0.5*x)\n",
    "print(F)"
   ]
  },
  {
   "cell_type": "code",
   "execution_count": 35,
   "metadata": {},
   "outputs": [],
   "source": [
    "f = sym.lambdify( [x], F, 'numpy' )"
   ]
  },
  {
   "cell_type": "code",
   "execution_count": 37,
   "metadata": {},
   "outputs": [],
   "source": [
    "x = np.linspace(0,10,100)\n",
    "y = f(x)"
   ]
  },
  {
   "cell_type": "code",
   "execution_count": 38,
   "metadata": {},
   "outputs": [
    {
     "data": {
      "text/plain": [
       "[<matplotlib.lines.Line2D at 0x7f1f0442c290>]"
      ]
     },
     "execution_count": 38,
     "metadata": {},
     "output_type": "execute_result"
    },
    {
     "data": {
      "image/png": "[encoded data removed]",
      "text/plain": [
       "<Figure size 432x288 with 1 Axes>"
      ]
     },
     "metadata": {
      "needs_background": "light"
     },
     "output_type": "display_data"
    }
   ],
   "source": [
    "plt.plot(x,y)"
   ]
  },
  {
   "cell_type": "code",
   "execution_count": 39,
   "metadata": {},
   "outputs": [
    {
     "name": "stdout",
     "output_type": "stream",
     "text": [
      "xf*(-3*hf + xf)*(-2*hf + xf)*(-hf + xf)\n"
     ]
    }
   ],
   "source": [
    "xf = sym.Symbol('xf',Real=True)\n",
    "hf = sym.Symbol('hf',Real=True)\n",
    "F2 = (xf)*(xf-hf)*(xf-2*hf)*(xf-3*hf)\n",
    "print(F2)"
   ]
  },
  {
   "cell_type": "code",
   "execution_count": 40,
   "metadata": {},
   "outputs": [],
   "source": [
    "I = sym.integrate(F2, (xf, 0, 3*hf))"
   ]
  },
  {
   "cell_type": "code",
   "execution_count": 41,
   "metadata": {},
   "outputs": [
    {
     "name": "stdout",
     "output_type": "stream",
     "text": [
      "-3*hf**5/80\n"
     ]
    }
   ],
   "source": [
    "print(I/24)"
   ]
  },
  {
   "cell_type": "code",
   "execution_count": 42,
   "metadata": {},
   "outputs": [],
   "source": [
    "# Generar los polinomios de Legendre\n",
    "\n",
    "def CreatePoly(n):\n",
    "    \n",
    "    x = sym.Symbol('x',Real=True)\n",
    "    y = sym.Symbol('y',Real=True)\n",
    "    \n",
    "    y = (x**2-1)**n\n",
    "    \n",
    "    poly = sym.diff( y,x,n  )/( 2**n * np.math.factorial(n))\n",
    "    \n",
    "    return poly"
   ]
  },
  {
   "cell_type": "code",
   "execution_count": 44,
   "metadata": {},
   "outputs": [
    {
     "name": "stdout",
     "output_type": "stream",
     "text": [
      "x*(5*x**2 - 3)/2\n"
     ]
    }
   ],
   "source": [
    "print(CreatePoly(3))"
   ]
  },
  {
   "cell_type": "code",
   "execution_count": 45,
   "metadata": {},
   "outputs": [],
   "source": [
    "Legendre = []\n",
    "\n",
    "n = 10\n",
    "\n",
    "for i in range(n):\n",
    "    \n",
    "    Legendre.append(CreatePoly(i))"
   ]
  },
  {
   "cell_type": "code",
   "execution_count": 47,
   "metadata": {},
   "outputs": [
    {
     "name": "stdout",
     "output_type": "stream",
     "text": [
      "1\n",
      "0\n",
      "x\n",
      "1\n",
      "(3*x**2 - 1)/2\n",
      "3*x\n",
      "x*(5*x**2 - 3)/2\n",
      "15*x**2/2 - 3/2\n",
      "(8*x**4 + 24*x**2*(x**2 - 1) + 3*(x**2 - 1)**2)/8\n",
      "10*x**3 + 15*x*(x**2 - 1)/2\n",
      "x*(8*x**4 + 40*x**2*(x**2 - 1) + 15*(x**2 - 1)**2)/8\n",
      "x**4 + 5*x**2*(x**2 - 1) + x*(112*x**3 + 140*x*(x**2 - 1))/8 + 15*(x**2 - 1)**2/8\n",
      "(16*x**6 + 120*x**4*(x**2 - 1) + 90*x**2*(x**2 - 1)**2 + 5*(x**2 - 1)**3)/16\n",
      "21*x**5 + 105*x**3*(x**2 - 1)/2 + 105*x*(x**2 - 1)**2/8\n",
      "x*(16*x**6 + 168*x**4*(x**2 - 1) + 210*x**2*(x**2 - 1)**2 + 35*(x**2 - 1)**3)/16\n",
      "x**6 + 21*x**4*(x**2 - 1)/2 + 105*x**2*(x**2 - 1)**2/8 + x*(432*x**5 + 1512*x**3*(x**2 - 1) + 630*x*(x**2 - 1)**2)/16 + 35*(x**2 - 1)**3/16\n",
      "(128*x**8 + 1792*x**6*(x**2 - 1) + 3360*x**4*(x**2 - 1)**2 + 1120*x**2*(x**2 - 1)**3 + 35*(x**2 - 1)**4)/128\n",
      "36*x**7 + 189*x**5*(x**2 - 1) + 315*x**3*(x**2 - 1)**2/2 + 315*x*(x**2 - 1)**3/16\n",
      "x*(128*x**8 + 2304*x**6*(x**2 - 1) + 6048*x**4*(x**2 - 1)**2 + 3360*x**2*(x**2 - 1)**3 + 315*(x**2 - 1)**4)/128\n",
      "x**8 + 18*x**6*(x**2 - 1) + 189*x**4*(x**2 - 1)**2/4 + 105*x**2*(x**2 - 1)**3/4 + x*(5632*x**7 + 38016*x**5*(x**2 - 1) + 44352*x**3*(x**2 - 1)**2 + 9240*x*(x**2 - 1)**3)/128 + 315*(x**2 - 1)**4/128\n"
     ]
    }
   ],
   "source": [
    "for i in Legendre:\n",
    "    print(i)\n",
    "    x = sym.Symbol('x',Real=True)\n",
    "    print(sym.diff(i,x,1))"
   ]
  },
  {
   "cell_type": "code",
   "execution_count": null,
   "metadata": {},
   "outputs": [],
   "source": []
  }
 ],
 "metadata": {
  "kernelspec": {
   "display_name": "Python 3",
   "language": "python",
   "name": "python3"
  },
  "language_info": {
   "codemirror_mode": {
    "name": "ipython",
    "version": 3
   },
   "file_extension": ".py",
   "mimetype": "text/x-python",
   "name": "python",
   "nbconvert_exporter": "python",
   "pygments_lexer": "ipython3",
   "version": "3.7.6"
  }
 },
 "nbformat": 4,
 "nbformat_minor": 4
}
