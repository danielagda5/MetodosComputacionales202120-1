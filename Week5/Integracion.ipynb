{
 "cells": [
  {
   "cell_type": "code",
   "execution_count": 1,
   "id": "98cf54d0",
   "metadata": {},
   "outputs": [],
   "source": [
    "import numpy as np\n",
    "import matplotlib.pyplot as plt\n",
    "from matplotlib import rc"
   ]
  },
  {
   "cell_type": "code",
   "execution_count": 3,
   "id": "41ee7be2",
   "metadata": {},
   "outputs": [],
   "source": [
    "f = lambda x: np.sin(x)"
   ]
  },
  {
   "cell_type": "code",
   "execution_count": 8,
   "id": "15648fd8",
   "metadata": {},
   "outputs": [],
   "source": [
    "xi, xf, Npoints = 0., 0.5*np.pi, 12\n",
    "X = np.linspace(xi,xf,Npoints+1)\n",
    "Y = f(X)"
   ]
  },
  {
   "cell_type": "code",
   "execution_count": 10,
   "id": "acfec4d1",
   "metadata": {},
   "outputs": [
    {
     "data": {
      "text/plain": [
       "<matplotlib.collections.PathCollection at 0x7f22492d3ca0>"
      ]
     },
     "execution_count": 10,
     "metadata": {},
     "output_type": "execute_result"
    },
    {
     "data": {
      "image/png": "[encoded data removed]",
      "text/plain": [
       "<Figure size 432x288 with 1 Axes>"
      ]
     },
     "metadata": {
      "needs_background": "light"
     },
     "output_type": "display_data"
    }
   ],
   "source": [
    "plt.plot(X,Y,label='f(x)')\n",
    "plt.scatter(X,Y,color='r')"
   ]
  },
  {
   "cell_type": "code",
   "execution_count": 14,
   "id": "9b3856e8",
   "metadata": {},
   "outputs": [],
   "source": [
    "def TrapezeMethod(f,X):\n",
    "    \n",
    "    h = (X[-1]-X[0])/(len(X)-1)\n",
    "    \n",
    "    integral = 0.\n",
    "    \n",
    "    integral += 0.5*(f(X[0])+f(X[-1]))\n",
    "    \n",
    "    \n",
    "    integral += np.sum(  f(X[1:-1])  )\n",
    "    \n",
    "    integral *= h\n",
    "    \n",
    "    return integral, h"
   ]
  },
  {
   "cell_type": "code",
   "execution_count": 15,
   "id": "d0c25dc8",
   "metadata": {},
   "outputs": [],
   "source": [
    "Integral, h = TrapezeMethod(f,X)"
   ]
  },
  {
   "cell_type": "code",
   "execution_count": 17,
   "id": "e16b7600",
   "metadata": {},
   "outputs": [
    {
     "name": "stdout",
     "output_type": "stream",
     "text": [
      "0.9985716979019743 0.017134729863002355\n"
     ]
    }
   ],
   "source": [
    "print(Integral, h**2)"
   ]
  },
  {
   "cell_type": "code",
   "execution_count": 18,
   "id": "5031b895",
   "metadata": {},
   "outputs": [],
   "source": [
    "def df(f,x,h):\n",
    "    \n",
    "    d = 0\n",
    "    \n",
    "    d = (f(x+h) - 2*f(x) + f(x-h))/h**2\n",
    "    \n",
    "    return d"
   ]
  },
  {
   "cell_type": "code",
   "execution_count": 19,
   "id": "0b8bcf35",
   "metadata": {},
   "outputs": [],
   "source": [
    "dy = df(f,X,0.0001)"
   ]
  },
  {
   "cell_type": "code",
   "execution_count": 20,
   "id": "99d24523",
   "metadata": {},
   "outputs": [
    {
     "data": {
      "text/plain": [
       "[<matplotlib.lines.Line2D at 0x7f224923a940>]"
      ]
     },
     "execution_count": 20,
     "metadata": {},
     "output_type": "execute_result"
    },
    {
     "data": {
      "image/png": "[encoded data removed]",
      "text/plain": [
       "<Figure size 432x288 with 1 Axes>"
      ]
     },
     "metadata": {
      "needs_background": "light"
     },
     "output_type": "display_data"
    }
   ],
   "source": [
    "plt.plot(X,dy)"
   ]
  },
  {
   "cell_type": "code",
   "execution_count": 21,
   "id": "53d1ed54",
   "metadata": {},
   "outputs": [
    {
     "name": "stdout",
     "output_type": "stream",
     "text": [
      "0.999999993922529\n"
     ]
    }
   ],
   "source": [
    "max_ = np.max(np.abs(dy))\n",
    "print(max_)"
   ]
  },
  {
   "cell_type": "code",
   "execution_count": 22,
   "id": "072171bb",
   "metadata": {},
   "outputs": [],
   "source": [
    "def ErrorTraMethod(X,dy):\n",
    "    \n",
    "    max_ = np.max(np.abs(dy))\n",
    "    \n",
    "    error = (X[-1] - X[0])**3 * max_ / (12.*(len(X)-1)**2)\n",
    "    \n",
    "    return error"
   ]
  },
  {
   "cell_type": "code",
   "execution_count": 23,
   "id": "27542d03",
   "metadata": {},
   "outputs": [
    {
     "name": "stdout",
     "output_type": "stream",
     "text": [
      "0.002242930880487563\n"
     ]
    }
   ],
   "source": [
    "Error = ErrorTraMethod(X,dy)\n",
    "print(Error)"
   ]
  },
  {
   "cell_type": "markdown",
   "id": "8811bf02",
   "metadata": {},
   "source": [
    "$$ I = 0.998 \\pm 0.002 $$ \n",
    "\n",
    "Calculada con método de trapecio\n",
    "\n",
    "HEP\n",
    "\n",
    "$$ I = 0.998(2) $$ "
   ]
  },
  {
   "cell_type": "code",
   "execution_count": null,
   "id": "f2012da4",
   "metadata": {},
   "outputs": [],
   "source": []
  }
 ],
 "metadata": {
  "kernelspec": {
   "display_name": "Python 3",
   "language": "python",
   "name": "python3"
  },
  "language_info": {
   "codemirror_mode": {
    "name": "ipython",
    "version": 3
   },
   "file_extension": ".py",
   "mimetype": "text/x-python",
   "name": "python",
   "nbconvert_exporter": "python",
   "pygments_lexer": "ipython3",
   "version": "3.8.2"
  }
 },
 "nbformat": 4,
 "nbformat_minor": 5
}
