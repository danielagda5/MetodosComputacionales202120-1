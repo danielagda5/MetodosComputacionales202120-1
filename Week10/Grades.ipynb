{
 "cells": [
  {
   "cell_type": "code",
   "execution_count": 1,
   "id": "249beb69",
   "metadata": {},
   "outputs": [],
   "source": [
    "import numpy as np\n",
    "import matplotlib.pyplot as plt\n",
    "import pandas as pd\n",
    "import glob"
   ]
  },
  {
   "cell_type": "code",
   "execution_count": 2,
   "id": "75c3ab35",
   "metadata": {},
   "outputs": [],
   "source": [
    "DFrameArray = []\n",
    "FileNames = []\n",
    "\n",
    "def OneDataFrame():\n",
    "    \n",
    "    for f in glob.glob('Data/*xlsx'):\n",
    "        df = pd.read_excel(f,sheet_name='Calificaciones')\n",
    "        DFrameArray.append(df)\n",
    "        FileNames.append(f)\n",
    "        \n",
    "    dft = pd.concat(DFrameArray, ignore_index = 'True')\n",
    "    \n",
    "    return dft"
   ]
  },
  {
   "cell_type": "code",
   "execution_count": 3,
   "id": "60a9dd6f",
   "metadata": {},
   "outputs": [],
   "source": [
    "DFrameArray.append(OneDataFrame())"
   ]
  },
  {
   "cell_type": "code",
   "execution_count": 10,
   "id": "87ed5edd",
   "metadata": {},
   "outputs": [
    {
     "data": {
      "text/html": [
       "<div>\n",
       "<style scoped>\n",
       "    .dataframe tbody tr th:only-of-type {\n",
       "        vertical-align: middle;\n",
       "    }\n",
       "\n",
       "    .dataframe tbody tr th {\n",
       "        vertical-align: top;\n",
       "    }\n",
       "\n",
       "    .dataframe thead th {\n",
       "        text-align: right;\n",
       "    }\n",
       "</style>\n",
       "<table border=\"1\" class=\"dataframe\">\n",
       "  <thead>\n",
       "    <tr style=\"text-align: right;\">\n",
       "      <th></th>\n",
       "      <th>ID</th>\n",
       "      <th>LastName</th>\n",
       "      <th>FirstName</th>\n",
       "      <th>FinalGrade</th>\n",
       "    </tr>\n",
       "  </thead>\n",
       "  <tbody>\n",
       "    <tr>\n",
       "      <th>51</th>\n",
       "      <td>202116780</td>\n",
       "      <td>Sanchez Moreno</td>\n",
       "      <td>Juan Pablo</td>\n",
       "      <td>2.62</td>\n",
       "    </tr>\n",
       "    <tr>\n",
       "      <th>52</th>\n",
       "      <td>202121738</td>\n",
       "      <td>Alonso Pinzon</td>\n",
       "      <td>Daniel Fernando</td>\n",
       "      <td>4.25</td>\n",
       "    </tr>\n",
       "    <tr>\n",
       "      <th>53</th>\n",
       "      <td>201914288</td>\n",
       "      <td>Romero Torres</td>\n",
       "      <td>Sergio Tomas</td>\n",
       "      <td>2.00</td>\n",
       "    </tr>\n",
       "    <tr>\n",
       "      <th>54</th>\n",
       "      <td>202011188</td>\n",
       "      <td>Rodriguez Gongora</td>\n",
       "      <td>Laura Sofia</td>\n",
       "      <td>2.75</td>\n",
       "    </tr>\n",
       "    <tr>\n",
       "      <th>55</th>\n",
       "      <td>202011546</td>\n",
       "      <td>Bernal Rojas</td>\n",
       "      <td>Diego Alonso</td>\n",
       "      <td>4.25</td>\n",
       "    </tr>\n",
       "    <tr>\n",
       "      <th>56</th>\n",
       "      <td>202013980</td>\n",
       "      <td>Romero Martinez</td>\n",
       "      <td>Maria Paula</td>\n",
       "      <td>5.00</td>\n",
       "    </tr>\n",
       "    <tr>\n",
       "      <th>57</th>\n",
       "      <td>202020655</td>\n",
       "      <td>Balaguera Molano</td>\n",
       "      <td>Gabriela</td>\n",
       "      <td>2.75</td>\n",
       "    </tr>\n",
       "    <tr>\n",
       "      <th>58</th>\n",
       "      <td>202022716</td>\n",
       "      <td>Roa Rativa</td>\n",
       "      <td>Oscar David</td>\n",
       "      <td>2.25</td>\n",
       "    </tr>\n",
       "    <tr>\n",
       "      <th>59</th>\n",
       "      <td>202110918</td>\n",
       "      <td>Burgos Jimenez</td>\n",
       "      <td>Maria Alejandra</td>\n",
       "      <td>2.00</td>\n",
       "    </tr>\n",
       "    <tr>\n",
       "      <th>60</th>\n",
       "      <td>202111593</td>\n",
       "      <td>Gomez Nieto</td>\n",
       "      <td>Carlos Horacio</td>\n",
       "      <td>3.62</td>\n",
       "    </tr>\n",
       "    <tr>\n",
       "      <th>61</th>\n",
       "      <td>202111909</td>\n",
       "      <td>Lopez Ceron</td>\n",
       "      <td>Manuela</td>\n",
       "      <td>3.75</td>\n",
       "    </tr>\n",
       "    <tr>\n",
       "      <th>62</th>\n",
       "      <td>202112277</td>\n",
       "      <td>Navas Lombana</td>\n",
       "      <td>Julian Andres</td>\n",
       "      <td>3.75</td>\n",
       "    </tr>\n",
       "    <tr>\n",
       "      <th>63</th>\n",
       "      <td>202112630</td>\n",
       "      <td>Puentes Rivas</td>\n",
       "      <td>Edwin Jesus</td>\n",
       "      <td>3.62</td>\n",
       "    </tr>\n",
       "    <tr>\n",
       "      <th>64</th>\n",
       "      <td>202113168</td>\n",
       "      <td>Torralvo Garcia</td>\n",
       "      <td>Juan Esteban</td>\n",
       "      <td>4.37</td>\n",
       "    </tr>\n",
       "    <tr>\n",
       "      <th>65</th>\n",
       "      <td>202113916</td>\n",
       "      <td>Rubiano Castro</td>\n",
       "      <td>Karem Johanna</td>\n",
       "      <td>3.62</td>\n",
       "    </tr>\n",
       "    <tr>\n",
       "      <th>66</th>\n",
       "      <td>202122094</td>\n",
       "      <td>Cardone Ramirez</td>\n",
       "      <td>Mariangela</td>\n",
       "      <td>2.87</td>\n",
       "    </tr>\n",
       "    <tr>\n",
       "      <th>67</th>\n",
       "      <td>202122384</td>\n",
       "      <td>Escalante Perez</td>\n",
       "      <td>Daniel</td>\n",
       "      <td>4.37</td>\n",
       "    </tr>\n",
       "    <tr>\n",
       "      <th>68</th>\n",
       "      <td>202123644</td>\n",
       "      <td>Salcedo Galvez</td>\n",
       "      <td>Martin</td>\n",
       "      <td>2.62</td>\n",
       "    </tr>\n",
       "    <tr>\n",
       "      <th>69</th>\n",
       "      <td>202123714</td>\n",
       "      <td>Serrano Mugica</td>\n",
       "      <td>Felipe</td>\n",
       "      <td>4.25</td>\n",
       "    </tr>\n",
       "    <tr>\n",
       "      <th>70</th>\n",
       "      <td>202123910</td>\n",
       "      <td>Vasquez Toro</td>\n",
       "      <td>Sofia</td>\n",
       "      <td>2.37</td>\n",
       "    </tr>\n",
       "  </tbody>\n",
       "</table>\n",
       "</div>"
      ],
      "text/plain": [
       "           ID           LastName        FirstName  FinalGrade\n",
       "51  202116780     Sanchez Moreno       Juan Pablo        2.62\n",
       "52  202121738      Alonso Pinzon  Daniel Fernando        4.25\n",
       "53  201914288      Romero Torres     Sergio Tomas        2.00\n",
       "54  202011188  Rodriguez Gongora      Laura Sofia        2.75\n",
       "55  202011546       Bernal Rojas     Diego Alonso        4.25\n",
       "56  202013980    Romero Martinez      Maria Paula        5.00\n",
       "57  202020655   Balaguera Molano         Gabriela        2.75\n",
       "58  202022716         Roa Rativa      Oscar David        2.25\n",
       "59  202110918     Burgos Jimenez  Maria Alejandra        2.00\n",
       "60  202111593        Gomez Nieto   Carlos Horacio        3.62\n",
       "61  202111909        Lopez Ceron          Manuela        3.75\n",
       "62  202112277      Navas Lombana    Julian Andres        3.75\n",
       "63  202112630      Puentes Rivas      Edwin Jesus        3.62\n",
       "64  202113168    Torralvo Garcia     Juan Esteban        4.37\n",
       "65  202113916     Rubiano Castro    Karem Johanna        3.62\n",
       "66  202122094    Cardone Ramirez       Mariangela        2.87\n",
       "67  202122384    Escalante Perez           Daniel        4.37\n",
       "68  202123644     Salcedo Galvez           Martin        2.62\n",
       "69  202123714     Serrano Mugica           Felipe        4.25\n",
       "70  202123910       Vasquez Toro            Sofia        2.37"
      ]
     },
     "execution_count": 10,
     "metadata": {},
     "output_type": "execute_result"
    }
   ],
   "source": [
    "DFrameArray[4].tail(20)"
   ]
  },
  {
   "cell_type": "code",
   "execution_count": 11,
   "id": "c737942d",
   "metadata": {},
   "outputs": [],
   "source": [
    "# Agregar una columna\n",
    "DFrameArray[4] = DFrameArray[4].assign(FinalGradeNorm = DFrameArray[4].FinalGrade*100/5.)"
   ]
  },
  {
   "cell_type": "code",
   "execution_count": 14,
   "id": "9d8f9028",
   "metadata": {},
   "outputs": [
    {
     "data": {
      "text/plain": [
       "ID                71\n",
       "LastName          71\n",
       "FirstName         71\n",
       "FinalGrade        71\n",
       "FinalGradeNorm    71\n",
       "dtype: int64"
      ]
     },
     "execution_count": 14,
     "metadata": {},
     "output_type": "execute_result"
    }
   ],
   "source": [
    "#DFrameArray[4].head(30)\n",
    "DFrameArray[4].count()"
   ]
  },
  {
   "cell_type": "code",
   "execution_count": 15,
   "id": "7ab8e145",
   "metadata": {},
   "outputs": [
    {
     "name": "stdout",
     "output_type": "stream",
     "text": [
      "           ID           LastName FirstName  FinalGrade  FinalGradeNorm\n",
      "19  202015128  Gonzalez Corredor  Santiago         1.0            20.0\n"
     ]
    }
   ],
   "source": [
    "# Guardar un indice con una caracteristica\n",
    "iid = DFrameArray[4].LastName.isin( ['Gonzalez Corredor'] )\n",
    "print(DFrameArray[4].loc[iid])"
   ]
  },
  {
   "cell_type": "code",
   "execution_count": 16,
   "id": "6b64ac6c",
   "metadata": {},
   "outputs": [],
   "source": [
    "# DataFrame Ordenado\n",
    "dfid = pd.read_excel('ID.xlsx', sheet_name='Calificaciones')\n",
    "idarray = np.array(dfid.ID)"
   ]
  },
  {
   "cell_type": "code",
   "execution_count": 23,
   "id": "c818b59f",
   "metadata": {},
   "outputs": [
    {
     "data": {
      "text/html": [
       "<div>\n",
       "<style scoped>\n",
       "    .dataframe tbody tr th:only-of-type {\n",
       "        vertical-align: middle;\n",
       "    }\n",
       "\n",
       "    .dataframe tbody tr th {\n",
       "        vertical-align: top;\n",
       "    }\n",
       "\n",
       "    .dataframe thead th {\n",
       "        text-align: right;\n",
       "    }\n",
       "</style>\n",
       "<table border=\"1\" class=\"dataframe\">\n",
       "  <thead>\n",
       "    <tr style=\"text-align: right;\">\n",
       "      <th></th>\n",
       "      <th>ID</th>\n",
       "      <th>LastName</th>\n",
       "      <th>FirstName</th>\n",
       "      <th>FinalGrade</th>\n",
       "    </tr>\n",
       "  </thead>\n",
       "  <tbody>\n",
       "  </tbody>\n",
       "</table>\n",
       "</div>"
      ],
      "text/plain": [
       "Empty DataFrame\n",
       "Columns: [ID, LastName, FirstName, FinalGrade]\n",
       "Index: []"
      ]
     },
     "execution_count": 23,
     "metadata": {},
     "output_type": "execute_result"
    }
   ],
   "source": [
    "DF = pd.DataFrame(columns = ['ID','LastName','FirstName','FinalGrade'])\n",
    "DF"
   ]
  },
  {
   "cell_type": "code",
   "execution_count": 24,
   "id": "c175e612",
   "metadata": {},
   "outputs": [
    {
     "name": "stdout",
     "output_type": "stream",
     "text": [
      "           ID           LastName        FirstName  FinalGrade  FinalGradeNorm\n",
      "0   202121453              Acuña       Juan Diego        3.37            67.4\n",
      "1   202116521      Agudelo Novoa     Oscar Andres        1.75            35.0\n",
      "2   202122174      Cepeda Pulido         Gabriela        3.37            67.4\n",
      "3   202015128  Gonzalez Corredor         Santiago        1.00            20.0\n",
      "4   202121652    Gutierrez Mejia     Maria Camila        2.00            40.0\n",
      "..        ...                ...              ...         ...             ...\n",
      "66  202011188  Rodriguez Gongora      Laura Sofia        2.75            55.0\n",
      "67  201914288      Romero Torres     Sergio Tomas        2.00            40.0\n",
      "68  202113916     Rubiano Castro    Karem Johanna        3.62            72.4\n",
      "69  202113168    Torralvo Garcia     Juan Esteban        4.37            87.4\n",
      "70  202113281    Vanegas Quijano  Eduardo Enrique        4.25            85.0\n",
      "\n",
      "[71 rows x 5 columns]\n"
     ]
    }
   ],
   "source": [
    "# Ordenar la informacion\n",
    "\n",
    "for i in range(len(idarray)):\n",
    "    DF = DF.append( DFrameArray[4].loc[  DFrameArray[4].isin( [idarray[i]] ).any(axis=1)  ], ignore_index=True )\n",
    "    \n",
    "print(DF)"
   ]
  },
  {
   "cell_type": "code",
   "execution_count": 26,
   "id": "47bae919",
   "metadata": {},
   "outputs": [],
   "source": [
    "output = pd.ExcelWriter('SortedGrades.xlsx')\n",
    "DF.to_excel(output,'Calificaciones')\n",
    "output.save()"
   ]
  },
  {
   "cell_type": "code",
   "execution_count": null,
   "id": "bee93297",
   "metadata": {},
   "outputs": [],
   "source": []
  }
 ],
 "metadata": {
  "kernelspec": {
   "display_name": "Python 3",
   "language": "python",
   "name": "python3"
  },
  "language_info": {
   "codemirror_mode": {
    "name": "ipython",
    "version": 3
   },
   "file_extension": ".py",
   "mimetype": "text/x-python",
   "name": "python",
   "nbconvert_exporter": "python",
   "pygments_lexer": "ipython3",
   "version": "3.8.2"
  }
 },
 "nbformat": 4,
 "nbformat_minor": 5
}
