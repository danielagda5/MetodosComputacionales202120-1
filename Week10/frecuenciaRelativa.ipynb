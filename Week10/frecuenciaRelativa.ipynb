{
 "cells": [
  {
   "cell_type": "code",
   "execution_count": 1,
   "id": "7057258d",
   "metadata": {},
   "outputs": [],
   "source": [
    "import numpy as np\n",
    "import matplotlib.pyplot as plt\n",
    "from matplotlib import rc\n",
    "from tqdm import tqdm "
   ]
  },
  {
   "cell_type": "code",
   "execution_count": 2,
   "id": "5633170b",
   "metadata": {},
   "outputs": [],
   "source": [
    "def GetFrequencies(n):\n",
    "    \n",
    "    NTimes  = 0\n",
    "    \n",
    "    for i in range(int(n)):\n",
    "        t = np.random.randint(1,7)\n",
    "        if t == 4:\n",
    "            NTimes += 1\n",
    "            \n",
    "    return NTimes / n  "
   ]
  },
  {
   "cell_type": "code",
   "execution_count": 5,
   "id": "6eca93a7",
   "metadata": {},
   "outputs": [],
   "source": [
    "n = np.logspace(1,5,30)\n",
    "\n",
    "freqr = np.zeros(len(n))\n",
    "P = freqr.copy()\n",
    "P[:] = 1./6."
   ]
  },
  {
   "cell_type": "code",
   "execution_count": 6,
   "id": "cdf69ec6",
   "metadata": {},
   "outputs": [],
   "source": [
    "for i in range(len(n)):\n",
    "    freqr[i] = GetFrequencies(n[i])"
   ]
  },
  {
   "cell_type": "code",
   "execution_count": 12,
   "id": "930d63d1",
   "metadata": {},
   "outputs": [
    {
     "data": {
      "text/plain": [
       "Text(0, 0.5, '$f_{r}$')"
      ]
     },
     "execution_count": 12,
     "metadata": {},
     "output_type": "execute_result"
    },
    {
     "data": {
      "image/png": "[encoded data removed]",
      "text/plain": [
       "<Figure size 432x288 with 1 Axes>"
      ]
     },
     "metadata": {
      "needs_background": "light"
     },
     "output_type": "display_data"
    }
   ],
   "source": [
    "plt.plot(n,freqr, linewidth=3)\n",
    "plt.plot(n,P,color='r')\n",
    "plt.xscale('log')\n",
    "plt.ylabel(r'$f_{r}$',fontsize=15)"
   ]
  },
  {
   "cell_type": "code",
   "execution_count": 49,
   "id": "f64734eb",
   "metadata": {},
   "outputs": [],
   "source": [
    "freq = []\n",
    "\n",
    "for i in range(10000):\n",
    "    d1 = np.random.randint(1,7)\n",
    "    d2 = np.random.randint(1,7)\n",
    "    freq.append(d1+d2)"
   ]
  },
  {
   "cell_type": "code",
   "execution_count": 50,
   "id": "7e20a457",
   "metadata": {},
   "outputs": [
    {
     "data": {
      "text/plain": [
       "(array([0.02992, 0.05973, 0.09009, 0.11792, 0.15378, 0.17578, 0.15851,\n",
       "        0.12848, 0.09493, 0.05874, 0.03212]),\n",
       " array([ 2.        ,  2.90909091,  3.81818182,  4.72727273,  5.63636364,\n",
       "         6.54545455,  7.45454545,  8.36363636,  9.27272727, 10.18181818,\n",
       "        11.09090909, 12.        ]),\n",
       " <a list of 11 Patch objects>)"
      ]
     },
     "execution_count": 50,
     "metadata": {},
     "output_type": "execute_result"
    },
    {
     "data": {
      "image/png": "[encoded data removed]",
      "text/plain": [
       "<Figure size 432x288 with 1 Axes>"
      ]
     },
     "metadata": {
      "needs_background": "light"
     },
     "output_type": "display_data"
    }
   ],
   "source": [
    "plt.hist(freq, bins=11, density = True)"
   ]
  },
  {
   "cell_type": "code",
   "execution_count": 51,
   "id": "0a1f28c4",
   "metadata": {},
   "outputs": [
    {
     "name": "stdout",
     "output_type": "stream",
     "text": [
      "[ 2.  3.  4.  5.  6.  7.  8.  9. 10. 11. 12. 13.]\n"
     ]
    }
   ],
   "source": [
    "x = np.linspace(2,13,12)\n",
    "print(x)"
   ]
  },
  {
   "cell_type": "code",
   "execution_count": 52,
   "id": "4f79eaba",
   "metadata": {},
   "outputs": [
    {
     "name": "stdout",
     "output_type": "stream",
     "text": [
      "[1. 1. 1. 1. 1. 1. 1. 1. 1. 1. 1.]\n"
     ]
    }
   ],
   "source": [
    "h, bins = np.histogram(freq, bins=x)\n",
    "w = np.diff(bins)\n",
    "print(w)"
   ]
  },
  {
   "cell_type": "code",
   "execution_count": 53,
   "id": "1ea567d3",
   "metadata": {},
   "outputs": [
    {
     "data": {
      "text/plain": [
       "<BarContainer object of 11 artists>"
      ]
     },
     "execution_count": 53,
     "metadata": {},
     "output_type": "execute_result"
    },
    {
     "data": {
      "image/png": "[encoded data removed]",
      "text/plain": [
       "<Figure size 432x432 with 1 Axes>"
      ]
     },
     "metadata": {
      "needs_background": "light"
     },
     "output_type": "display_data"
    }
   ],
   "source": [
    "fig = plt.figure(figsize=(6,6))\n",
    "ax = fig.add_subplot(1,1,1)\n",
    "ax.bar( bins[:-1], h, color='r', width=w, ec='k' )"
   ]
  },
  {
   "cell_type": "code",
   "execution_count": 54,
   "id": "b50714ad",
   "metadata": {},
   "outputs": [
    {
     "name": "stdout",
     "output_type": "stream",
     "text": [
      "10000\n"
     ]
    }
   ],
   "source": [
    "I = np.sum(h)\n",
    "print(I)"
   ]
  },
  {
   "cell_type": "code",
   "execution_count": 55,
   "id": "80816983",
   "metadata": {},
   "outputs": [
    {
     "name": "stdout",
     "output_type": "stream",
     "text": [
      "[0.0272 0.0543 0.0819 0.1072 0.1398 0.1598 0.1441 0.1168 0.0863 0.0534\n",
      " 0.0292]\n"
     ]
    }
   ],
   "source": [
    "hnorm = h/I\n",
    "print(hnorm)"
   ]
  },
  {
   "cell_type": "code",
   "execution_count": 58,
   "id": "38b3e1b8",
   "metadata": {},
   "outputs": [
    {
     "name": "stdout",
     "output_type": "stream",
     "text": [
      "0.5702\n"
     ]
    }
   ],
   "source": [
    "# Probabilidad de obtener una suma menor o igual que 7\n",
    "print(np.sum(hnorm[0:6]))"
   ]
  },
  {
   "cell_type": "code",
   "execution_count": null,
   "id": "8a163cee",
   "metadata": {},
   "outputs": [],
   "source": []
  }
 ],
 "metadata": {
  "kernelspec": {
   "display_name": "Python 3",
   "language": "python",
   "name": "python3"
  },
  "language_info": {
   "codemirror_mode": {
    "name": "ipython",
    "version": 3
   },
   "file_extension": ".py",
   "mimetype": "text/x-python",
   "name": "python",
   "nbconvert_exporter": "python",
   "pygments_lexer": "ipython3",
   "version": "3.8.2"
  }
 },
 "nbformat": 4,
 "nbformat_minor": 5
}
