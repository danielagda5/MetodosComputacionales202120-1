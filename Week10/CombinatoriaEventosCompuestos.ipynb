{
 "cells": [
  {
   "cell_type": "code",
   "execution_count": 1,
   "metadata": {},
   "outputs": [],
   "source": [
    "import numpy as np\n",
    "import itertools\n",
    "from itertools import permutations\n",
    "from itertools import combinations\n",
    "from itertools import combinations_with_replacement"
   ]
  },
  {
   "cell_type": "markdown",
   "metadata": {},
   "source": [
    "https://docs.python.org/es/3/library/itertools.html"
   ]
  },
  {
   "cell_type": "code",
   "execution_count": 7,
   "metadata": {},
   "outputs": [],
   "source": [
    "l1 = [1,1,2]\n",
    "l1 = [1,1,2,2,3]\n",
    "p1 = list( permutations(l1) )"
   ]
  },
  {
   "cell_type": "code",
   "execution_count": 9,
   "metadata": {},
   "outputs": [
    {
     "name": "stdout",
     "output_type": "stream",
     "text": [
      "120\n"
     ]
    }
   ],
   "source": [
    "print(len(p1))"
   ]
  },
  {
   "cell_type": "code",
   "execution_count": 10,
   "metadata": {},
   "outputs": [],
   "source": [
    "def GetP(p):\n",
    "    \n",
    "    pr = []\n",
    "    \n",
    "    for i in p:\n",
    "        if i not in pr:\n",
    "            pr.append(i)\n",
    "            \n",
    "    return pr"
   ]
  },
  {
   "cell_type": "code",
   "execution_count": 11,
   "metadata": {},
   "outputs": [],
   "source": [
    "p1 = GetP(p1)"
   ]
  },
  {
   "cell_type": "code",
   "execution_count": 13,
   "metadata": {},
   "outputs": [
    {
     "name": "stdout",
     "output_type": "stream",
     "text": [
      "30\n"
     ]
    }
   ],
   "source": [
    "print(len(p1))"
   ]
  },
  {
   "cell_type": "code",
   "execution_count": 17,
   "metadata": {},
   "outputs": [],
   "source": [
    "l2 = [1,1,2]\n",
    "c1 = list(combinations(l2,2))"
   ]
  },
  {
   "cell_type": "code",
   "execution_count": 18,
   "metadata": {},
   "outputs": [
    {
     "name": "stdout",
     "output_type": "stream",
     "text": [
      "[(1, 1), (1, 2), (1, 2)]\n"
     ]
    }
   ],
   "source": [
    "print(c1)"
   ]
  },
  {
   "cell_type": "code",
   "execution_count": 20,
   "metadata": {},
   "outputs": [],
   "source": [
    "Ntrials = 100000\n",
    "\n",
    "results = np.zeros((Ntrials,3))\n",
    "\n",
    "for i in range(Ntrials):\n",
    "    d1 = np.random.randint(1,7)\n",
    "    d2 = np.random.randint(1,7)\n",
    "    d3 = np.random.randint(1,7)\n",
    "    results[i] = [d1,d2,d3]"
   ]
  },
  {
   "cell_type": "code",
   "execution_count": 24,
   "metadata": {},
   "outputs": [
    {
     "name": "stdout",
     "output_type": "stream",
     "text": [
      "0.41429 0.4166666666666667\n"
     ]
    }
   ],
   "source": [
    "it = 0\n",
    "\n",
    "for R in results:\n",
    "    \n",
    "    for i in range(len(R)-1):\n",
    "        \n",
    "        # Ordenamos la lista\n",
    "        R.sort()\n",
    "        \n",
    "       # print(R)\n",
    "        \n",
    "        if R[i] == R[i+1]:\n",
    "            \n",
    "            a = R[i]\n",
    "            \n",
    "            if a not in R[i+2:] and a not in R[:i]:\n",
    "                \n",
    "                it += 1\n",
    "                \n",
    "print(it/Ntrials, 5./12.)"
   ]
  },
  {
   "cell_type": "code",
   "execution_count": 26,
   "metadata": {},
   "outputs": [
    {
     "name": "stdout",
     "output_type": "stream",
     "text": [
      "[1. 1. 2.]\n",
      "3\n",
      "[1. 1. 3.]\n",
      "3\n",
      "[1. 1. 4.]\n",
      "3\n",
      "[1. 1. 5.]\n",
      "3\n",
      "[1. 1. 6.]\n",
      "3\n",
      "[2. 2. 1.]\n",
      "3\n",
      "[2. 2. 3.]\n",
      "3\n",
      "[2. 2. 4.]\n",
      "3\n",
      "[2. 2. 5.]\n",
      "3\n",
      "[2. 2. 6.]\n",
      "3\n",
      "[3. 3. 1.]\n",
      "3\n",
      "[3. 3. 2.]\n",
      "3\n",
      "[3. 3. 4.]\n",
      "3\n",
      "[3. 3. 5.]\n",
      "3\n",
      "[3. 3. 6.]\n",
      "3\n",
      "[4. 4. 1.]\n",
      "3\n",
      "[4. 4. 2.]\n",
      "3\n",
      "[4. 4. 3.]\n",
      "3\n",
      "[4. 4. 5.]\n",
      "3\n",
      "[4. 4. 6.]\n",
      "3\n",
      "[5. 5. 1.]\n",
      "3\n",
      "[5. 5. 2.]\n",
      "3\n",
      "[5. 5. 3.]\n",
      "3\n",
      "[5. 5. 4.]\n",
      "3\n",
      "[5. 5. 6.]\n",
      "3\n",
      "[6. 6. 1.]\n",
      "3\n",
      "[6. 6. 2.]\n",
      "3\n",
      "[6. 6. 3.]\n",
      "3\n",
      "[6. 6. 4.]\n",
      "3\n",
      "[6. 6. 5.]\n",
      "3\n",
      "90 0.4166666666666667\n"
     ]
    }
   ],
   "source": [
    "l = np.zeros((1,3))\n",
    "it = 0\n",
    "\n",
    "for i in range(1,7):\n",
    "        for j in range(1,7):\n",
    "            for k in range(1,7):\n",
    "                \n",
    "                if i == j and j != k:      \n",
    "                \n",
    "                    l[0] = [i,j,k]\n",
    "                    print(l[0])    \n",
    "                    \n",
    "                    p = list(permutations(l[0]))\n",
    "                    print(len(GetP(p)))\n",
    "                    it += len(GetP(p))   \n",
    "                    \n",
    "                \n",
    "print(it, it/6**3)"
   ]
  },
  {
   "cell_type": "code",
   "execution_count": null,
   "metadata": {},
   "outputs": [],
   "source": []
  }
 ],
 "metadata": {
  "kernelspec": {
   "display_name": "Python 3",
   "language": "python",
   "name": "python3"
  },
  "language_info": {
   "codemirror_mode": {
    "name": "ipython",
    "version": 3
   },
   "file_extension": ".py",
   "mimetype": "text/x-python",
   "name": "python",
   "nbconvert_exporter": "python",
   "pygments_lexer": "ipython3",
   "version": "3.8.2"
  }
 },
 "nbformat": 4,
 "nbformat_minor": 4
}
