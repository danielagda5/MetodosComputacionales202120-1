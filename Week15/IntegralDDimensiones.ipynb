{
 "cells": [
  {
   "cell_type": "code",
   "execution_count": 1,
   "id": "548daa38",
   "metadata": {},
   "outputs": [],
   "source": [
    "import numpy             as np\n",
    "import matplotlib.pyplot as plt\n",
    "from tqdm import tqdm"
   ]
  },
  {
   "cell_type": "code",
   "execution_count": 7,
   "id": "74b50450",
   "metadata": {},
   "outputs": [],
   "source": [
    "def Metropolis( f, d = 2, NSteps = int(1e5), delta = 1.0 ):\n",
    "    \n",
    "    x = np.zeros( (NSteps, d) )\n",
    "    \n",
    "    for i in tqdm(range(1,NSteps)):\n",
    "        \n",
    "        x[i,:] = x[i-1,:] + (np.random.random(d)-0.5)*delta\n",
    "        \n",
    "        present = f( x[i-1,:] )\n",
    "        future = f( x[i,:] )\n",
    "        \n",
    "        # probabilidad de aceptacion\n",
    "        alpha = np.minimum(1., future/present)\n",
    "        \n",
    "        g = np.random.rand()\n",
    "        \n",
    "        if g < alpha:\n",
    "            x[i,:] = x[i,:]\n",
    "        else:\n",
    "            x[i,:] = x[i-1,:]\n",
    "            \n",
    "    return x"
   ]
  },
  {
   "cell_type": "code",
   "execution_count": 8,
   "id": "dbbd5fc1",
   "metadata": {},
   "outputs": [],
   "source": [
    "def g(x):\n",
    "    r = np.sqrt( np.sum( x**2 ) )\n",
    "    return np.exp( -r**2 )"
   ]
  },
  {
   "cell_type": "code",
   "execution_count": 14,
   "id": "b7dc026c",
   "metadata": {},
   "outputs": [
    {
     "name": "stderr",
     "output_type": "stream",
     "text": [
      "100%|██████████| 99999/99999 [00:02<00:00, 34138.39it/s]\n"
     ]
    }
   ],
   "source": [
    "x = Metropolis( g, d=3 )"
   ]
  },
  {
   "cell_type": "code",
   "execution_count": 22,
   "id": "76380391",
   "metadata": {},
   "outputs": [],
   "source": [
    "def Normalization( d = 2, sigma = 1/np.sqrt(2)):\n",
    "    return np.sqrt( (2.0*np.pi*sigma**2)**d )"
   ]
  },
  {
   "cell_type": "code",
   "execution_count": 26,
   "id": "ce1de9d4",
   "metadata": {},
   "outputs": [],
   "source": [
    "def f(x):\n",
    "    r = np.sqrt( np.sum(x*x, axis=1  ))\n",
    "    return np.cos(r)"
   ]
  },
  {
   "cell_type": "code",
   "execution_count": 29,
   "id": "00eb58c1",
   "metadata": {},
   "outputs": [],
   "source": [
    "def GetIntegral(d = 2):\n",
    "    \n",
    "    x = Metropolis(g,d=d)\n",
    "    Sample = f(x)\n",
    "    mean = np.average( Sample )\n",
    "    mean *= Normalization(d=d)\n",
    "    \n",
    "    return mean"
   ]
  },
  {
   "cell_type": "code",
   "execution_count": 30,
   "id": "d288080d",
   "metadata": {},
   "outputs": [
    {
     "name": "stderr",
     "output_type": "stream",
     "text": [
      "100%|██████████| 99999/99999 [00:02<00:00, 36708.50it/s]\n"
     ]
    },
    {
     "data": {
      "text/plain": [
       "1.819592484100605"
      ]
     },
     "execution_count": 30,
     "metadata": {},
     "output_type": "execute_result"
    }
   ],
   "source": [
    "GetIntegral(d=2)"
   ]
  },
  {
   "cell_type": "code",
   "execution_count": 31,
   "id": "70a431f7",
   "metadata": {},
   "outputs": [
    {
     "name": "stderr",
     "output_type": "stream",
     "text": [
      "100%|██████████| 99999/99999 [00:02<00:00, 36060.28it/s]\n"
     ]
    },
    {
     "data": {
      "text/plain": [
       "2.1466584329080427"
      ]
     },
     "execution_count": 31,
     "metadata": {},
     "output_type": "execute_result"
    }
   ],
   "source": [
    "GetIntegral(d=3)"
   ]
  },
  {
   "cell_type": "code",
   "execution_count": null,
   "id": "e53b1b7f",
   "metadata": {},
   "outputs": [],
   "source": []
  },
  {
   "cell_type": "code",
   "execution_count": null,
   "id": "4f6213d6",
   "metadata": {},
   "outputs": [],
   "source": []
  }
 ],
 "metadata": {
  "kernelspec": {
   "display_name": "Python 3",
   "language": "python",
   "name": "python3"
  },
  "language_info": {
   "codemirror_mode": {
    "name": "ipython",
    "version": 3
   },
   "file_extension": ".py",
   "mimetype": "text/x-python",
   "name": "python",
   "nbconvert_exporter": "python",
   "pygments_lexer": "ipython3",
   "version": "3.8.2"
  }
 },
 "nbformat": 4,
 "nbformat_minor": 5
}
