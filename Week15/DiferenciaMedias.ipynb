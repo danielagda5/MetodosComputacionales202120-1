{
 "cells": [
  {
   "cell_type": "code",
   "execution_count": 1,
   "id": "bcd47719",
   "metadata": {},
   "outputs": [],
   "source": [
    "import numpy as np\n",
    "import random\n",
    "import matplotlib.pyplot as plt\n",
    "from sklearn.utils import shuffle, resample\n",
    "from scipy.stats import chi2\n",
    "from scipy.stats import norm\n",
    "from scipy.stats import t\n",
    "from tqdm import tqdm"
   ]
  },
  {
   "cell_type": "code",
   "execution_count": 2,
   "id": "cba1e1d6",
   "metadata": {},
   "outputs": [],
   "source": [
    "def GetS(x):\n",
    "    return np.sqrt( np.sum( (x - np.mean(x))**2 )/(len(x)-1) )"
   ]
  },
  {
   "cell_type": "code",
   "execution_count": 1,
   "id": "89350c95",
   "metadata": {},
   "outputs": [],
   "source": [
    "def Getdf(n1,n2,s1,s2):\n",
    "    \n",
    "    numerator = ( s1**2/n1 + s2**2/n2 )**2\n",
    "    denominator = (s1**2/n1)**2/(n1-1) + (s2**2/n2)**2/(n2-1)\n",
    "    \n",
    "    return int( numerator/denominator )"
   ]
  },
  {
   "cell_type": "code",
   "execution_count": 3,
   "id": "3c86880d",
   "metadata": {},
   "outputs": [],
   "source": [
    "def GetHisto(L, h = 1):\n",
    "    \n",
    "    min_, max_ = np.min(L), np.max(L)\n",
    "    bins = np.arange(min_, max_+h, h)\n",
    "\n",
    "    H1, bines = np.histogram(L, bins=bins)\n",
    "    w = np.diff(bines)\n",
    "\n",
    "    m = bines[:-1] + 0.5*w[0]\n",
    "    H1Norm = H1 / np.sum(H1*w) \n",
    "\n",
    "    return H1, H1Norm, bines, m,w"
   ]
  },
  {
   "cell_type": "code",
   "execution_count": 4,
   "id": "97742741",
   "metadata": {},
   "outputs": [],
   "source": [
    "sample1 = np.array([6.0,5.0,6.5,5.0,4.0,5.0,5.0,5.0,7.0,5.5,4.5])\n",
    "sample2 = np.array([7.0,8.0,8.5,7.4,8.9,6.7,9.0,8.4,7.8,5.3,8.1])"
   ]
  },
  {
   "cell_type": "code",
   "execution_count": null,
   "id": "91b66fea",
   "metadata": {},
   "outputs": [],
   "source": []
  }
 ],
 "metadata": {
  "kernelspec": {
   "display_name": "Python 3",
   "language": "python",
   "name": "python3"
  },
  "language_info": {
   "codemirror_mode": {
    "name": "ipython",
    "version": 3
   },
   "file_extension": ".py",
   "mimetype": "text/x-python",
   "name": "python",
   "nbconvert_exporter": "python",
   "pygments_lexer": "ipython3",
   "version": "3.8.2"
  }
 },
 "nbformat": 4,
 "nbformat_minor": 5
}
